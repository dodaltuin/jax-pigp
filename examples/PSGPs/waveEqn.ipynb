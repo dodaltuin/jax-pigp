{
 "cells": [
  {
   "cell_type": "markdown",
   "id": "354a2522-d4de-469a-b9ee-0779b7d464ec",
   "metadata": {},
   "source": [
    "# Wave Equation\n",
    "\n",
    "This notebook implements the PIGP and PSGP experiments involving the wave equation from Section 4.4 of the manuscript"
   ]
  },
  {
   "cell_type": "markdown",
   "id": "029e3fae-6e54-4151-ac93-a06f0af3edc7",
   "metadata": {},
   "source": [
    "## Preliminaries "
   ]
  },
  {
   "cell_type": "markdown",
   "id": "5c6b7acf-30a8-4255-b736-821c4120d1b2",
   "metadata": {},
   "source": [
    "Whether to run computations on GPU or CPU"
   ]
  },
  {
   "cell_type": "code",
   "execution_count": 1,
   "id": "bc689119-b041-406d-9b20-84d2656cbe55",
   "metadata": {
    "execution": {
     "iopub.execute_input": "2024-05-29T09:33:45.213142Z",
     "iopub.status.busy": "2024-05-29T09:33:45.212986Z",
     "iopub.status.idle": "2024-05-29T09:33:45.215874Z",
     "shell.execute_reply": "2024-05-29T09:33:45.215530Z",
     "shell.execute_reply.started": "2024-05-29T09:33:45.213124Z"
    }
   },
   "outputs": [],
   "source": [
    "import os\n",
    "\n",
    "USE_GPU: bool = False\n",
    "\n",
    "if not USE_GPU:\n",
    "    os.environ[\"JAX_PLATFORM_NAME\"] = \"cpu\"\n",
    "else:\n",
    "    os.environ[\"CUDA_VISIBLE_DEVICES\"] = str(0)"
   ]
  },
  {
   "cell_type": "markdown",
   "id": "57ebbd34-791d-431d-91e7-a4884a7e8c01",
   "metadata": {},
   "source": [
    "Package imports"
   ]
  },
  {
   "cell_type": "code",
   "execution_count": 27,
   "id": "947edd36-379c-4c15-832a-fecedca79179",
   "metadata": {
    "execution": {
     "iopub.execute_input": "2024-05-29T09:48:59.109405Z",
     "iopub.status.busy": "2024-05-29T09:48:59.109161Z",
     "iopub.status.idle": "2024-05-29T09:48:59.114398Z",
     "shell.execute_reply": "2024-05-29T09:48:59.113923Z",
     "shell.execute_reply.started": "2024-05-29T09:48:59.109385Z"
    }
   },
   "outputs": [],
   "source": [
    "import jax.numpy as jnp\n",
    "from jax import config, random\n",
    "\n",
    "import os\n",
    "import pickle\n",
    "from numpy import savetxt\n",
    "\n",
    "# ensure that we can access jax_pigp\n",
    "import sys\n",
    "sys.path.append(\"../../\")\n",
    "\n",
    "import jax_pigp\n",
    "from jax_pigp.utility_fns import (\n",
    "    softplus,\n",
    "    generate_params,\n",
    "    PARAM_OPTIONS_DICT as param_gen_options,\n",
    ")\n",
    "from jax_pigp.base import Callable, Array\n",
    "\n",
    "from utility_fns import *\n",
    "\n",
    "# double precision prevents nans\n",
    "config.update(\"jax_enable_x64\", True)"
   ]
  },
  {
   "cell_type": "markdown",
   "id": "5acf1c36-9bf2-4681-9954-556b9b93b468",
   "metadata": {},
   "source": [
    "### Specify settings of the experiments\n",
    "\n",
    "Ensure that this cell is tagged as \"parameters\" if using [papermill](https://papermill.readthedocs.io/en/latest/)"
   ]
  },
  {
   "cell_type": "code",
   "execution_count": 3,
   "id": "ccb7f3e9-6e7a-4b41-844a-d6645233e824",
   "metadata": {
    "execution": {
     "iopub.execute_input": "2024-05-29T09:33:52.952206Z",
     "iopub.status.busy": "2024-05-29T09:33:52.951661Z",
     "iopub.status.idle": "2024-05-29T09:33:52.963587Z",
     "shell.execute_reply": "2024-05-29T09:33:52.963219Z",
     "shell.execute_reply.started": "2024-05-29T09:33:52.952186Z"
    }
   },
   "outputs": [],
   "source": [
    "# base random seed for parameter initialisation\n",
    "BASE_SEED_VAL: int = 444\n",
    "\n",
    "# whether to use a psgp or pigp, i.e. whether to incorporate symmetry information\n",
    "# into the inference or not\n",
    "GP_TYPE = \"psgp\"\n",
    "assert GP_TYPE in [\"pigp\", \"psgp\"]\n",
    "\n",
    "# number of points in u/f/g space to consider. Note: in this example we\n",
    "# can satisfy the symmetry exactly by operating on the system of canonical\n",
    "# coordinates, and therefore no psuedo-observations of the ISC are required,\n",
    "# i.e. Ng = 0\n",
    "Nu: int = 64\n",
    "Nf: int = 500\n",
    "\n",
    "# path to subdirectory in ./data where fisher-like equation data is saved\n",
    "data_save_dir: str = f\"waveEquation\"\n",
    "data_save_dir_full = os.path.join(\"data\", data_save_dir)\n",
    "assert os.path.isdir(data_save_dir_full)\n",
    "\n",
    "# dimensionality of the spatio-temporal domain (including time)\n",
    "INPUT_DIM: int = 2\n",
    "\n",
    "# in this example we incorporate symmetry information by operating on the\n",
    "# canonical coordinate system, which means that we automatically satisfy\n",
    "# the PDE, therefore no psuedo-observations of the PDE are required (i.e.\n",
    "# Nf=0), and also this reduces the dimensionality of the input space to 1\n",
    "if GP_TYPE == \"psgp\":\n",
    "    Nf = 0\n",
    "    INPUT_DIM = 1\n",
    "\n",
    "# initial value for std of noise levels in each space\n",
    "NOISE_INIT: float = 0.1\n",
    "\n",
    "# softplus transformation ensures noise values are positive\n",
    "NOISE_TRANSFORM: Callable = softplus\n",
    "\n",
    "# whether to save all test set prediction results or just summary statistics\n",
    "SAVE_ALL_PREDICTIONS: bool = False\n",
    "\n",
    "# options for model training\n",
    "N_TRAIN_STEPS: int = 25000\n",
    "N_RESTARTS: int = 3\n",
    "LR_INIT: float = 0.005\n",
    "VERBOSE: bool = False"
   ]
  },
  {
   "cell_type": "markdown",
   "id": "ade4577b-8299-4c3e-be7f-b5e50cef8156",
   "metadata": {},
   "source": [
    "### Specify mean and kernel functions"
   ]
  },
  {
   "cell_type": "code",
   "execution_count": 4,
   "id": "292de522-3bda-4b74-9f50-df8550494f60",
   "metadata": {
    "execution": {
     "iopub.execute_input": "2024-05-29T09:33:52.964390Z",
     "iopub.status.busy": "2024-05-29T09:33:52.964144Z",
     "iopub.status.idle": "2024-05-29T09:33:52.970885Z",
     "shell.execute_reply": "2024-05-29T09:33:52.970524Z",
     "shell.execute_reply.started": "2024-05-29T09:33:52.964374Z"
    }
   },
   "outputs": [],
   "source": [
    "base_kernel = jax_pigp.kernels.rational_quadratic\n",
    "\n",
    "# if using PSGP model, we implement kernel function on\n",
    "# canonical coordinate system to explicitly enforce the\n",
    "# ISC (and PDE)\n",
    "if GP_TYPE == \"psgp\":\n",
    "\n",
    "    def kernel_fn(params: dict, loc1: Array, loc2: Array):\n",
    "\n",
    "        # convert to canonical coordinates\n",
    "        z1 = loc1[0:1] - loc1[1:]\n",
    "        z2 = loc2[0:1] - loc2[1:]\n",
    "\n",
    "        return base_kernel(params, z1, z2)\n",
    "\n",
    "else:\n",
    "    kernel_fn = base_kernel\n",
    "\n",
    "mean_fn = jax_pigp.mean_functions.zero_mean_fn"
   ]
  },
  {
   "cell_type": "markdown",
   "id": "b80966b9-4e25-481d-ba00-141f63666c4d",
   "metadata": {},
   "source": [
    "### Specify linear differential operators\n",
    "\n",
    "Recall that the wave PDE over one spatial dimension takes the form\n",
    "\n",
    "$$PDE[u]  = \\frac{\\partial^2 u}{\\partial t^2} - \\frac{\\partial^2 u}{\\partial x^2} = f = 0,$$\n",
    "\n",
    "or, in shorthand notation (see Eq.(28) of the paper):\n",
    "\n",
    "$$PDE[u] = u_{tt} - u_{xx} = f = 0.$$\n",
    "\n",
    "##### Implementation: \n",
    "\n",
    "* We define a dummy linear operator for solution-space (i.e. $u$-space) data which is just the identity transformation\n",
    "* The wave PDE can be applied to a given input function by calling ``apply_PDE`` as defined below\n",
    "* The Wave ISC (see Eq.(30) of the paper) does not need to be implemented as it can be explicitly enforced by operating on the canonical coordinate system"
   ]
  },
  {
   "cell_type": "code",
   "execution_count": 5,
   "id": "c1a5845f-e787-4521-bfd1-8da78c8296b6",
   "metadata": {
    "execution": {
     "iopub.execute_input": "2024-05-29T09:33:52.972585Z",
     "iopub.status.busy": "2024-05-29T09:33:52.972296Z",
     "iopub.status.idle": "2024-05-29T09:33:52.975646Z",
     "shell.execute_reply": "2024-05-29T09:33:52.975247Z",
     "shell.execute_reply.started": "2024-05-29T09:33:52.972568Z"
    }
   },
   "outputs": [],
   "source": [
    "def apply_Identity(fn: Callable, argnum: int = 1):\n",
    "    r\"\"\"\n",
    "    Dummy identity transformation for u-space data\n",
    "    \"\"\"\n",
    "    return fn\n",
    "\n",
    "\n",
    "def apply_PDE(fn: Callable, argnum: int = 1):\n",
    "    r\"\"\"\n",
    "    Applies the Wave PDE to given input\n",
    "    fn, evaluated at specified argnum\n",
    "    \"\"\"\n",
    "\n",
    "    # the Hessian function\n",
    "    _, Hfn = jac_hess(fn, argnum)\n",
    "\n",
    "    def PDE(params: dict, loc1: Array, *loc2: Array):\n",
    "        ## Note: we assume spatial value comes before temporal\n",
    "        ## value in loc1 / loc2\n",
    "\n",
    "        uxx_val, utt_val = jnp.diag(Hfn(params, loc1, *loc2))\n",
    "\n",
    "        return utt_val - uxx_val\n",
    "\n",
    "    return PDE\n",
    "\n",
    "\n",
    "linear_operators = [apply_Identity, apply_PDE]"
   ]
  },
  {
   "cell_type": "markdown",
   "id": "56d4fa26-47ad-41ff-8f73-53cf5370f5fb",
   "metadata": {},
   "source": [
    "### Store settings"
   ]
  },
  {
   "cell_type": "markdown",
   "id": "80f48c46-7064-40b6-8633-73cc89c5e9b1",
   "metadata": {},
   "source": [
    "Store optimisation options in a dictionary"
   ]
  },
  {
   "cell_type": "code",
   "execution_count": 6,
   "id": "a6771a0f-35f9-4651-b1f0-0006c7e5f8a3",
   "metadata": {
    "execution": {
     "iopub.execute_input": "2024-05-29T09:33:52.976469Z",
     "iopub.status.busy": "2024-05-29T09:33:52.976201Z",
     "iopub.status.idle": "2024-05-29T09:33:52.980907Z",
     "shell.execute_reply": "2024-05-29T09:33:52.980499Z",
     "shell.execute_reply.started": "2024-05-29T09:33:52.976453Z"
    }
   },
   "outputs": [],
   "source": [
    "opt_options = {}\n",
    "opt_options[\"n_steps\"] = N_TRAIN_STEPS\n",
    "opt_options[\"n_restarts\"] = N_RESTARTS\n",
    "opt_options[\"lr\"] = LR_INIT\n",
    "opt_options[\"verbose\"] = VERBOSE\n",
    "opt_options[\"noise_transform\"] = NOISE_TRANSFORM"
   ]
  },
  {
   "cell_type": "markdown",
   "id": "df695a24-3dc2-4dfb-b410-5f24ecf6f447",
   "metadata": {},
   "source": [
    "Specify parameter initialisation function"
   ]
  },
  {
   "cell_type": "code",
   "execution_count": 7,
   "id": "58667009-064e-492d-8573-bcc5af9b71e3",
   "metadata": {
    "execution": {
     "iopub.execute_input": "2024-05-29T09:33:52.981780Z",
     "iopub.status.busy": "2024-05-29T09:33:52.981458Z",
     "iopub.status.idle": "2024-05-29T09:33:52.986074Z",
     "shell.execute_reply": "2024-05-29T09:33:52.985697Z",
     "shell.execute_reply.started": "2024-05-29T09:33:52.981763Z"
    }
   },
   "outputs": [],
   "source": [
    "param_gen_options[\"input_dim\"] = INPUT_DIM\n",
    "# each function space gets its own noise level\n",
    "param_gen_options[\"noise_std_init\"] = [NOISE_INIT]*len(linear_operators)\n",
    "param_gen_options[\"noise_transform\"] = NOISE_TRANSFORM\n",
    "\n",
    "# randomly samples kernel parameter values given an input seed\n",
    "generate_params_fn = lambda seed: generate_params(seed, param_gen_options)"
   ]
  },
  {
   "cell_type": "markdown",
   "id": "46e9f0f3-907a-4386-bdc9-b2d32b840105",
   "metadata": {},
   "source": [
    "Create a directory to save the results "
   ]
  },
  {
   "cell_type": "code",
   "execution_count": 8,
   "id": "b93cc163-8ab5-4133-a986-20e730be2986",
   "metadata": {
    "execution": {
     "iopub.execute_input": "2024-05-29T09:33:52.986930Z",
     "iopub.status.busy": "2024-05-29T09:33:52.986620Z",
     "iopub.status.idle": "2024-05-29T09:33:52.991729Z",
     "shell.execute_reply": "2024-05-29T09:33:52.991335Z",
     "shell.execute_reply.started": "2024-05-29T09:33:52.986914Z"
    }
   },
   "outputs": [],
   "source": [
    "results_save_dir = os.path.join(\"results\", data_save_dir + f\"{GP_TYPE}_Nu_{Nu}\")\n",
    "if not os.path.isdir(results_save_dir):\n",
    "    os.makedirs(results_save_dir)"
   ]
  },
  {
   "cell_type": "markdown",
   "id": "9b71e326-858b-4f8c-bc7e-bc77fbb04fff",
   "metadata": {},
   "source": [
    "## Data and model initialisation"
   ]
  },
  {
   "cell_type": "markdown",
   "id": "6d381c43-b7a7-4eee-b22d-6dcaddd09e04",
   "metadata": {},
   "source": [
    "### Load train and test data"
   ]
  },
  {
   "cell_type": "code",
   "execution_count": 9,
   "id": "001f0e4b-7ccd-499d-8ec7-5d785dffa027",
   "metadata": {
    "execution": {
     "iopub.execute_input": "2024-05-29T09:33:52.992250Z",
     "iopub.status.busy": "2024-05-29T09:33:52.992107Z",
     "iopub.status.idle": "2024-05-29T09:33:53.168974Z",
     "shell.execute_reply": "2024-05-29T09:33:53.168510Z",
     "shell.execute_reply.started": "2024-05-29T09:33:52.992236Z"
    }
   },
   "outputs": [],
   "source": [
    "train_data, test_data = load_data(data_save_dir_full, Nu, Nf)"
   ]
  },
  {
   "cell_type": "markdown",
   "id": "a4a48e84-7cca-4b64-a46d-a6244fcbbf16",
   "metadata": {},
   "source": [
    "Check shapes of train and test data"
   ]
  },
  {
   "cell_type": "code",
   "execution_count": 10,
   "id": "af173916-ea9e-45f5-9112-b1683c08b2b6",
   "metadata": {
    "execution": {
     "iopub.execute_input": "2024-05-29T09:33:53.170019Z",
     "iopub.status.busy": "2024-05-29T09:33:53.169721Z",
     "iopub.status.idle": "2024-05-29T09:33:53.176193Z",
     "shell.execute_reply": "2024-05-29T09:33:53.175843Z",
     "shell.execute_reply.started": "2024-05-29T09:33:53.170001Z"
    }
   },
   "outputs": [
    {
     "data": {
      "text/plain": [
       "((64, 1), (8000, 1), [(64, 2), (0, 2)])"
      ]
     },
     "execution_count": 10,
     "metadata": {},
     "output_type": "execute_result"
    }
   ],
   "source": [
    "train_data.ytrain.shape, test_data.us.shape, [X.shape for X in train_data.Xtrain]"
   ]
  },
  {
   "cell_type": "markdown",
   "id": "d0ae6c47-c30a-4f5d-9b77-c2e525216e13",
   "metadata": {},
   "source": [
    "### Initialise PIGP model"
   ]
  },
  {
   "cell_type": "code",
   "execution_count": 11,
   "id": "6506737d-3eec-4592-acf5-9e5485da9c94",
   "metadata": {
    "execution": {
     "iopub.execute_input": "2024-05-29T09:33:53.177039Z",
     "iopub.status.busy": "2024-05-29T09:33:53.176772Z",
     "iopub.status.idle": "2024-05-29T09:33:53.183457Z",
     "shell.execute_reply": "2024-05-29T09:33:53.182998Z",
     "shell.execute_reply.started": "2024-05-29T09:33:53.177023Z"
    }
   },
   "outputs": [],
   "source": [
    "wave_kernel_fns = jax_pigp.interdomain_moments.InterdomainKernelFns(\n",
    "    kernel_fn, linear_operators\n",
    ")\n",
    "wave_mean_fns = jax_pigp.interdomain_moments.InterdomainMeanFns(\n",
    "    mean_fn, linear_operators\n",
    ")\n",
    "\n",
    "gp_model = jax_pigp.models.GPR(wave_kernel_fns, wave_mean_fns)"
   ]
  },
  {
   "cell_type": "markdown",
   "id": "d2d89230-1c23-4827-8d9b-093bdfa57715",
   "metadata": {},
   "source": [
    "### Initialise learner for model training"
   ]
  },
  {
   "cell_type": "code",
   "execution_count": 12,
   "id": "76bf0448-abbe-44f4-b77b-c1cc7505ae92",
   "metadata": {
    "execution": {
     "iopub.execute_input": "2024-05-29T09:33:53.184370Z",
     "iopub.status.busy": "2024-05-29T09:33:53.184041Z",
     "iopub.status.idle": "2024-05-29T09:33:53.624724Z",
     "shell.execute_reply": "2024-05-29T09:33:53.624253Z",
     "shell.execute_reply.started": "2024-05-29T09:33:53.184305Z"
    }
   },
   "outputs": [],
   "source": [
    "obj_fn_train = lambda params: -gp_model.log_marginal_likelihood(params, train_data)\n",
    "\n",
    "gp_learner = jax_pigp.optimisers.AdamLearner(\n",
    "    obj_fn_train, opt_options, generate_params_fn, random.PRNGKey(BASE_SEED_VAL)\n",
    ")"
   ]
  },
  {
   "cell_type": "markdown",
   "id": "911dfdc1-192e-416e-83c0-41c363eaf40e",
   "metadata": {},
   "source": [
    "Initial parameter values  "
   ]
  },
  {
   "cell_type": "code",
   "execution_count": 13,
   "id": "fdfa69d9-ca03-4ac7-ba4d-dedfe2d13ab0",
   "metadata": {
    "execution": {
     "iopub.execute_input": "2024-05-29T09:33:53.627953Z",
     "iopub.status.busy": "2024-05-29T09:33:53.626894Z",
     "iopub.status.idle": "2024-05-29T09:33:53.658070Z",
     "shell.execute_reply": "2024-05-29T09:33:53.657669Z",
     "shell.execute_reply.started": "2024-05-29T09:33:53.627932Z"
    }
   },
   "outputs": [
    {
     "name": "stdout",
     "output_type": "stream",
     "text": [
      "amp: [11.12904922]\n",
      "ls: [4.85472364]\n",
      "alpha: [20.70434987]\n",
      "noise_std: [0.1 0.1]\n"
     ]
    }
   ],
   "source": [
    "print_param_values(gp_learner.params, opt_options)"
   ]
  },
  {
   "cell_type": "markdown",
   "id": "afd94393-fbe4-4875-9684-2052d0a8db52",
   "metadata": {},
   "source": [
    "Objective function value for initial parameters"
   ]
  },
  {
   "cell_type": "code",
   "execution_count": 14,
   "id": "e6d2c7ce-19b8-401b-b8ac-fc4a9ada7805",
   "metadata": {
    "execution": {
     "iopub.execute_input": "2024-05-29T09:33:53.660822Z",
     "iopub.status.busy": "2024-05-29T09:33:53.659842Z",
     "iopub.status.idle": "2024-05-29T09:33:58.380685Z",
     "shell.execute_reply": "2024-05-29T09:33:58.380208Z",
     "shell.execute_reply.started": "2024-05-29T09:33:53.660802Z"
    }
   },
   "outputs": [
    {
     "data": {
      "text/plain": [
       "Array(5.31254237, dtype=float64)"
      ]
     },
     "execution_count": 14,
     "metadata": {},
     "output_type": "execute_result"
    }
   ],
   "source": [
    "gp_model.log_marginal_likelihood(gp_learner.params, train_data)"
   ]
  },
  {
   "cell_type": "markdown",
   "id": "b5783ebc-9d80-4b78-86ec-2a3281057cac",
   "metadata": {},
   "source": [
    "Gradient of the objective function with respect to the initial parameters"
   ]
  },
  {
   "cell_type": "code",
   "execution_count": 15,
   "id": "fa0404f8-c22e-4bdf-b552-74adafb415ee",
   "metadata": {
    "execution": {
     "iopub.execute_input": "2024-05-29T09:33:58.383418Z",
     "iopub.status.busy": "2024-05-29T09:33:58.382438Z",
     "iopub.status.idle": "2024-05-29T09:34:04.924940Z",
     "shell.execute_reply": "2024-05-29T09:34:04.916886Z",
     "shell.execute_reply.started": "2024-05-29T09:33:58.383398Z"
    }
   },
   "outputs": [
    {
     "data": {
      "text/plain": [
       "(Array(-5.31254237, dtype=float64),\n",
       " {'alpha': Array([0.74152475], dtype=float64),\n",
       "  'amp': Array([-2.80592557], dtype=float64),\n",
       "  'ls': Array([71.5624615], dtype=float64),\n",
       "  'noise_std': Array([6.93216644, 0.        ], dtype=float64)})"
      ]
     },
     "execution_count": 15,
     "metadata": {},
     "output_type": "execute_result"
    }
   ],
   "source": [
    "gp_learner.grad_obj_fn(gp_learner.params)"
   ]
  },
  {
   "cell_type": "markdown",
   "id": "fe399d56-db76-4bba-b4a6-099a0250e24a",
   "metadata": {},
   "source": [
    "## Training "
   ]
  },
  {
   "cell_type": "markdown",
   "id": "bd752d5d-18f0-4673-89af-2961805b7068",
   "metadata": {},
   "source": [
    "[JIT compile](https://jax.readthedocs.io/en/latest/jit-compilation.html) the ``update_one_step`` method by evaluating it once, then train model for specified number of steps/restarts."
   ]
  },
  {
   "cell_type": "code",
   "execution_count": 16,
   "id": "84d24991-4922-47de-8616-0d823ed16a5d",
   "metadata": {
    "execution": {
     "iopub.execute_input": "2024-05-29T09:34:04.928919Z",
     "iopub.status.busy": "2024-05-29T09:34:04.925628Z",
     "iopub.status.idle": "2024-05-29T09:34:06.979673Z",
     "shell.execute_reply": "2024-05-29T09:34:06.977347Z",
     "shell.execute_reply.started": "2024-05-29T09:34:04.928901Z"
    }
   },
   "outputs": [],
   "source": [
    "_ = gp_learner.update_one_step(gp_learner.params, gp_learner.opt_state)"
   ]
  },
  {
   "cell_type": "code",
   "execution_count": 17,
   "id": "f91eb401-e484-4d50-9f6e-3c0d3fb2172b",
   "metadata": {
    "execution": {
     "iopub.execute_input": "2024-05-29T09:34:06.982302Z",
     "iopub.status.busy": "2024-05-29T09:34:06.982065Z",
     "iopub.status.idle": "2024-05-29T09:46:16.840930Z",
     "shell.execute_reply": "2024-05-29T09:46:16.840266Z",
     "shell.execute_reply.started": "2024-05-29T09:34:06.982278Z"
    }
   },
   "outputs": [
    {
     "name": "stdout",
     "output_type": "stream",
     "text": [
      "gp_type=psgp, with Nu=64, Nf=0, n_steps=25000, n_restarts=3\n",
      "\n",
      "Restart 0: beginning training for 25000 steps\n",
      "Final training results: \n",
      "(24999): -52.4505, noise_std_vals = [6.63e-02,1.00e-01]\n",
      "\n",
      "\n",
      "Restart 1: beginning training for 25000 steps\n",
      "Final training results: \n",
      "(24999): -52.4533, noise_std_vals = [6.63e-02,1.00e-01]\n",
      "\n",
      "\n",
      "Restart 2: beginning training for 25000 steps\n",
      "Final training results: \n",
      "(24999): -52.4651, noise_std_vals = [6.63e-02,1.00e-01]\n",
      "\n",
      "\n"
     ]
    }
   ],
   "source": [
    "print(\n",
    "    f\"gp_type={GP_TYPE}, with Nu={Nu}, Nf={Nf}, n_steps={opt_options['n_steps']}, n_restarts={opt_options['n_restarts']}\\n\"\n",
    ")\n",
    "gp_learner.train_with_restarts(\n",
    "    opt_options[\"n_steps\"],\n",
    "    opt_options[\"n_restarts\"],\n",
    "    print_progress=opt_options[\"verbose\"],\n",
    ")"
   ]
  },
  {
   "cell_type": "markdown",
   "id": "d3f8a4ca-4635-4351-8976-8d5c8edc0d03",
   "metadata": {},
   "source": [
    "Uncomment below to continue training from existing parameter values:"
   ]
  },
  {
   "cell_type": "code",
   "execution_count": 18,
   "id": "b629bdf2-e273-4f77-80db-2230af817e9a",
   "metadata": {
    "execution": {
     "iopub.execute_input": "2024-05-29T09:46:16.843080Z",
     "iopub.status.busy": "2024-05-29T09:46:16.842091Z",
     "iopub.status.idle": "2024-05-29T09:46:16.848365Z",
     "shell.execute_reply": "2024-05-29T09:46:16.847881Z",
     "shell.execute_reply.started": "2024-05-29T09:46:16.843055Z"
    }
   },
   "outputs": [],
   "source": [
    "# gp_learner.train(opt_options[\"n_steps\"])"
   ]
  },
  {
   "cell_type": "markdown",
   "id": "b1f16ab0-0d14-4fe3-91fc-d1e7fc81b050",
   "metadata": {},
   "source": [
    "### Plot training results"
   ]
  },
  {
   "cell_type": "code",
   "execution_count": 24,
   "id": "061db8ab-98a1-4ad9-b5a6-a4215affbcc9",
   "metadata": {
    "execution": {
     "iopub.execute_input": "2024-05-29T09:47:42.600162Z",
     "iopub.status.busy": "2024-05-29T09:47:42.599896Z",
     "iopub.status.idle": "2024-05-29T09:47:42.811602Z",
     "shell.execute_reply": "2024-05-29T09:47:42.811075Z",
     "shell.execute_reply.started": "2024-05-29T09:47:42.600143Z"
    }
   },
   "outputs": [
    {
     "data": {
      "image/png": "[encoded data removed]",
      "text/plain": [
       "<Figure size 400x300 with 1 Axes>"
      ]
     },
     "metadata": {},
     "output_type": "display_data"
    }
   ],
   "source": [
    "fig, ax = plt.subplots(nrows=1, ncols=1, figsize=ONE_COLUMN_FIGSIZE)\n",
    "\n",
    "begin_at = int(len(gp_learner.obj_list) * 0.05)\n",
    "\n",
    "plot_lc(ax, gp_learner.obj_list[begin_at:], \"Objective Function\")\n",
    "\n",
    "fig.tight_layout()\n",
    "\n",
    "plt.savefig(os.path.join(results_save_dir, \"learningCurves.pdf\"))"
   ]
  },
  {
   "cell_type": "markdown",
   "id": "e1c726ce-f6da-4571-8166-4f100ab16b60",
   "metadata": {},
   "source": [
    "### Final trained parameter values"
   ]
  },
  {
   "cell_type": "code",
   "execution_count": 20,
   "id": "7d7749e8-0789-4dd2-b088-96a713ea8db0",
   "metadata": {
    "execution": {
     "iopub.execute_input": "2024-05-29T09:46:17.377821Z",
     "iopub.status.busy": "2024-05-29T09:46:17.377493Z",
     "iopub.status.idle": "2024-05-29T09:46:17.385171Z",
     "shell.execute_reply": "2024-05-29T09:46:17.384506Z",
     "shell.execute_reply.started": "2024-05-29T09:46:17.377802Z"
    }
   },
   "outputs": [
    {
     "name": "stdout",
     "output_type": "stream",
     "text": [
      "set trained_params to gp_learner.params_best\n",
      "\n",
      "alpha: [119.83775668]\n",
      "amp: [2.63179913]\n",
      "ls: [2.7667787]\n",
      "noise_std: [0.06630704 0.1       ]\n"
     ]
    }
   ],
   "source": [
    "# extract final trained parameter values\n",
    "try:\n",
    "    trained_params = gp_learner.params_best.copy()\n",
    "    print(f'set trained_params to gp_learner.params_best\\n')\n",
    "except:\n",
    "    trained_params = gp_learner.params.copy()\n",
    "    print(f'set trained_params to gp_learner.params\\n')\n",
    "\n",
    "# print the values of the trained parameters\n",
    "print_param_values(trained_params, opt_options)\n",
    "\n",
    "# save trained parameters\n",
    "param_save_path = os.path.join(results_save_dir, \"trained_params.pkl\")\n",
    "with open(param_save_path, \"wb\") as fp:\n",
    "    pickle.dump(trained_params, fp)"
   ]
  },
  {
   "cell_type": "markdown",
   "id": "6391ff3f-e321-454b-be42-45f173e754c9",
   "metadata": {},
   "source": [
    "Can load pre-trained parameters by uncommenting the below"
   ]
  },
  {
   "cell_type": "code",
   "execution_count": 21,
   "id": "044e6b92-c41f-46f7-9fa6-c99bb2fdf9f7",
   "metadata": {
    "execution": {
     "iopub.execute_input": "2024-05-29T09:46:17.385975Z",
     "iopub.status.busy": "2024-05-29T09:46:17.385796Z",
     "iopub.status.idle": "2024-05-29T09:46:17.389420Z",
     "shell.execute_reply": "2024-05-29T09:46:17.388963Z",
     "shell.execute_reply.started": "2024-05-29T09:46:17.385958Z"
    }
   },
   "outputs": [],
   "source": [
    "# with open(param_save_path, 'rb') as f:\n",
    "    # trained_params = pickle.load(f)"
   ]
  },
  {
   "cell_type": "markdown",
   "id": "e33bc444-5fff-4f0b-8507-4985eea193e0",
   "metadata": {},
   "source": [
    "## Test set results\n",
    "\n",
    "Evaluate posterior distribution at test points, using hyper-parameter values ``trained_params`` obtained during training phase."
   ]
  },
  {
   "cell_type": "code",
   "execution_count": 22,
   "id": "f874b8dc-a850-4644-b1a7-bbc7da8e7dda",
   "metadata": {
    "execution": {
     "iopub.execute_input": "2024-05-29T09:46:17.390181Z",
     "iopub.status.busy": "2024-05-29T09:46:17.390010Z",
     "iopub.status.idle": "2024-05-29T09:46:20.660630Z",
     "shell.execute_reply": "2024-05-29T09:46:20.659866Z",
     "shell.execute_reply.started": "2024-05-29T09:46:17.390166Z"
    }
   },
   "outputs": [
    {
     "name": "stdout",
     "output_type": "stream",
     "text": [
      "Posterior results for psgp, with Nu=64, Nf=0, Ns=8000\n",
      "mean/max loss: 3.950030e-02/9.567e-01\n"
     ]
    }
   ],
   "source": [
    "# posterior mean and covariance over test points\n",
    "print(\n",
    "    f\"Posterior results for {GP_TYPE}, with Nu={Nu}, Nf={Nf}, Ns={test_data.Xs.shape[0]}\"\n",
    ")\n",
    "# posterior mean and covariance over test outputs us\n",
    "mu, Sigma = gp_model.posterior_predict(trained_params, train_data, test_data.Xs)\n",
    "\n",
    "# standard deviation of prediction at each test point\n",
    "s = jnp.diag(Sigma) ** 0.5\n",
    "\n",
    "# save predictions\n",
    "if SAVE_ALL_PREDICTIONS:\n",
    "    jnp.save(os.path.join(results_save_dir, \"u_pred.npy\"), mu)\n",
    "    jnp.save(os.path.join(results_save_dir, \"s_pred.npy\"), s)\n",
    "\n",
    "# test set prediction error\n",
    "abs_losses = jnp.abs(mu - test_data.us)\n",
    "print(f\"mean/max loss: {abs_losses.mean():3e}/{abs_losses.max():.3e}\")\n",
    "savetxt(\n",
    "    os.path.join(results_save_dir, \"mean_loss.txt\"), abs_losses.mean().reshape(-1, 1)\n",
    ")"
   ]
  },
  {
   "cell_type": "markdown",
   "id": "a6f288da-d6ea-4be6-9801-eef294e42009",
   "metadata": {},
   "source": [
    "### Plots of posterior prediction"
   ]
  },
  {
   "cell_type": "code",
   "execution_count": 23,
   "id": "300170da-c0f6-4f85-bb9c-d1b884a4d0bf",
   "metadata": {
    "execution": {
     "iopub.execute_input": "2024-05-29T09:46:20.661967Z",
     "iopub.status.busy": "2024-05-29T09:46:20.661655Z",
     "iopub.status.idle": "2024-05-29T09:46:22.123142Z",
     "shell.execute_reply": "2024-05-29T09:46:22.122498Z",
     "shell.execute_reply.started": "2024-05-29T09:46:20.661947Z"
    }
   },
   "outputs": [
    {
     "data": {
      "image/png": "[encoded data removed]",
      "text/plain": [
       "<Figure size 1200x300 with 6 Axes>"
      ]
     },
     "metadata": {},
     "output_type": "display_data"
    }
   ],
   "source": [
    "fig, axes = plt.subplots(nrows=1, ncols=3, figsize=THREE_COLUMN_FIGSIZE)\n",
    "\n",
    "Nx = len(jnp.unique(test_data.Xs[:, 0]))\n",
    "Nt = len(jnp.unique(test_data.Xs[:, 1]))\n",
    "\n",
    "Xu, Xf = train_data.Xtrain\n",
    "\n",
    "make_heatmap_wave = lambda ax, output, title=None: make_heatmap(\n",
    "    fig, ax, output.reshape(Nt, Nx).T, test_data, Xu, Xf, title\n",
    ")\n",
    "\n",
    "make_heatmap_wave(axes[0], test_data.us, title=\"u_true\")\n",
    "make_heatmap_wave(axes[1], mu, title=f\"u_pred, {GP_TYPE}\")\n",
    "make_heatmap_wave(axes[2], abs_losses, title=f\"err_u (mean = {abs_losses.mean():.3e})\")\n",
    "\n",
    "fig.tight_layout()\n",
    "\n",
    "plt.savefig(os.path.join(results_save_dir, \"posteriorPrediction.pdf\"))"
   ]
  }
 ],
 "metadata": {
  "kernelspec": {
   "display_name": "Python 3 (ipykernel)",
   "language": "python",
   "name": "python3"
  },
  "language_info": {
   "codemirror_mode": {
    "name": "ipython",
    "version": 3
   },
   "file_extension": ".py",
   "mimetype": "text/x-python",
   "name": "python",
   "nbconvert_exporter": "python",
   "pygments_lexer": "ipython3",
   "version": "3.12.2"
  }
 },
 "nbformat": 4,
 "nbformat_minor": 5
}
