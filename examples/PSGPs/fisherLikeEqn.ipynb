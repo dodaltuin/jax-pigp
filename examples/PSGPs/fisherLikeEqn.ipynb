{
 "cells": [
  {
   "cell_type": "markdown",
   "id": "354a2522-d4de-469a-b9ee-0779b7d464ec",
   "metadata": {},
   "source": [
    "# Fisher-like Equation\n",
    "\n",
    "This notebook implements the PIGP and PSGP experiments involving the Fisher-like equation from Section 4.2 of the manuscript"
   ]
  },
  {
   "cell_type": "markdown",
   "id": "029e3fae-6e54-4151-ac93-a06f0af3edc7",
   "metadata": {},
   "source": [
    "## Preliminaries "
   ]
  },
  {
   "cell_type": "markdown",
   "id": "5f7b028b-c908-491c-9292-621adb7480f2",
   "metadata": {},
   "source": [
    "Whether to run computations on GPU or CPU"
   ]
  },
  {
   "cell_type": "code",
   "execution_count": 3,
   "id": "dd61725a-47be-47b3-a5ba-81ec2eb7e470",
   "metadata": {
    "execution": {
     "iopub.execute_input": "2024-05-31T10:31:01.836675Z",
     "iopub.status.busy": "2024-05-31T10:31:01.835923Z",
     "iopub.status.idle": "2024-05-31T10:31:01.840416Z",
     "shell.execute_reply": "2024-05-31T10:31:01.839722Z",
     "shell.execute_reply.started": "2024-05-31T10:31:01.836643Z"
    }
   },
   "outputs": [],
   "source": [
    "import os\n",
    "\n",
    "USE_GPU: bool = True\n",
    "\n",
    "if not USE_GPU:\n",
    "    os.environ[\"JAX_PLATFORM_NAME\"] = \"cpu\"\n",
    "else:\n",
    "    os.environ[\"CUDA_VISIBLE_DEVICES\"] = str(0)"
   ]
  },
  {
   "cell_type": "markdown",
   "id": "5cd46a03-2356-4941-8bf2-80e96db633bd",
   "metadata": {},
   "source": [
    "Package imports"
   ]
  },
  {
   "cell_type": "code",
   "execution_count": 5,
   "id": "375930ea-2bb8-408c-b1d9-a4470bec9f4b",
   "metadata": {
    "execution": {
     "iopub.execute_input": "2024-05-31T10:31:29.749740Z",
     "iopub.status.busy": "2024-05-31T10:31:29.748578Z",
     "iopub.status.idle": "2024-05-31T10:31:29.755902Z",
     "shell.execute_reply": "2024-05-31T10:31:29.754850Z",
     "shell.execute_reply.started": "2024-05-31T10:31:29.749687Z"
    }
   },
   "outputs": [],
   "source": [
    "import jax.numpy as jnp\n",
    "from jax import config, random\n",
    "\n",
    "import os\n",
    "import pickle\n",
    "from numpy import savetxt\n",
    "\n",
    "# ensure that we can access jax_pigp\n",
    "import sys\n",
    "\n",
    "sys.path.append(\"../../\")\n",
    "\n",
    "import jax_pigp\n",
    "from jax_pigp.utility_fns import (\n",
    "    softplus,\n",
    "    generate_params,\n",
    "    PARAM_OPTIONS_DICT as param_gen_options,\n",
    ")\n",
    "from jax_pigp.base import Callable, Array\n",
    "\n",
    "from utility_fns import *\n",
    "\n",
    "# double precision prevents nans\n",
    "config.update(\"jax_enable_x64\", True)"
   ]
  },
  {
   "cell_type": "markdown",
   "id": "611ffbaa-57a5-465c-8127-14c51a9908c4",
   "metadata": {},
   "source": [
    "### Specify settings of the experiments\n",
    "\n",
    "Ensure that this cell is tagged as \"parameters\" if using [papermill](https://papermill.readthedocs.io/en/latest/)"
   ]
  },
  {
   "cell_type": "code",
   "execution_count": 3,
   "id": "ccb7f3e9-6e7a-4b41-844a-d6645233e824",
   "metadata": {
    "execution": {
     "iopub.execute_input": "2024-05-29T11:05:02.464511Z",
     "iopub.status.busy": "2024-05-29T11:05:02.464021Z",
     "iopub.status.idle": "2024-05-29T11:05:02.469834Z",
     "shell.execute_reply": "2024-05-29T11:05:02.469303Z",
     "shell.execute_reply.started": "2024-05-29T11:05:02.464490Z"
    }
   },
   "outputs": [],
   "source": [
    "# base random seed for parameter initialisation\n",
    "BASE_SEED_VAL: int = 3001\n",
    "\n",
    "# whether to use a psgp or pigp, i.e. whether to incorporate symmetry information\n",
    "# into the inference or not\n",
    "GP_TYPE = \"psgp\"\n",
    "assert GP_TYPE in [\"pigp\", \"psgp\"]\n",
    "\n",
    "# Number of PDE/ISC collocation points to use for inference\n",
    "N_COLLOCATION_POINTS: int = 128  # values 16, 32, 64, 128 considered in paper\n",
    "Nu: int = 0  # no u-space observations used in this experiment\n",
    "Nf: int = N_COLLOCATION_POINTS\n",
    "# for pigp, no ISC data is incorporated so Ng = 0 in this case\n",
    "Ng: int = N_COLLOCATION_POINTS if GP_TYPE == \"psgp\" else 0\n",
    "\n",
    "# number of sub-linear differential operators required in specification\n",
    "# of F, the algebraic representation of the PDE. In this case, we have\n",
    "# two: Lf0 and Lf1, which are specified below\n",
    "N_Lf: int = 2\n",
    "\n",
    "# formula for calculating the dimensionality of the latent vector h\n",
    "Nh: int = Nu + N_Lf * Nf + Ng\n",
    "## Note: see Section 3.1 of the manuscript for a description of h\n",
    "\n",
    "# path to subdirectory in ./data where fisher-like equation data is saved\n",
    "data_save_dir: str = f\"fisherLikeEquation\"\n",
    "data_save_dir_full = os.path.join(\"data\", data_save_dir)\n",
    "assert os.path.isdir(data_save_dir_full)\n",
    "\n",
    "# dimensionality of the spatio-temporal domain (including time)\n",
    "INPUT_DIM: int = 2\n",
    "\n",
    "# initial value for std of noise levels in each space\n",
    "NOISE_INIT: float = 0.1\n",
    "\n",
    "# we use softplus transformation to ensure noise values are positive\n",
    "NOISE_TRANSFORM: Callable = softplus\n",
    "\n",
    "# whether to save all test set prediction results or just summary statistics\n",
    "SAVE_ALL_PREDICTIONS: bool = False\n",
    "\n",
    "# options for model training\n",
    "N_TRAIN_STEPS: int = 100000\n",
    "N_RESTARTS: int = 1\n",
    "LR_INIT: float = 1e-4\n",
    "VERBOSE: bool = True"
   ]
  },
  {
   "cell_type": "markdown",
   "id": "ade4577b-8299-4c3e-be7f-b5e50cef8156",
   "metadata": {},
   "source": [
    "### Specify mean and kernel functions\n",
    "\n",
    "For the PIGP and PSGP models. The mean and kernel are designed such that the GP exactly satisfies the initial condition at $t=0$ and spatial boundary conditions at $x=-5/5$. In this case the true solution is known, and we extract these conditions from the solution"
   ]
  },
  {
   "cell_type": "code",
   "execution_count": 4,
   "id": "0f8ab6db-3a33-43e4-af15-538fcb395792",
   "metadata": {
    "execution": {
     "iopub.execute_input": "2024-05-29T11:05:02.470760Z",
     "iopub.status.busy": "2024-05-29T11:05:02.470516Z",
     "iopub.status.idle": "2024-05-29T11:05:02.775555Z",
     "shell.execute_reply": "2024-05-29T11:05:02.775005Z",
     "shell.execute_reply.started": "2024-05-29T11:05:02.470742Z"
    }
   },
   "outputs": [],
   "source": [
    "# lower and upper boundaries of the spatio-temporal domain\n",
    "lb = jnp.array([-5.0, 0.0])\n",
    "ub = jnp.array([5.0, 10.0])\n",
    "domain_length = ub[0] - lb[0]\n",
    "\n",
    "# true solution function\n",
    "u_true = lambda x, t: 0.5 - 0.5 * jnp.tanh(\n",
    "    1.0 + 0.25 * jnp.sqrt(2) * (x - t / (jnp.sqrt(2)))\n",
    ")\n",
    "\n",
    "# initial condition\n",
    "t0_fn = lambda x: u_true(x, lb[1])\n",
    "\n",
    "# lower spatial boundary condition\n",
    "lb_fn = lambda t: u_true(lb[0], t)\n",
    "\n",
    "# lower spatial boundary condition\n",
    "ub_fn = lambda t: u_true(ub[0], t)\n",
    "\n",
    "# corner values needed for defining mean_fn\n",
    "u_lb_t0 = lb_fn(lb[1])\n",
    "u_ub_t0 = ub_fn(lb[1])\n",
    "\n",
    "\n",
    "def mean_fn(p_: dict, loc: Array):\n",
    "    x, t = loc\n",
    "    return (\n",
    "        t0_fn(x)\n",
    "        + (ub_fn(t) - u_ub_t0) * ((x + ub[0]) / domain_length)\n",
    "        + (lb_fn(t) - u_lb_t0) * (-lb[0] - x) / domain_length\n",
    "    )\n",
    "\n",
    "\n",
    "base_kernel = jax_pigp.kernels.rational_quadratic\n",
    "\n",
    "\n",
    "def phi(loc: Array):\n",
    "    x, t = loc\n",
    "    return ((ub[0] - x) * (x - lb[0]) * t) / 250.0\n",
    "\n",
    "\n",
    "def kernel_fn(params: dict, loc1: Array, loc2: Array):\n",
    "\n",
    "    base_kernel_val = base_kernel(params, loc1, loc2)\n",
    "\n",
    "    adjust_val = phi(loc1) * phi(loc2)\n",
    "\n",
    "    return (adjust_val * base_kernel_val).squeeze()"
   ]
  },
  {
   "cell_type": "markdown",
   "id": "b80966b9-4e25-481d-ba00-141f63666c4d",
   "metadata": {},
   "source": [
    "### Specify linear differential operators\n",
    "\n",
    "Recall that the Fisher-like PDE considered in the paper takes the form\n",
    "\n",
    "$$PDE[u] =  \\frac{\\partial u}{\\partial t} - \\frac{\\partial^2 u}{\\partial x^2} - u^2(1-u) = f = 0$$\n",
    "\n",
    "In shorthand notation (see Eq. (5) of the manuscript), the PDE reads\n",
    "\n",
    "$$PDE[u] = u_{t} - u_{xx}- u^2(1-u) = f = 0.$$\n",
    "\n",
    "Similarly, the ISC (see Eq. (24)) reads\n",
    "\n",
    "$$ISC[u] = u_{t} + \\frac{1}{\\sqrt{2}} u_{x} = g = 0.$$\n",
    "\n",
    "Consider the following two functions, each of which is found by applying a linear operator to $u$:\n",
    "\n",
    "\\begin{align}\n",
    "d_0 &= \\mathcal{L}_0^f u = u \\\\\n",
    "d_1 &= \\mathcal{L}_1^f u = u_{t} - u_{xx}\n",
    "\\end{align}\n",
    "\n",
    "We can use these functions to represent the PDE in algebraic form as\n",
    "\n",
    "\\begin{equation}\n",
    "F(d_0, d_1) = d_1 - d_0^2(1-d_0) = 0.\n",
    "\\end{equation}\n",
    "\n",
    "See Section 2.2 of the manuscript for further details of the functions $d_0$, $d_1$ and $F$. In particular, note the difference here to Eq.(6) of the paper, as we have combined $u_t$ and $u_{xx}$ into a single operator rather than considering them separately.\n",
    "\n",
    "The function $F$ above allows us to specify a virtual liklihood in the GP model for the PDE collocation points (see Eq. (18)).\n",
    "\n",
    "\n",
    "##### Implementation: \n",
    "\n",
    "* $d_{0}$ is returned by calling the ``apply_Lf0`` function defined below, with equivalent functions defined for $d_1$ and $g$.\n",
    "\n",
    "* $F(d_0, d_1)$ is implemented in the function ``F``\n",
    "\n"
   ]
  },
  {
   "cell_type": "code",
   "execution_count": 5,
   "id": "c1a5845f-e787-4521-bfd1-8da78c8296b6",
   "metadata": {
    "execution": {
     "iopub.execute_input": "2024-05-29T11:05:02.776395Z",
     "iopub.status.busy": "2024-05-29T11:05:02.776192Z",
     "iopub.status.idle": "2024-05-29T11:05:02.781850Z",
     "shell.execute_reply": "2024-05-29T11:05:02.781221Z",
     "shell.execute_reply.started": "2024-05-29T11:05:02.776380Z"
    }
   },
   "outputs": [],
   "source": [
    "def apply_Lf0(fn: Callable, argnum: int = 1):\n",
    "    r\"\"\"\n",
    "    In this Lf0 is the identity transformation\n",
    "    \"\"\"\n",
    "    return fn\n",
    "\n",
    "\n",
    "def apply_Lf1(fn: Callable, argnum: int = 1):\n",
    "    r\"\"\"\n",
    "    Applies Lf1 to given input input fn,\n",
    "    evaluated at specified argnum\n",
    "    \"\"\"\n",
    "\n",
    "    # the Jacobian and Hessian functions\n",
    "    Jfn, Hfn = jac_hess(fn, argnum)\n",
    "\n",
    "    def Lf1(params: dict, loc1: Array, *loc2: Array):\n",
    "        ## Note: we assume spatial value comes before temporal\n",
    "        ## value in loc1 / loc2\n",
    "\n",
    "        _, ut_val = Jfn(params, loc1, *loc2)\n",
    "\n",
    "        uxx_val = Hfn(params, loc1, *loc2)[0, 0]\n",
    "\n",
    "        return ut_val - uxx_val\n",
    "\n",
    "    return Lf1\n",
    "\n",
    "\n",
    "def apply_ISC(fn: Callable, argnum: int = 1):\n",
    "    r\"\"\"\n",
    "    Appies ISC to given input input fn,\n",
    "    evaluated at specified argnum\n",
    "    \"\"\"\n",
    "    # the Jacobian and Hessian functions\n",
    "    Jfn, _ = jac_hess(fn, argnum)\n",
    "\n",
    "    sqrt_2_inv = 1.0 / jnp.sqrt(2.0)\n",
    "\n",
    "    def ISC(params: dict, loc1: Array, *loc2: Array):\n",
    "        ## Note: we assume spatial value comes before temporal\n",
    "        ## value in loc1 / loc2\n",
    "\n",
    "        ux_val, ut_val = Jfn(params, loc1, *loc2)\n",
    "\n",
    "        return ut_val + sqrt_2_inv * ux_val\n",
    "\n",
    "    return ISC\n",
    "\n",
    "\n",
    "linear_operators = [apply_Lf0, apply_Lf1, apply_ISC]\n",
    "\n",
    "## Note : f-space (i.e. PDE space) operators must always come before\n",
    "## the g-space ISC operator get_ISC in linear_operators above\n",
    "\n",
    "## Note: no u-space observations are used in this example. If\n",
    "## u-space data is available, we define a dummy get_Lu function\n",
    "## which is just the identity transformation. This function\n",
    "## must be included before get_Lf0 when specifying linear_operators\n",
    "\n",
    "####################################################################\n",
    "# we need to specify which inputs to evaluate the above differential\n",
    "# operators on.\n",
    "# Below, 0 represents f-space (i.e. PDE) observations,\n",
    "# while 1 represents g-space (i.e. ISC) observations.\n",
    "# Lf0 and Lf1 correspond to Xf inputs, so their corresponding value\n",
    "# in Xtrain_indices is 0. The ISC corresponds to Xg inputs, so it\n",
    "# gets mapped to\n",
    "Xtrain_indices = [0, 0, 1]\n",
    "\n",
    "## Note: If we had u-space (i.e. solution space) observations, then\n",
    "## they have be be labelled with index 0. f-space observations would then be\n",
    "## labelled with 1, while any g-space observations would be labelled 2\n",
    "\n",
    "\n",
    "def F(params: dict, d: Array):\n",
    "    r\"\"\"\n",
    "    Algebraic representation of the PDE\n",
    "    \"\"\"\n",
    "    # N_Lf is equal to the length of the vector d here\n",
    "    d0, d1 = d\n",
    "    return d1 - (d0**2) * (1.0 - d0)"
   ]
  },
  {
   "cell_type": "markdown",
   "id": "690dc705-e865-4833-967e-1f8277e1a482",
   "metadata": {},
   "source": [
    "### Store settings"
   ]
  },
  {
   "cell_type": "markdown",
   "id": "709dbc21-7807-4e26-bd76-b0482dd50ed8",
   "metadata": {},
   "source": [
    "Store optimisation options in a dictionary"
   ]
  },
  {
   "cell_type": "code",
   "execution_count": 6,
   "id": "a6771a0f-35f9-4651-b1f0-0006c7e5f8a3",
   "metadata": {
    "execution": {
     "iopub.execute_input": "2024-05-29T11:05:02.783749Z",
     "iopub.status.busy": "2024-05-29T11:05:02.783465Z",
     "iopub.status.idle": "2024-05-29T11:05:02.789943Z",
     "shell.execute_reply": "2024-05-29T11:05:02.789403Z",
     "shell.execute_reply.started": "2024-05-29T11:05:02.783731Z"
    }
   },
   "outputs": [],
   "source": [
    "opt_options = {}\n",
    "opt_options[\"n_steps\"] = N_TRAIN_STEPS\n",
    "opt_options[\"n_restarts\"] = N_RESTARTS\n",
    "opt_options[\"lr\"] = LR_INIT\n",
    "opt_options[\"verbose\"] = VERBOSE\n",
    "opt_options[\"noise_transform\"] = NOISE_TRANSFORM"
   ]
  },
  {
   "cell_type": "markdown",
   "id": "ee21a34a-5e68-4db1-a305-f86803dd2dde",
   "metadata": {},
   "source": [
    "Specify parameter initialisation function"
   ]
  },
  {
   "cell_type": "code",
   "execution_count": 7,
   "id": "9c880062-149a-4c44-aa30-acea5fc8461e",
   "metadata": {
    "execution": {
     "iopub.execute_input": "2024-05-29T11:05:02.790765Z",
     "iopub.status.busy": "2024-05-29T11:05:02.790532Z",
     "iopub.status.idle": "2024-05-29T11:05:02.796255Z",
     "shell.execute_reply": "2024-05-29T11:05:02.795703Z",
     "shell.execute_reply.started": "2024-05-29T11:05:02.790746Z"
    }
   },
   "outputs": [],
   "source": [
    "param_gen_options[\"ls_bounds\"] = [0.5, 5.0]\n",
    "param_gen_options[\"amp_bounds\"] = [1.0, 10.0]\n",
    "param_gen_options[\"alpha_bounds\"] = [1.0, 10.0]\n",
    "param_gen_options[\"input_dim\"] = INPUT_DIM\n",
    "# each function space (u/f/g spaces) gets its own noise level\n",
    "param_gen_options[\"noise_std_init\"] = [NOISE_INIT]*3\n",
    "param_gen_options[\"noise_transform\"] = NOISE_TRANSFORM\n",
    "param_gen_options[\"nonlinear\"] = True\n",
    "param_gen_options[\"Nh\"] = Nh\n",
    "\n",
    "# randomly samples kernel parameter values given an input seed\n",
    "generate_params_fn = lambda seed: generate_params(seed, param_gen_options)"
   ]
  },
  {
   "cell_type": "markdown",
   "id": "8951de3f-61f3-4969-922e-70b2ef9514af",
   "metadata": {},
   "source": [
    "Create a directory to save the results "
   ]
  },
  {
   "cell_type": "code",
   "execution_count": 8,
   "id": "b93cc163-8ab5-4133-a986-20e730be2986",
   "metadata": {
    "execution": {
     "iopub.execute_input": "2024-05-29T11:05:02.797388Z",
     "iopub.status.busy": "2024-05-29T11:05:02.797079Z",
     "iopub.status.idle": "2024-05-29T11:05:02.803912Z",
     "shell.execute_reply": "2024-05-29T11:05:02.803326Z",
     "shell.execute_reply.started": "2024-05-29T11:05:02.797372Z"
    }
   },
   "outputs": [],
   "source": [
    "results_save_dir = os.path.join(\"results\", data_save_dir, f\"{GP_TYPE}_Nf_{Nf}_Ng_{Ng}\")\n",
    "if not os.path.isdir(results_save_dir):\n",
    "    os.makedirs(results_save_dir)"
   ]
  },
  {
   "cell_type": "markdown",
   "id": "9b71e326-858b-4f8c-bc7e-bc77fbb04fff",
   "metadata": {},
   "source": [
    "## Data and model initialisation"
   ]
  },
  {
   "cell_type": "markdown",
   "id": "6d381c43-b7a7-4eee-b22d-6dcaddd09e04",
   "metadata": {},
   "source": [
    "### Load train and test data"
   ]
  },
  {
   "cell_type": "code",
   "execution_count": 9,
   "id": "001f0e4b-7ccd-499d-8ec7-5d785dffa027",
   "metadata": {
    "execution": {
     "iopub.execute_input": "2024-05-29T11:05:02.807604Z",
     "iopub.status.busy": "2024-05-29T11:05:02.806250Z",
     "iopub.status.idle": "2024-05-29T11:05:02.823925Z",
     "shell.execute_reply": "2024-05-29T11:05:02.823285Z",
     "shell.execute_reply.started": "2024-05-29T11:05:02.807578Z"
    }
   },
   "outputs": [],
   "source": [
    "train_data, test_data = load_data_nonlinear(data_save_dir_full, Nu, Nf, Ng)"
   ]
  },
  {
   "cell_type": "markdown",
   "id": "a4a48e84-7cca-4b64-a46d-a6244fcbbf16",
   "metadata": {},
   "source": [
    "Check shapes of train and test data"
   ]
  },
  {
   "cell_type": "code",
   "execution_count": 10,
   "id": "af173916-ea9e-45f5-9112-b1683c08b2b6",
   "metadata": {
    "execution": {
     "iopub.execute_input": "2024-05-29T11:05:02.825095Z",
     "iopub.status.busy": "2024-05-29T11:05:02.824607Z",
     "iopub.status.idle": "2024-05-29T11:05:02.832504Z",
     "shell.execute_reply": "2024-05-29T11:05:02.831927Z",
     "shell.execute_reply.started": "2024-05-29T11:05:02.825069Z"
    }
   },
   "outputs": [
    {
     "data": {
      "text/plain": [
       "((8000, 1), [(128, 2), (128, 2)])"
      ]
     },
     "execution_count": 10,
     "metadata": {},
     "output_type": "execute_result"
    }
   ],
   "source": [
    "test_data.us.shape, [X.shape for X in train_data.Xtrain]"
   ]
  },
  {
   "cell_type": "markdown",
   "id": "d0ae6c47-c30a-4f5d-9b77-c2e525216e13",
   "metadata": {},
   "source": [
    "### Initialise PIGP model"
   ]
  },
  {
   "cell_type": "code",
   "execution_count": 11,
   "id": "6506737d-3eec-4592-acf5-9e5485da9c94",
   "metadata": {
    "execution": {
     "iopub.execute_input": "2024-05-29T11:05:02.833547Z",
     "iopub.status.busy": "2024-05-29T11:05:02.833338Z",
     "iopub.status.idle": "2024-05-29T11:05:02.896278Z",
     "shell.execute_reply": "2024-05-29T11:05:02.895626Z",
     "shell.execute_reply.started": "2024-05-29T11:05:02.833526Z"
    }
   },
   "outputs": [],
   "source": [
    "fisher_like_kernel_fns = jax_pigp.interdomain_moments.InterdomainKernelFns(\n",
    "    kernel_fn, linear_operators, Xtrain_indices\n",
    ")\n",
    "fisher_like_mean_fns = jax_pigp.interdomain_moments.InterdomainMeanFns(\n",
    "    mean_fn, linear_operators, Xtrain_indices\n",
    ")\n",
    "\n",
    "gp_model = jax_pigp.models.PSGP(fisher_like_kernel_fns, fisher_like_mean_fns, F, N_Lf)"
   ]
  },
  {
   "cell_type": "markdown",
   "id": "d2d89230-1c23-4827-8d9b-093bdfa57715",
   "metadata": {},
   "source": [
    "### Initialise learner for model training"
   ]
  },
  {
   "cell_type": "code",
   "execution_count": 12,
   "id": "76bf0448-abbe-44f4-b77b-c1cc7505ae92",
   "metadata": {
    "execution": {
     "iopub.execute_input": "2024-05-29T11:05:02.897472Z",
     "iopub.status.busy": "2024-05-29T11:05:02.897008Z",
     "iopub.status.idle": "2024-05-29T11:05:04.721807Z",
     "shell.execute_reply": "2024-05-29T11:05:04.720857Z",
     "shell.execute_reply.started": "2024-05-29T11:05:02.897451Z"
    }
   },
   "outputs": [],
   "source": [
    "obj_fn_train = lambda params: -gp_model.elbo(params, train_data)\n",
    "\n",
    "gp_learner = jax_pigp.optimisers.AdamLearner(\n",
    "    obj_fn_train, opt_options, generate_params_fn, random.PRNGKey(BASE_SEED_VAL)\n",
    ")"
   ]
  },
  {
   "cell_type": "code",
   "execution_count": 13,
   "id": "4ee35956-9853-4ec6-92dc-2973e0906c96",
   "metadata": {
    "execution": {
     "iopub.execute_input": "2024-05-29T11:05:04.723212Z",
     "iopub.status.busy": "2024-05-29T11:05:04.722790Z",
     "iopub.status.idle": "2024-05-29T11:05:25.717170Z",
     "shell.execute_reply": "2024-05-29T11:05:25.716143Z",
     "shell.execute_reply.started": "2024-05-29T11:05:04.723185Z"
    }
   },
   "outputs": [
    {
     "data": {
      "text/plain": [
       "Array(4453822.69151252, dtype=float64)"
      ]
     },
     "execution_count": 13,
     "metadata": {},
     "output_type": "execute_result"
    }
   ],
   "source": [
    "obj_fn_train(gp_learner.params)"
   ]
  },
  {
   "cell_type": "markdown",
   "id": "911dfdc1-192e-416e-83c0-41c363eaf40e",
   "metadata": {},
   "source": [
    "Initial parameter values  "
   ]
  },
  {
   "cell_type": "code",
   "execution_count": 14,
   "id": "2990ac0d-3cea-41b5-b15c-a420c50356e9",
   "metadata": {
    "execution": {
     "iopub.execute_input": "2024-05-29T11:05:25.719915Z",
     "iopub.status.busy": "2024-05-29T11:05:25.719544Z",
     "iopub.status.idle": "2024-05-29T11:05:25.727785Z",
     "shell.execute_reply": "2024-05-29T11:05:25.726902Z",
     "shell.execute_reply.started": "2024-05-29T11:05:25.719893Z"
    }
   },
   "outputs": [
    {
     "name": "stdout",
     "output_type": "stream",
     "text": [
      "amp: [9.72570182]\n",
      "ls: [2.70537882 1.37054593]\n",
      "alpha: [9.51654614]\n",
      "noise_std: [0.1 0.1 0.1]\n"
     ]
    }
   ],
   "source": [
    "print_param_values(gp_learner.params, opt_options)"
   ]
  },
  {
   "cell_type": "markdown",
   "id": "afd94393-fbe4-4875-9684-2052d0a8db52",
   "metadata": {},
   "source": [
    "Objective function value for initial parameters"
   ]
  },
  {
   "cell_type": "code",
   "execution_count": 15,
   "id": "17f709b4-2962-4c3b-a5c8-3b7ce028e9e1",
   "metadata": {
    "execution": {
     "iopub.execute_input": "2024-05-29T11:05:25.729070Z",
     "iopub.status.busy": "2024-05-29T11:05:25.728747Z",
     "iopub.status.idle": "2024-05-29T11:05:28.083902Z",
     "shell.execute_reply": "2024-05-29T11:05:28.083046Z",
     "shell.execute_reply.started": "2024-05-29T11:05:25.729050Z"
    }
   },
   "outputs": [
    {
     "data": {
      "text/plain": [
       "Array(-4453822.69151252, dtype=float64)"
      ]
     },
     "execution_count": 15,
     "metadata": {},
     "output_type": "execute_result"
    }
   ],
   "source": [
    "gp_model.elbo(gp_learner.params, train_data)"
   ]
  },
  {
   "cell_type": "markdown",
   "id": "b5783ebc-9d80-4b78-86ec-2a3281057cac",
   "metadata": {},
   "source": [
    "Gradient of the objective function wrt to initial parameters"
   ]
  },
  {
   "cell_type": "code",
   "execution_count": 16,
   "id": "fa0404f8-c22e-4bdf-b552-74adafb415ee",
   "metadata": {
    "execution": {
     "iopub.execute_input": "2024-05-29T11:05:28.085884Z",
     "iopub.status.busy": "2024-05-29T11:05:28.085325Z",
     "iopub.status.idle": "2024-05-29T11:05:28.089430Z",
     "shell.execute_reply": "2024-05-29T11:05:28.088529Z",
     "shell.execute_reply.started": "2024-05-29T11:05:28.085853Z"
    }
   },
   "outputs": [],
   "source": [
    "# gp_learner.grad_obj_fn(gp_learner.params)"
   ]
  },
  {
   "cell_type": "markdown",
   "id": "fe399d56-db76-4bba-b4a6-099a0250e24a",
   "metadata": {},
   "source": [
    "## Training "
   ]
  },
  {
   "cell_type": "markdown",
   "id": "450faef1-6132-4b4b-8e18-72159a9c88fe",
   "metadata": {},
   "source": [
    "[JIT compile](https://jax.readthedocs.io/en/latest/jit-compilation.html) the ``update_one_step`` method by evaluating it once, then train model for specified number of steps/restarts."
   ]
  },
  {
   "cell_type": "code",
   "execution_count": 17,
   "id": "84d24991-4922-47de-8616-0d823ed16a5d",
   "metadata": {
    "execution": {
     "iopub.execute_input": "2024-05-29T11:05:28.091165Z",
     "iopub.status.busy": "2024-05-29T11:05:28.090460Z",
     "iopub.status.idle": "2024-05-29T11:06:07.842505Z",
     "shell.execute_reply": "2024-05-29T11:06:07.841690Z",
     "shell.execute_reply.started": "2024-05-29T11:05:28.091134Z"
    }
   },
   "outputs": [],
   "source": [
    "_ = gp_learner.update_one_step(gp_learner.params, gp_learner.opt_state)"
   ]
  },
  {
   "cell_type": "code",
   "execution_count": 18,
   "id": "f91eb401-e484-4d50-9f6e-3c0d3fb2172b",
   "metadata": {
    "execution": {
     "iopub.execute_input": "2024-05-29T11:06:07.843957Z",
     "iopub.status.busy": "2024-05-29T11:06:07.843670Z",
     "iopub.status.idle": "2024-05-29T13:04:38.913965Z",
     "shell.execute_reply": "2024-05-29T13:04:38.913095Z",
     "shell.execute_reply.started": "2024-05-29T11:06:07.843932Z"
    },
    "scrolled": true
   },
   "outputs": [
    {
     "name": "stdout",
     "output_type": "stream",
     "text": [
      "gp_type=psgp, Nf=128, Ng=128, n_steps=100000, n_restarts=1\n",
      "\n",
      "Restart 0: beginning training for 100000 steps\n",
      "(0): 731235.6743, noise_std_vals = [1.00e-01,1.00e-01,1.00e-01]\n",
      "(4000): 47618.7251, noise_std_vals = [1.00e-01,1.24e-01,1.37e-01]\n",
      "(8000): 8586.2186, noise_std_vals = [1.00e-01,1.44e-01,1.83e-01]\n",
      "(12000): 1918.4077, noise_std_vals = [1.00e-01,1.68e-01,2.36e-01]\n",
      "(16000): 471.0652, noise_std_vals = [1.00e-01,2.00e-01,2.65e-01]\n",
      "(20000): 67.6515, noise_std_vals = [1.00e-01,2.37e-01,1.94e-01]\n",
      "(24000): -75.0057, noise_std_vals = [1.00e-01,2.53e-01,1.31e-01]\n",
      "(28000): -181.3467, noise_std_vals = [1.00e-01,1.83e-01,8.90e-02]\n",
      "(32000): -286.5174, noise_std_vals = [1.00e-01,1.25e-01,5.99e-02]\n",
      "(36000): -389.8090, noise_std_vals = [1.00e-01,8.52e-02,4.00e-02]\n",
      "(40000): -492.7291, noise_std_vals = [1.00e-01,5.81e-02,2.67e-02]\n",
      "(44000): -594.4977, noise_std_vals = [1.00e-01,3.94e-02,1.79e-02]\n",
      "(48000): -692.9408, noise_std_vals = [1.00e-01,2.67e-02,1.20e-02]\n",
      "(52000): -786.7931, noise_std_vals = [1.00e-01,1.81e-02,8.12e-03]\n",
      "(56000): -878.6577, noise_std_vals = [1.00e-01,1.22e-02,5.49e-03]\n",
      "(60000): -967.7391, noise_std_vals = [1.00e-01,8.28e-03,3.71e-03]\n",
      "(64000): -1054.1393, noise_std_vals = [1.00e-01,5.59e-03,2.52e-03]\n",
      "(68000): -1136.5943, noise_std_vals = [1.00e-01,3.78e-03,1.71e-03]\n",
      "(72000): -1213.6558, noise_std_vals = [1.00e-01,2.57e-03,1.16e-03]\n",
      "(76000): -1283.9889, noise_std_vals = [1.00e-01,1.75e-03,7.97e-04]\n",
      "(80000): -1345.7040, noise_std_vals = [1.00e-01,1.20e-03,5.49e-04]\n",
      "(84000): -1397.0208, noise_std_vals = [1.00e-01,8.30e-04,3.82e-04]\n",
      "(88000): -1436.6970, noise_std_vals = [1.00e-01,5.77e-04,2.69e-04]\n",
      "(92000): -1464.8865, noise_std_vals = [1.00e-01,4.04e-04,1.91e-04]\n",
      "(96000): -1483.2466, noise_std_vals = [1.00e-01,2.87e-04,1.37e-04]\n",
      "Final training results: \n",
      "(99999): -1494.3306, noise_std_vals = [1.00e-01,2.05e-04,9.93e-05]\n",
      "\n",
      "\n"
     ]
    }
   ],
   "source": [
    "print(\n",
    "    f\"gp_type={GP_TYPE}, Nf={Nf}, Ng={Ng}, n_steps={opt_options['n_steps']}, n_restarts={opt_options['n_restarts']}\\n\"\n",
    ")\n",
    "gp_learner.train_with_restarts(\n",
    "    opt_options[\"n_steps\"],\n",
    "    opt_options[\"n_restarts\"],\n",
    "    print_progress=opt_options[\"verbose\"],\n",
    ")"
   ]
  },
  {
   "cell_type": "markdown",
   "id": "3fac1ed7-a08b-4d53-af76-cd1efc6fec43",
   "metadata": {},
   "source": [
    "Uncomment below to continue training from existing parameter values:"
   ]
  },
  {
   "cell_type": "code",
   "execution_count": 26,
   "id": "ca9a7f40-f76a-4af4-85d6-caca44c4a703",
   "metadata": {
    "execution": {
     "iopub.execute_input": "2024-05-29T13:23:53.750589Z",
     "iopub.status.busy": "2024-05-29T13:23:53.749941Z",
     "iopub.status.idle": "2024-05-29T13:23:53.754000Z",
     "shell.execute_reply": "2024-05-29T13:23:53.753327Z",
     "shell.execute_reply.started": "2024-05-29T13:23:53.750539Z"
    }
   },
   "outputs": [],
   "source": [
    "# gp_learner.train(opt_options[\"n_steps\"])"
   ]
  },
  {
   "cell_type": "markdown",
   "id": "b1f16ab0-0d14-4fe3-91fc-d1e7fc81b050",
   "metadata": {},
   "source": [
    "### Plot training results"
   ]
  },
  {
   "cell_type": "code",
   "execution_count": 20,
   "id": "061db8ab-98a1-4ad9-b5a6-a4215affbcc9",
   "metadata": {
    "execution": {
     "iopub.execute_input": "2024-05-29T13:04:38.921053Z",
     "iopub.status.busy": "2024-05-29T13:04:38.920415Z",
     "iopub.status.idle": "2024-05-29T13:04:39.808255Z",
     "shell.execute_reply": "2024-05-29T13:04:39.807539Z",
     "shell.execute_reply.started": "2024-05-29T13:04:38.921026Z"
    }
   },
   "outputs": [
    {
     "data": {
      "image/png": "[encoded data removed]",
      "text/plain": [
       "<Figure size 400x300 with 1 Axes>"
      ]
     },
     "metadata": {},
     "output_type": "display_data"
    }
   ],
   "source": [
    "fig, ax = plt.subplots(nrows=1, ncols=1, figsize=ONE_COLUMN_FIGSIZE)\n",
    "\n",
    "begin_at = int(len(gp_learner.obj_list) * 0.05)\n",
    "\n",
    "plot_lc(ax, gp_learner.obj_list[begin_at:], \"Objective Function\")\n",
    "\n",
    "fig.tight_layout()\n",
    "\n",
    "plt.savefig(os.path.join(results_save_dir, \"learningCurves.pdf\"))"
   ]
  },
  {
   "cell_type": "markdown",
   "id": "e1c726ce-f6da-4571-8166-4f100ab16b60",
   "metadata": {},
   "source": [
    "### Final trained parameter values"
   ]
  },
  {
   "cell_type": "code",
   "execution_count": 21,
   "id": "7d7749e8-0789-4dd2-b088-96a713ea8db0",
   "metadata": {
    "execution": {
     "iopub.execute_input": "2024-05-29T13:04:39.813858Z",
     "iopub.status.busy": "2024-05-29T13:04:39.811080Z",
     "iopub.status.idle": "2024-05-29T13:04:39.837814Z",
     "shell.execute_reply": "2024-05-29T13:04:39.837115Z",
     "shell.execute_reply.started": "2024-05-29T13:04:39.813823Z"
    }
   },
   "outputs": [
    {
     "name": "stdout",
     "output_type": "stream",
     "text": [
      "set trained_params to gp_learner.params_best\n",
      "\n",
      "alpha: [1.58114601]\n",
      "amp: [0.298247]\n",
      "ls: [4.23175519 5.767703  ]\n",
      "noise_std: [1.00000000e-01 2.05278837e-04 9.93140214e-05]\n"
     ]
    }
   ],
   "source": [
    "# extract final trained parameter values\n",
    "try:\n",
    "    trained_params = gp_learner.params_best.copy()\n",
    "    print(f'set trained_params to gp_learner.params_best\\n')\n",
    "except:\n",
    "    trained_params = gp_learner.params.copy()\n",
    "    print(f'set trained_params to gp_learner.params\\n')\n",
    "\n",
    "# print the values of the trained parameters\n",
    "print_param_values(trained_params, opt_options)\n",
    "\n",
    "# save trained parameters\n",
    "param_save_path = os.path.join(results_save_dir, \"trained_params.pkl\")\n",
    "with open(param_save_path, \"wb\") as fp:\n",
    "    pickle.dump(trained_params, fp)"
   ]
  },
  {
   "cell_type": "markdown",
   "id": "7c759be9-d9a6-4cbe-a170-28fb964e9135",
   "metadata": {},
   "source": [
    "Can load pre-trained parameters by uncommenting the below"
   ]
  },
  {
   "cell_type": "code",
   "execution_count": 22,
   "id": "9e4df24a-1067-40e1-8322-f9ff69b62091",
   "metadata": {
    "execution": {
     "iopub.execute_input": "2024-05-29T13:04:39.839254Z",
     "iopub.status.busy": "2024-05-29T13:04:39.838810Z",
     "iopub.status.idle": "2024-05-29T13:04:39.841979Z",
     "shell.execute_reply": "2024-05-29T13:04:39.841236Z",
     "shell.execute_reply.started": "2024-05-29T13:04:39.839226Z"
    }
   },
   "outputs": [],
   "source": [
    "# with open(param_save_path, 'rb') as f:\n",
    "#     trained_params = pickle.load(f)"
   ]
  },
  {
   "cell_type": "markdown",
   "id": "e33bc444-5fff-4f0b-8507-4985eea193e0",
   "metadata": {},
   "source": [
    "## Test set results\n",
    "\n",
    "Evaluate posterior distribution at test points, using hyper-parameter values ``trained_params`` obtained during training phase."
   ]
  },
  {
   "cell_type": "code",
   "execution_count": 23,
   "id": "f874b8dc-a850-4644-b1a7-bbc7da8e7dda",
   "metadata": {
    "execution": {
     "iopub.execute_input": "2024-05-29T13:04:39.843501Z",
     "iopub.status.busy": "2024-05-29T13:04:39.842973Z",
     "iopub.status.idle": "2024-05-29T13:04:54.353864Z",
     "shell.execute_reply": "2024-05-29T13:04:54.352780Z",
     "shell.execute_reply.started": "2024-05-29T13:04:39.843428Z"
    }
   },
   "outputs": [
    {
     "name": "stdout",
     "output_type": "stream",
     "text": [
      "Posterior results for psgp, Nf=128, Ng=128, Ns=8000\n",
      "mean/max loss: 3.328943e-05/2.408e-04\n"
     ]
    }
   ],
   "source": [
    "# posterior mean and covariance over test points\n",
    "print(\n",
    "    f\"Posterior results for {GP_TYPE}, Nf={Nf}, Ng={Ng}, Ns={test_data.Xs.shape[0]}\"\n",
    ")\n",
    "# posterior mean and covariance over test outputs us\n",
    "mu, Sigma = gp_model.posterior_predict(trained_params, train_data, test_data.Xs)\n",
    "\n",
    "# standard deviation of prediction at each test point\n",
    "s = jnp.diag(Sigma) ** 0.5\n",
    "\n",
    "# save predictions\n",
    "if SAVE_ALL_PREDICTIONS:\n",
    "    jnp.save(os.path.join(results_save_dir, \"u_pred.npy\"), mu)\n",
    "    jnp.save(os.path.join(results_save_dir, \"s_pred.npy\"), s)\n",
    "\n",
    "# test set prediction error\n",
    "abs_losses = jnp.abs(mu - test_data.us)\n",
    "print(f\"mean/max loss: {abs_losses.mean():3e}/{abs_losses.max():.3e}\")\n",
    "savetxt(\n",
    "    os.path.join(results_save_dir, \"mean_loss.txt\"), abs_losses.mean().reshape(-1, 1)\n",
    ")"
   ]
  },
  {
   "cell_type": "markdown",
   "id": "a6f288da-d6ea-4be6-9801-eef294e42009",
   "metadata": {},
   "source": [
    "### Plots of posterior prediction"
   ]
  },
  {
   "cell_type": "code",
   "execution_count": 24,
   "id": "300170da-c0f6-4f85-bb9c-d1b884a4d0bf",
   "metadata": {
    "execution": {
     "iopub.execute_input": "2024-05-29T13:04:54.355540Z",
     "iopub.status.busy": "2024-05-29T13:04:54.355172Z",
     "iopub.status.idle": "2024-05-29T13:05:00.785079Z",
     "shell.execute_reply": "2024-05-29T13:05:00.784316Z",
     "shell.execute_reply.started": "2024-05-29T13:04:54.355500Z"
    }
   },
   "outputs": [
    {
     "data": {
      "image/png": "[encoded data removed]",
      "text/plain": [
       "<Figure size 1200x300 with 6 Axes>"
      ]
     },
     "metadata": {},
     "output_type": "display_data"
    }
   ],
   "source": [
    "fig, axes = plt.subplots(nrows=1, ncols=3, figsize=THREE_COLUMN_FIGSIZE)\n",
    "\n",
    "Nx = len(jnp.unique(test_data.Xs[:, 0]))\n",
    "Nt = len(jnp.unique(test_data.Xs[:, 1]))\n",
    "\n",
    "Xu = None\n",
    "Xf = train_data.Xtrain[0]\n",
    "\n",
    "make_heatmap_fisher = lambda ax, output, title=None: make_heatmap(\n",
    "    fig, ax, output.reshape(Nt, Nx).T, test_data, Xu, Xf, title\n",
    ")\n",
    "\n",
    "make_heatmap_fisher(axes[0], test_data.us, title=\"u_true\")\n",
    "make_heatmap_fisher(axes[1], mu, title=f\"u_pred, {GP_TYPE}\")\n",
    "make_heatmap_fisher(\n",
    "    axes[2], abs_losses, title=f\"err_u (mean = {abs_losses.mean():.3e})\"\n",
    ")\n",
    "\n",
    "fig.tight_layout()\n",
    "\n",
    "plt.savefig(os.path.join(results_save_dir, \"posteriorPrediction.pdf\"))"
   ]
  }
 ],
 "metadata": {
  "kernelspec": {
   "display_name": "Python 3 (ipykernel)",
   "language": "python",
   "name": "python3"
  },
  "language_info": {
   "codemirror_mode": {
    "name": "ipython",
    "version": 3
   },
   "file_extension": ".py",
   "mimetype": "text/x-python",
   "name": "python",
   "nbconvert_exporter": "python",
   "pygments_lexer": "ipython3",
   "version": "3.12.2"
  }
 },
 "nbformat": 4,
 "nbformat_minor": 5
}
