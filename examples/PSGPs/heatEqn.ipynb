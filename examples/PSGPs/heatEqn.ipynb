{
 "cells": [
  {
   "cell_type": "markdown",
   "id": "354a2522-d4de-469a-b9ee-0779b7d464ec",
   "metadata": {},
   "source": [
    "# Heat Equation\n",
    "\n",
    "This notebook implements the PIGP and PSGP experiments involving the heat equation from Section 4.3 of the manuscript"
   ]
  },
  {
   "cell_type": "markdown",
   "id": "029e3fae-6e54-4151-ac93-a06f0af3edc7",
   "metadata": {},
   "source": [
    "## Preliminaries "
   ]
  },
  {
   "cell_type": "markdown",
   "id": "d3fb2ee6-155a-42a5-94d4-5a25c8a6f825",
   "metadata": {},
   "source": [
    "Whether to run computations on GPU or CPU"
   ]
  },
  {
   "cell_type": "code",
   "execution_count": 1,
   "id": "fc022abd-2bd7-4ac1-9429-9ce0ddcfce47",
   "metadata": {
    "execution": {
     "iopub.execute_input": "2024-05-29T09:21:21.021709Z",
     "iopub.status.busy": "2024-05-29T09:21:21.021550Z",
     "iopub.status.idle": "2024-05-29T09:21:21.024889Z",
     "shell.execute_reply": "2024-05-29T09:21:21.024406Z",
     "shell.execute_reply.started": "2024-05-29T09:21:21.021690Z"
    }
   },
   "outputs": [],
   "source": [
    "import os\n",
    "\n",
    "USE_GPU: bool = True\n",
    "\n",
    "if not USE_GPU:\n",
    "    os.environ[\"JAX_PLATFORM_NAME\"] = \"cpu\"\n",
    "else:\n",
    "    os.environ[\"CUDA_VISIBLE_DEVICES\"] = str(0)"
   ]
  },
  {
   "cell_type": "markdown",
   "id": "57ebbd34-791d-431d-91e7-a4884a7e8c01",
   "metadata": {},
   "source": [
    "Package imports"
   ]
  },
  {
   "cell_type": "code",
   "execution_count": 2,
   "id": "f5dd8eeb-7d4c-452e-8659-f499484a10ee",
   "metadata": {
    "execution": {
     "iopub.execute_input": "2024-05-29T09:48:54.624901Z",
     "iopub.status.busy": "2024-05-29T09:48:54.623894Z",
     "iopub.status.idle": "2024-05-29T09:48:54.628867Z",
     "shell.execute_reply": "2024-05-29T09:48:54.628295Z",
     "shell.execute_reply.started": "2024-05-29T09:48:54.624867Z"
    }
   },
   "outputs": [],
   "source": [
    "import jax.numpy as jnp\n",
    "from jax import config, random\n",
    "\n",
    "import os\n",
    "import pickle\n",
    "from numpy import savetxt\n",
    "\n",
    "# ensure that we can access jax_pigp\n",
    "import sys\n",
    "sys.path.append(\"../../\")\n",
    "\n",
    "import jax_pigp\n",
    "from jax_pigp.utility_fns import (\n",
    "    softplus,\n",
    "    generate_params,\n",
    "    PARAM_OPTIONS_DICT as param_gen_options,\n",
    ")\n",
    "from jax_pigp.base import Callable, Array\n",
    "\n",
    "from utility_fns import *\n",
    "\n",
    "# double precision prevents nans\n",
    "config.update(\"jax_enable_x64\", True)"
   ]
  },
  {
   "cell_type": "markdown",
   "id": "76d7138b-7172-4a6c-b94f-70bcfb296745",
   "metadata": {},
   "source": [
    "### Specify settings of the experiments\n",
    "\n",
    "Ensure that this cell is tagged as \"parameters\" if using [papermill](https://papermill.readthedocs.io/en/latest/)"
   ]
  },
  {
   "cell_type": "code",
   "execution_count": 3,
   "id": "ccb7f3e9-6e7a-4b41-844a-d6645233e824",
   "metadata": {
    "execution": {
     "iopub.execute_input": "2024-05-29T09:21:30.696191Z",
     "iopub.status.busy": "2024-05-29T09:21:30.695592Z",
     "iopub.status.idle": "2024-05-29T09:21:30.712789Z",
     "shell.execute_reply": "2024-05-29T09:21:30.712127Z",
     "shell.execute_reply.started": "2024-05-29T09:21:30.696165Z"
    }
   },
   "outputs": [],
   "source": [
    "# base random seed for parameter initialisation\n",
    "BASE_SEED_VAL: int = 444\n",
    "\n",
    "# true value of the heat parameter theta\n",
    "THETA_TRUE: Array = jnp.array([1.0])\n",
    "\n",
    "# initial value of theta from which to start training\n",
    "THETA_INIT: Array = jnp.array([5.0])\n",
    "\n",
    "# Set to true to consider inverse problem of identifying theta\n",
    "RUN_INVERSE: bool = True\n",
    "\n",
    "# index of randomly regenerated dataset - 5 are provided\n",
    "RNG_INDEX: int = 0 # 0 <= RNG_INDEX <= 4\n",
    "\n",
    "# whether to use a psgp or pigp, i.e. whether to incorporate symmetry information\n",
    "# into the inference or not\n",
    "GP_TYPE = \"psgp\"\n",
    "assert GP_TYPE in [\"pigp\", \"psgp\"]\n",
    "\n",
    "# number of u/f/g space observations to use for inference\n",
    "N_DATA: int = 10\n",
    "Nu: int = N_DATA\n",
    "Nf: int = N_DATA\n",
    "# for pigp, no ISC data is incorporated so Ng = 0 in this case\n",
    "Ng: int = N_DATA if GP_TYPE == \"psgp\" else 0\n",
    "\n",
    "# path to subdirectory in ./data where fisher-like equation data is saved\n",
    "data_save_dir: str = f\"heatEquation/heatData_rng_index_{RNG_INDEX}_noise_0.01\"\n",
    "data_save_dir_full = os.path.join(\"data\", data_save_dir)\n",
    "assert os.path.isdir(data_save_dir_full)\n",
    "\n",
    "# dimensionality of the spatio-temporal domain (including time)\n",
    "INPUT_DIM: int = 2\n",
    "\n",
    "# initial value for std of noise levels in each space\n",
    "NOISE_INIT: float = 0.1\n",
    "\n",
    "# softplus transformation ensures noise and theta values are positive\n",
    "THETA_TRANSFORM: Callable = softplus\n",
    "NOISE_TRANSFORM: Callable = softplus\n",
    "\n",
    "# whether to save all test set prediction results or just summary statistics\n",
    "SAVE_ALL_PREDICTIONS: bool = False\n",
    "\n",
    "# options for model training\n",
    "N_TRAIN_STEPS: int = 20000\n",
    "N_RESTARTS: int = 3\n",
    "LR_INIT: float = 0.005\n",
    "VERBOSE: bool = False"
   ]
  },
  {
   "cell_type": "markdown",
   "id": "ade4577b-8299-4c3e-be7f-b5e50cef8156",
   "metadata": {},
   "source": [
    "### Specify mean and kernel functions\n",
    "\n",
    "These are designed such that the GP exactly satisfies the initial condition at $t=0.5$ and lower spatial boundary condition at $x=0$"
   ]
  },
  {
   "cell_type": "code",
   "execution_count": 4,
   "id": "b0200d9c-7d1d-4745-93fe-794c46830215",
   "metadata": {
    "execution": {
     "iopub.execute_input": "2024-05-29T09:21:30.713976Z",
     "iopub.status.busy": "2024-05-29T09:21:30.713591Z",
     "iopub.status.idle": "2024-05-29T09:21:30.721137Z",
     "shell.execute_reply": "2024-05-29T09:21:30.720573Z",
     "shell.execute_reply.started": "2024-05-29T09:21:30.713952Z"
    }
   },
   "outputs": [],
   "source": [
    "def phi(loc: Array):\n",
    "    x, t = loc\n",
    "    return x * (t - 0.5)\n",
    "\n",
    "\n",
    "base_kernel = jax_pigp.kernels.rational_quadratic\n",
    "\n",
    "\n",
    "def kernel_fn(params: dict, loc1: Array, loc2: Array):\n",
    "\n",
    "    base_kernel_val = base_kernel(params, loc1, loc2)\n",
    "\n",
    "    cov_val = phi(loc1) * phi(loc2) * base_kernel_val\n",
    "\n",
    "    return cov_val.squeeze()\n",
    "\n",
    "\n",
    "def mean_fn(params: dict, loc: Array):\n",
    "    x, _ = loc\n",
    "    return (2.0 * jnp.sqrt(2.0) * x * jnp.exp((-(x**2)) / 2.0)).squeeze()"
   ]
  },
  {
   "cell_type": "markdown",
   "id": "b80966b9-4e25-481d-ba00-141f63666c4d",
   "metadata": {},
   "source": [
    "### Specify linear differential operators\n",
    "\n",
    "Recall that the heat PDE over one spatial dimension takes the form\n",
    "\n",
    "$$PDE[u] =   \\frac{\\partial u}{\\partial t} - \\theta \\frac{\\partial^2 u}{\\partial x^2} = f = 0,$$\n",
    "where $\\theta$ is the thermal diffusivity coefficient. In shorthand notation (see Eq.(25) of the paper), the PDE reads as\n",
    "\n",
    "$$PDE[u] =  u_{t} - \\theta u_{xx} = f = 0.$$\n",
    "\n",
    "The ISC (see Eq.(27)) has the form\n",
    "\n",
    "$$ ISC[u] =     \\left(\\frac{x^2}{4 \\theta }+\\frac{t}{2}\\right) u+x t u_x+t^2 u_t = g = 0.$$\n",
    "\n",
    "##### Implementation: \n",
    "\n",
    "* We define a dummy linear operator for $u$-space data which is just the identity transformation\n",
    "* The PDE can be applied to a given function using ``apply_PDE`` defined below, and similarly the ISC can be applied using ``apply_ISC``\n"
   ]
  },
  {
   "cell_type": "code",
   "execution_count": 5,
   "id": "c1a5845f-e787-4521-bfd1-8da78c8296b6",
   "metadata": {
    "execution": {
     "iopub.execute_input": "2024-05-29T09:21:30.722020Z",
     "iopub.status.busy": "2024-05-29T09:21:30.721752Z",
     "iopub.status.idle": "2024-05-29T09:21:30.727541Z",
     "shell.execute_reply": "2024-05-29T09:21:30.727012Z",
     "shell.execute_reply.started": "2024-05-29T09:21:30.722003Z"
    }
   },
   "outputs": [],
   "source": [
    "def apply_Identity(fn: Callable, argnum: int = 1):\n",
    "    r\"\"\"\n",
    "    Dummy identity transformation for u-space data\n",
    "    \"\"\"\n",
    "    return fn\n",
    "\n",
    "\n",
    "def apply_PDE(fn: Callable, argnum: int = 1):\n",
    "    r\"\"\"\n",
    "    Applies the Heat PDE to given input\n",
    "    fn, evaluated at specified argnum\n",
    "    \"\"\"\n",
    "\n",
    "    # the Jacobian and Hessian functions\n",
    "    Jfn, Hfn = jac_hess(fn, argnum)\n",
    "\n",
    "    def PDE(params: dict, loc1: Array, *loc2: Array):\n",
    "        ## Note: we assume spatial value comes before temporal value in loc1 and loc2\n",
    "\n",
    "        theta = THETA_TRANSFORM(params[\"theta\"])[0] if RUN_INVERSE else THETA_TRUE[0]\n",
    "\n",
    "        _, ut_val = Jfn(params, loc1, *loc2)\n",
    "\n",
    "        uxx_val = Hfn(params, loc1, *loc2)[0, 0]\n",
    "\n",
    "        return_val = ut_val - theta * uxx_val\n",
    "\n",
    "        return return_val\n",
    "\n",
    "    return PDE\n",
    "\n",
    "\n",
    "def apply_ISC(fn: Callable, argnum: int = 1):\n",
    "    r\"\"\"\n",
    "    Applies the Heat ISC to given input\n",
    "    fn, evaluated at specified argnum\n",
    "    \"\"\"\n",
    "\n",
    "    # the Jacobian function\n",
    "    Jfn, _ = jac_hess(fn, argnum)\n",
    "\n",
    "    def ISC(params: dict, loc1: Array, *loc2: Array):\n",
    "        ## Note: we assume spatial value comes before temporal value in loc1 and loc2\n",
    "\n",
    "        x, t = loc1 if argnum == 1 else loc2[0]\n",
    "\n",
    "        theta = THETA_TRANSFORM(params[\"theta\"])[0] if RUN_INVERSE else THETA_TRUE[0]\n",
    "\n",
    "        ux_val, ut_val = Jfn(params, loc1, *loc2)\n",
    "        u_val = fn(params, loc1, *loc2)\n",
    "\n",
    "        eta = ((x**2) / (4.0 * theta) + t / 2.0) * u_val\n",
    "        psi = x * t\n",
    "        tau = t**2\n",
    "\n",
    "        return eta + psi * ux_val + tau * ut_val\n",
    "\n",
    "    return ISC\n",
    "\n",
    "\n",
    "linear_operators = [apply_Identity, apply_PDE, apply_ISC]"
   ]
  },
  {
   "cell_type": "markdown",
   "id": "27abfed4-0f63-41d1-afa3-fea6c3b15749",
   "metadata": {},
   "source": [
    "### Store settings"
   ]
  },
  {
   "cell_type": "markdown",
   "id": "8cb8cc58-80b3-41a8-8691-61e434a11207",
   "metadata": {},
   "source": [
    "Store optimisation options in a dictionary"
   ]
  },
  {
   "cell_type": "code",
   "execution_count": 6,
   "id": "a6771a0f-35f9-4651-b1f0-0006c7e5f8a3",
   "metadata": {
    "execution": {
     "iopub.execute_input": "2024-05-29T09:21:30.729279Z",
     "iopub.status.busy": "2024-05-29T09:21:30.729080Z",
     "iopub.status.idle": "2024-05-29T09:21:30.735148Z",
     "shell.execute_reply": "2024-05-29T09:21:30.734519Z",
     "shell.execute_reply.started": "2024-05-29T09:21:30.729264Z"
    }
   },
   "outputs": [],
   "source": [
    "opt_options = {}\n",
    "opt_options[\"n_steps\"] = N_TRAIN_STEPS\n",
    "opt_options[\"n_restarts\"] = N_RESTARTS\n",
    "opt_options[\"lr\"] = LR_INIT\n",
    "opt_options[\"verbose\"] = VERBOSE\n",
    "opt_options[\"theta_transform\"] = THETA_TRANSFORM\n",
    "opt_options[\"noise_transform\"] = NOISE_TRANSFORM"
   ]
  },
  {
   "cell_type": "markdown",
   "id": "01a34b65-ef7e-4331-9488-1a1114b318c4",
   "metadata": {},
   "source": [
    "Specify parameter initialisation function"
   ]
  },
  {
   "cell_type": "code",
   "execution_count": 7,
   "id": "392f2167-db6e-4823-9e6a-2f4ac7a9e5f6",
   "metadata": {
    "execution": {
     "iopub.execute_input": "2024-05-29T09:21:30.736114Z",
     "iopub.status.busy": "2024-05-29T09:21:30.735792Z",
     "iopub.status.idle": "2024-05-29T09:21:30.740753Z",
     "shell.execute_reply": "2024-05-29T09:21:30.740272Z",
     "shell.execute_reply.started": "2024-05-29T09:21:30.736097Z"
    }
   },
   "outputs": [],
   "source": [
    "param_gen_options[\"input_dim\"] = INPUT_DIM\n",
    "param_gen_options[\"theta_init\"] = THETA_INIT\n",
    "param_gen_options[\"theta_transform\"] = THETA_TRANSFORM\n",
    "# each function space gets its own noise level\n",
    "param_gen_options[\"noise_std_init\"] = [NOISE_INIT]*len(linear_operators)\n",
    "param_gen_options[\"noise_transform\"] = NOISE_TRANSFORM\n",
    "\n",
    "# randomly samples kernel parameter values given an input seed\n",
    "generate_params_fn = lambda seed: generate_params(seed, param_gen_options)"
   ]
  },
  {
   "cell_type": "markdown",
   "id": "d62ac1b3-a7be-44e5-a829-a3abb6241f0f",
   "metadata": {},
   "source": [
    "Create a directory to save the results "
   ]
  },
  {
   "cell_type": "code",
   "execution_count": 8,
   "id": "b93cc163-8ab5-4133-a986-20e730be2986",
   "metadata": {
    "execution": {
     "iopub.execute_input": "2024-05-29T09:21:30.742323Z",
     "iopub.status.busy": "2024-05-29T09:21:30.742159Z",
     "iopub.status.idle": "2024-05-29T09:21:30.746887Z",
     "shell.execute_reply": "2024-05-29T09:21:30.746469Z",
     "shell.execute_reply.started": "2024-05-29T09:21:30.742308Z"
    }
   },
   "outputs": [],
   "source": [
    "results_save_dir = os.path.join(\n",
    "    \"results\", data_save_dir + f\"{GP_TYPE}_Nu_{Nu}_Nf_{Nf}_Ng_{Ng}\"\n",
    ")\n",
    "if not os.path.isdir(results_save_dir):\n",
    "    os.makedirs(results_save_dir)"
   ]
  },
  {
   "cell_type": "markdown",
   "id": "9b71e326-858b-4f8c-bc7e-bc77fbb04fff",
   "metadata": {},
   "source": [
    "## Data and model initialisation"
   ]
  },
  {
   "cell_type": "markdown",
   "id": "6d381c43-b7a7-4eee-b22d-6dcaddd09e04",
   "metadata": {},
   "source": [
    "### Load train and test data"
   ]
  },
  {
   "cell_type": "code",
   "execution_count": 9,
   "id": "001f0e4b-7ccd-499d-8ec7-5d785dffa027",
   "metadata": {
    "execution": {
     "iopub.execute_input": "2024-05-29T09:21:30.747914Z",
     "iopub.status.busy": "2024-05-29T09:21:30.747582Z",
     "iopub.status.idle": "2024-05-29T09:21:30.969075Z",
     "shell.execute_reply": "2024-05-29T09:21:30.968379Z",
     "shell.execute_reply.started": "2024-05-29T09:21:30.747900Z"
    }
   },
   "outputs": [],
   "source": [
    "train_data = load_data(data_save_dir_full, Nu, Nf, Ng, load_test=False)\n",
    "test_data = load_test_data(\"data/heatEquation/testData\")"
   ]
  },
  {
   "cell_type": "markdown",
   "id": "a4a48e84-7cca-4b64-a46d-a6244fcbbf16",
   "metadata": {},
   "source": [
    "Check shapes of train and test data"
   ]
  },
  {
   "cell_type": "code",
   "execution_count": 10,
   "id": "af173916-ea9e-45f5-9112-b1683c08b2b6",
   "metadata": {
    "execution": {
     "iopub.execute_input": "2024-05-29T09:21:30.970091Z",
     "iopub.status.busy": "2024-05-29T09:21:30.969860Z",
     "iopub.status.idle": "2024-05-29T09:21:30.975656Z",
     "shell.execute_reply": "2024-05-29T09:21:30.975177Z",
     "shell.execute_reply.started": "2024-05-29T09:21:30.970074Z"
    }
   },
   "outputs": [
    {
     "data": {
      "text/plain": [
       "((30, 1), (8000, 1), [(10, 2), (10, 2), (10, 2)])"
      ]
     },
     "execution_count": 10,
     "metadata": {},
     "output_type": "execute_result"
    }
   ],
   "source": [
    "train_data.ytrain.shape, test_data.us.shape, [X.shape for X in train_data.Xtrain]"
   ]
  },
  {
   "cell_type": "markdown",
   "id": "d0ae6c47-c30a-4f5d-9b77-c2e525216e13",
   "metadata": {},
   "source": [
    "### Initialise PIGP model"
   ]
  },
  {
   "cell_type": "code",
   "execution_count": 11,
   "id": "6506737d-3eec-4592-acf5-9e5485da9c94",
   "metadata": {
    "execution": {
     "iopub.execute_input": "2024-05-29T09:21:30.976540Z",
     "iopub.status.busy": "2024-05-29T09:21:30.976285Z",
     "iopub.status.idle": "2024-05-29T09:21:30.984039Z",
     "shell.execute_reply": "2024-05-29T09:21:30.983458Z",
     "shell.execute_reply.started": "2024-05-29T09:21:30.976523Z"
    }
   },
   "outputs": [],
   "source": [
    "heat_kernel_fns = jax_pigp.interdomain_moments.InterdomainKernelFns(\n",
    "    kernel_fn, linear_operators\n",
    ")\n",
    "heat_mean_fns = jax_pigp.interdomain_moments.InterdomainMeanFns(\n",
    "    mean_fn, linear_operators\n",
    ")\n",
    "\n",
    "gp_model = jax_pigp.models.GPR(heat_kernel_fns, heat_mean_fns)"
   ]
  },
  {
   "cell_type": "markdown",
   "id": "d2d89230-1c23-4827-8d9b-093bdfa57715",
   "metadata": {},
   "source": [
    "### Initialise learner for model training"
   ]
  },
  {
   "cell_type": "code",
   "execution_count": 12,
   "id": "76bf0448-abbe-44f4-b77b-c1cc7505ae92",
   "metadata": {
    "execution": {
     "iopub.execute_input": "2024-05-29T09:21:30.984921Z",
     "iopub.status.busy": "2024-05-29T09:21:30.984634Z",
     "iopub.status.idle": "2024-05-29T09:21:31.701154Z",
     "shell.execute_reply": "2024-05-29T09:21:31.700537Z",
     "shell.execute_reply.started": "2024-05-29T09:21:30.984904Z"
    }
   },
   "outputs": [],
   "source": [
    "obj_fn_train = lambda params: -gp_model.log_marginal_likelihood(params, train_data)\n",
    "\n",
    "gp_learner = jax_pigp.optimisers.AdamLearner(\n",
    "    obj_fn_train, opt_options, generate_params_fn, random.PRNGKey(BASE_SEED_VAL)\n",
    ")"
   ]
  },
  {
   "cell_type": "markdown",
   "id": "911dfdc1-192e-416e-83c0-41c363eaf40e",
   "metadata": {},
   "source": [
    "Initial parameter values  "
   ]
  },
  {
   "cell_type": "code",
   "execution_count": 13,
   "id": "fdfa69d9-ca03-4ac7-ba4d-dedfe2d13ab0",
   "metadata": {
    "execution": {
     "iopub.execute_input": "2024-05-29T09:21:31.702186Z",
     "iopub.status.busy": "2024-05-29T09:21:31.702012Z",
     "iopub.status.idle": "2024-05-29T09:21:31.793269Z",
     "shell.execute_reply": "2024-05-29T09:21:31.792638Z",
     "shell.execute_reply.started": "2024-05-29T09:21:31.702169Z"
    }
   },
   "outputs": [
    {
     "name": "stdout",
     "output_type": "stream",
     "text": [
      "amp: [11.12904922]\n",
      "ls: [4.31285466 3.07135287]\n",
      "alpha: [20.70434987]\n",
      "noise_std: [0.1 0.1 0.1]\n",
      "theta: [5.]\n"
     ]
    }
   ],
   "source": [
    "print_param_values(gp_learner.params, opt_options)"
   ]
  },
  {
   "cell_type": "markdown",
   "id": "afd94393-fbe4-4875-9684-2052d0a8db52",
   "metadata": {},
   "source": [
    "Objective function value for initial parameters"
   ]
  },
  {
   "cell_type": "code",
   "execution_count": 14,
   "id": "e6d2c7ce-19b8-401b-b8ac-fc4a9ada7805",
   "metadata": {
    "execution": {
     "iopub.execute_input": "2024-05-29T09:21:31.794180Z",
     "iopub.status.busy": "2024-05-29T09:21:31.793962Z",
     "iopub.status.idle": "2024-05-29T09:21:48.028643Z",
     "shell.execute_reply": "2024-05-29T09:21:48.027896Z",
     "shell.execute_reply.started": "2024-05-29T09:21:31.794160Z"
    }
   },
   "outputs": [
    {
     "data": {
      "text/plain": [
       "Array(-4445.6815561, dtype=float64)"
      ]
     },
     "execution_count": 14,
     "metadata": {},
     "output_type": "execute_result"
    }
   ],
   "source": [
    "gp_model.log_marginal_likelihood(gp_learner.params, train_data)"
   ]
  },
  {
   "cell_type": "markdown",
   "id": "3feff790-6cca-4f8a-a16e-012182e5d8db",
   "metadata": {},
   "source": [
    "Gradient of the objective function with respect to the initial parameters"
   ]
  },
  {
   "cell_type": "code",
   "execution_count": 15,
   "id": "fa0404f8-c22e-4bdf-b552-74adafb415ee",
   "metadata": {
    "execution": {
     "iopub.execute_input": "2024-05-29T09:21:48.030799Z",
     "iopub.status.busy": "2024-05-29T09:21:48.030367Z",
     "iopub.status.idle": "2024-05-29T09:22:16.870477Z",
     "shell.execute_reply": "2024-05-29T09:22:16.869779Z",
     "shell.execute_reply.started": "2024-05-29T09:21:48.030779Z"
    }
   },
   "outputs": [
    {
     "data": {
      "text/plain": [
       "(Array(4445.6815561, dtype=float64),\n",
       " {'alpha': Array([1.66124801], dtype=float64),\n",
       "  'amp': Array([-84.18766145], dtype=float64),\n",
       "  'ls': Array([423.49899655, 434.97182884], dtype=float64),\n",
       "  'noise_std': Array([ -343.24836123, -3205.3752434 , -3156.40355853], dtype=float64),\n",
       "  'theta': Array([1838.70303164], dtype=float64)})"
      ]
     },
     "execution_count": 15,
     "metadata": {},
     "output_type": "execute_result"
    }
   ],
   "source": [
    "gp_learner.grad_obj_fn(gp_learner.params)"
   ]
  },
  {
   "cell_type": "markdown",
   "id": "fe399d56-db76-4bba-b4a6-099a0250e24a",
   "metadata": {},
   "source": [
    "## Training "
   ]
  },
  {
   "cell_type": "markdown",
   "id": "a6747a73-e26a-4e37-b4d8-47c596156cea",
   "metadata": {},
   "source": [
    "[JIT compile](https://jax.readthedocs.io/en/latest/jit-compilation.html) the ``update_one_step`` method by evaluating it once, then train model for specified number of steps/restarts."
   ]
  },
  {
   "cell_type": "code",
   "execution_count": 16,
   "id": "84d24991-4922-47de-8616-0d823ed16a5d",
   "metadata": {
    "execution": {
     "iopub.execute_input": "2024-05-29T09:22:16.872125Z",
     "iopub.status.busy": "2024-05-29T09:22:16.871735Z",
     "iopub.status.idle": "2024-05-29T09:22:47.348950Z",
     "shell.execute_reply": "2024-05-29T09:22:47.347961Z",
     "shell.execute_reply.started": "2024-05-29T09:22:16.872103Z"
    }
   },
   "outputs": [],
   "source": [
    "_ = gp_learner.update_one_step(gp_learner.params, gp_learner.opt_state)"
   ]
  },
  {
   "cell_type": "code",
   "execution_count": 17,
   "id": "f91eb401-e484-4d50-9f6e-3c0d3fb2172b",
   "metadata": {
    "execution": {
     "iopub.execute_input": "2024-05-29T09:22:47.350341Z",
     "iopub.status.busy": "2024-05-29T09:22:47.350099Z",
     "iopub.status.idle": "2024-05-29T09:25:15.251556Z",
     "shell.execute_reply": "2024-05-29T09:25:15.250797Z",
     "shell.execute_reply.started": "2024-05-29T09:22:47.350320Z"
    }
   },
   "outputs": [
    {
     "name": "stdout",
     "output_type": "stream",
     "text": [
      "gp_type=psgp, with Nu=10, Nf=10, Ng=10, n_steps=20000, n_restarts=3\n",
      "\n",
      "Restart 0: beginning training for 20000 steps\n",
      "Final training results: \n",
      "(19999): -47.8192, noise_std_vals = [2.99e-02,3.40e-03,1.01e-03], theta = [0.99014535]\n",
      "\n",
      "\n",
      "Restart 1: beginning training for 20000 steps\n",
      "Final training results: \n",
      "(19999): -47.7758, noise_std_vals = [2.99e-02,3.33e-03,1.09e-03], theta = [0.99046682]\n",
      "\n",
      "\n",
      "Restart 2: beginning training for 20000 steps\n",
      "Final training results: \n",
      "(19999): -47.7341, noise_std_vals = [2.99e-02,3.23e-03,1.14e-03], theta = [0.99006999]\n",
      "\n",
      "\n"
     ]
    }
   ],
   "source": [
    "print(\n",
    "    f\"gp_type={GP_TYPE}, with Nu={Nu}, Nf={Nf}, Ng={Ng}, n_steps={opt_options['n_steps']}, n_restarts={opt_options['n_restarts']}\\n\"\n",
    ")\n",
    "gp_learner.train_with_restarts(\n",
    "    opt_options[\"n_steps\"],\n",
    "    opt_options[\"n_restarts\"],\n",
    "    print_progress=opt_options[\"verbose\"],\n",
    ")"
   ]
  },
  {
   "cell_type": "markdown",
   "id": "e7dd0cc9-d70e-45c0-86a0-cb3ac7ff17d7",
   "metadata": {},
   "source": [
    "Uncomment below to continue training from existing parameter values:"
   ]
  },
  {
   "cell_type": "code",
   "execution_count": 18,
   "id": "b629bdf2-e273-4f77-80db-2230af817e9a",
   "metadata": {
    "execution": {
     "iopub.execute_input": "2024-05-29T09:25:15.253193Z",
     "iopub.status.busy": "2024-05-29T09:25:15.252957Z",
     "iopub.status.idle": "2024-05-29T09:25:15.257284Z",
     "shell.execute_reply": "2024-05-29T09:25:15.256783Z",
     "shell.execute_reply.started": "2024-05-29T09:25:15.253171Z"
    }
   },
   "outputs": [],
   "source": [
    "# gp_learner.train(opt_options[\"n_steps\"])"
   ]
  },
  {
   "cell_type": "markdown",
   "id": "b1f16ab0-0d14-4fe3-91fc-d1e7fc81b050",
   "metadata": {},
   "source": [
    "### Plot training results"
   ]
  },
  {
   "cell_type": "code",
   "execution_count": 19,
   "id": "061db8ab-98a1-4ad9-b5a6-a4215affbcc9",
   "metadata": {
    "execution": {
     "iopub.execute_input": "2024-05-29T09:25:15.258278Z",
     "iopub.status.busy": "2024-05-29T09:25:15.258094Z",
     "iopub.status.idle": "2024-05-29T09:25:16.338980Z",
     "shell.execute_reply": "2024-05-29T09:25:16.338393Z",
     "shell.execute_reply.started": "2024-05-29T09:25:15.258262Z"
    }
   },
   "outputs": [
    {
     "data": {
      "image/png": "[encoded data removed]",
      "text/plain": [
       "<Figure size 700x300 with 2 Axes>"
      ]
     },
     "metadata": {},
     "output_type": "display_data"
    }
   ],
   "source": [
    "theta_arr = jnp.array(gp_learner.theta_list)\n",
    "theta_arr = gp_learner.theta_list\n",
    "\n",
    "fig, axes = plt.subplots(nrows=1, ncols=2, figsize=TWO_COLUMN_FIGSIZE)\n",
    "\n",
    "begin_at = int(len(gp_learner.obj_list) * 0.05)\n",
    "\n",
    "plot_lc(axes[0], gp_learner.obj_list[begin_at:], \"Objective Function\")\n",
    "plot_lc(axes[1], theta_arr[begin_at:], \"theta\")\n",
    "\n",
    "fig.tight_layout()\n",
    "\n",
    "plt.savefig(os.path.join(results_save_dir, \"learningCurves.pdf\"))"
   ]
  },
  {
   "cell_type": "markdown",
   "id": "e1c726ce-f6da-4571-8166-4f100ab16b60",
   "metadata": {},
   "source": [
    "### Final trained parameter values"
   ]
  },
  {
   "cell_type": "code",
   "execution_count": 20,
   "id": "7d7749e8-0789-4dd2-b088-96a713ea8db0",
   "metadata": {
    "execution": {
     "iopub.execute_input": "2024-05-29T09:25:16.340339Z",
     "iopub.status.busy": "2024-05-29T09:25:16.340002Z",
     "iopub.status.idle": "2024-05-29T09:25:16.351619Z",
     "shell.execute_reply": "2024-05-29T09:25:16.351227Z",
     "shell.execute_reply.started": "2024-05-29T09:25:16.340321Z"
    }
   },
   "outputs": [
    {
     "name": "stdout",
     "output_type": "stream",
     "text": [
      "set trained_params to gp_learner.params_best\n",
      "\n",
      "alpha: [17.62821142]\n",
      "amp: [56.2556352]\n",
      "ls: [1.43711879 0.56754069]\n",
      "noise_std: [0.02987172 0.00340092 0.00101311]\n",
      "theta: [0.99014535]\n"
     ]
    }
   ],
   "source": [
    "# extract final trained parameter values\n",
    "try:\n",
    "    trained_params = gp_learner.params_best.copy()\n",
    "    print(f'set trained_params to gp_learner.params_best\\n')\n",
    "except:\n",
    "    trained_params = gp_learner.params.copy()\n",
    "    print(f'set trained_params to gp_learner.params\\n')\n",
    "\n",
    "# print the values of the trained parameters\n",
    "print_param_values(trained_params, opt_options)\n",
    "\n",
    "# save trained parameters\n",
    "param_save_path = os.path.join(results_save_dir, \"trained_params.pkl\")\n",
    "with open(param_save_path, \"wb\") as fp:\n",
    "    pickle.dump(trained_params, fp)"
   ]
  },
  {
   "cell_type": "markdown",
   "id": "fcb49cb0-c77f-4221-8acb-a4c522490f93",
   "metadata": {},
   "source": [
    "Can load pre-trained parameters by uncommenting the below"
   ]
  },
  {
   "cell_type": "code",
   "execution_count": 21,
   "id": "044e6b92-c41f-46f7-9fa6-c99bb2fdf9f7",
   "metadata": {
    "execution": {
     "iopub.execute_input": "2024-05-29T09:25:16.353979Z",
     "iopub.status.busy": "2024-05-29T09:25:16.353686Z",
     "iopub.status.idle": "2024-05-29T09:25:16.355911Z",
     "shell.execute_reply": "2024-05-29T09:25:16.355474Z",
     "shell.execute_reply.started": "2024-05-29T09:25:16.353962Z"
    }
   },
   "outputs": [],
   "source": [
    "# with open(param_save_path, 'rb') as f:\n",
    "    # trained_params = pickle.load(f)"
   ]
  },
  {
   "cell_type": "markdown",
   "id": "e33bc444-5fff-4f0b-8507-4985eea193e0",
   "metadata": {},
   "source": [
    "## Test set results\n",
    "\n",
    "Evaluate posterior distribution at test points, using hyper-parameter values ``trained_params`` obtained during training phase."
   ]
  },
  {
   "cell_type": "code",
   "execution_count": 22,
   "id": "f874b8dc-a850-4644-b1a7-bbc7da8e7dda",
   "metadata": {
    "execution": {
     "iopub.execute_input": "2024-05-29T09:25:16.356759Z",
     "iopub.status.busy": "2024-05-29T09:25:16.356481Z",
     "iopub.status.idle": "2024-05-29T09:25:24.265012Z",
     "shell.execute_reply": "2024-05-29T09:25:24.264161Z",
     "shell.execute_reply.started": "2024-05-29T09:25:16.356742Z"
    }
   },
   "outputs": [
    {
     "name": "stdout",
     "output_type": "stream",
     "text": [
      "Posterior results for psgp, Nu=10, Nf=10, Ng=10, Ns=8000\n",
      "mean/max loss: 1.438692e-03/1.025e-02\n",
      "theta_true : [1.]\n",
      "theta_pred : [0.99014535]\n",
      "theta_loss : 9.855e-03\n"
     ]
    }
   ],
   "source": [
    "# posterior mean and covariance over test points\n",
    "print(\n",
    "    f\"Posterior results for {GP_TYPE}, Nu={Nu}, Nf={Nf}, Ng={Ng}, Ns={test_data.Xs.shape[0]}\"\n",
    ")\n",
    "# posterior mean and covariance over test outputs us\n",
    "mu, Sigma = gp_model.posterior_predict(trained_params, train_data, test_data.Xs)\n",
    "\n",
    "# standard deviation of prediction at each test point\n",
    "s = jnp.diag(Sigma) ** 0.5\n",
    "\n",
    "# save predictions\n",
    "if SAVE_ALL_PREDICTIONS:\n",
    "    jnp.save(os.path.join(results_save_dir, \"u_pred.npy\"), mu)\n",
    "    jnp.save(os.path.join(results_save_dir, \"s_pred.npy\"), s)\n",
    "\n",
    "# test set prediction error\n",
    "abs_losses = jnp.abs(mu - test_data.us)\n",
    "print(f\"mean/max loss: {abs_losses.mean():3e}/{abs_losses.max():.3e}\")\n",
    "savetxt(\n",
    "    os.path.join(results_save_dir, \"mean_loss.txt\"), abs_losses.mean().reshape(-1, 1)\n",
    ")\n",
    "\n",
    "if RUN_INVERSE:\n",
    "    theta_pred = opt_options[\"theta_transform\"](trained_params[\"theta\"])\n",
    "    theta_loss = jnp.linalg.norm(theta_pred - THETA_TRUE)\n",
    "    print(f\"theta_true : {THETA_TRUE}\")\n",
    "    print(f\"theta_pred : {theta_pred}\")\n",
    "    print(f\"theta_loss : {theta_loss:.3e}\")\n",
    "    savetxt(os.path.join(results_save_dir, \"theta_loss.txt\"), jnp.array([theta_loss]))"
   ]
  },
  {
   "cell_type": "markdown",
   "id": "a6f288da-d6ea-4be6-9801-eef294e42009",
   "metadata": {},
   "source": [
    "### Plots of posterior prediction"
   ]
  },
  {
   "cell_type": "code",
   "execution_count": 23,
   "id": "300170da-c0f6-4f85-bb9c-d1b884a4d0bf",
   "metadata": {
    "execution": {
     "iopub.execute_input": "2024-05-29T09:25:24.266415Z",
     "iopub.status.busy": "2024-05-29T09:25:24.266116Z",
     "iopub.status.idle": "2024-05-29T09:25:27.742145Z",
     "shell.execute_reply": "2024-05-29T09:25:27.741494Z",
     "shell.execute_reply.started": "2024-05-29T09:25:24.266389Z"
    }
   },
   "outputs": [
    {
     "data": {
      "image/png": "[encoded data removed]",
      "text/plain": [
       "<Figure size 1200x300 with 6 Axes>"
      ]
     },
     "metadata": {},
     "output_type": "display_data"
    }
   ],
   "source": [
    "fig, axes = plt.subplots(nrows=1, ncols=3, figsize=THREE_COLUMN_FIGSIZE)\n",
    "\n",
    "Nx = len(jnp.unique(test_data.Xs[:, 0]))\n",
    "Nt = len(jnp.unique(test_data.Xs[:, 1]))\n",
    "\n",
    "Xu, Xf, _ = train_data.Xtrain\n",
    "\n",
    "make_heatmap_heat = lambda ax, output, title=None: make_heatmap(\n",
    "    fig, ax, output.reshape(Nt, Nx).T, test_data, Xu, Xf, title\n",
    ")\n",
    "\n",
    "make_heatmap_heat(axes[0], test_data.us, title=\"u_true\")\n",
    "make_heatmap_heat(axes[1], mu, title=f\"u_pred, {GP_TYPE}\")\n",
    "make_heatmap_heat(axes[2], abs_losses, title=f\"err_u (mean = {abs_losses.mean():.3e})\")\n",
    "\n",
    "fig.tight_layout()\n",
    "\n",
    "plt.savefig(os.path.join(results_save_dir, \"posteriorPrediction.pdf\"))"
   ]
  }
 ],
 "metadata": {
  "kernelspec": {
   "display_name": "Python 3 (ipykernel)",
   "language": "python",
   "name": "python3"
  },
  "language_info": {
   "codemirror_mode": {
    "name": "ipython",
    "version": 3
   },
   "file_extension": ".py",
   "mimetype": "text/x-python",
   "name": "python",
   "nbconvert_exporter": "python",
   "pygments_lexer": "ipython3",
   "version": "3.12.2"
  }
 },
 "nbformat": 4,
 "nbformat_minor": 5
}
