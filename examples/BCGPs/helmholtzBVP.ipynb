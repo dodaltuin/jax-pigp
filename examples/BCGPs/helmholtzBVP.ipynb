{
 "cells": [
  {
   "cell_type": "markdown",
   "id": "e6c2b40e-50a2-41de-be50-2fd53442eb88",
   "metadata": {},
   "source": [
    "# Helmholtz-BVP\n",
    "\n",
    "This notebook implements the BCGP and UCGP experiments for Helmholtz-BVP from Section 5.6 of the manuscript"
   ]
  },
  {
   "cell_type": "markdown",
   "id": "029e3fae-6e54-4151-ac93-a06f0af3edc7",
   "metadata": {},
   "source": [
    "## Preliminaries "
   ]
  },
  {
   "cell_type": "markdown",
   "id": "d3fb2ee6-155a-42a5-94d4-5a25c8a6f825",
   "metadata": {},
   "source": [
    "Whether to run computations on GPU or CPU"
   ]
  },
  {
   "cell_type": "code",
   "execution_count": 1,
   "id": "fc022abd-2bd7-4ac1-9429-9ce0ddcfce47",
   "metadata": {
    "execution": {
     "iopub.execute_input": "2024-10-15T14:16:03.698011Z",
     "iopub.status.busy": "2024-10-15T14:16:03.697568Z",
     "iopub.status.idle": "2024-10-15T14:16:03.705396Z",
     "shell.execute_reply": "2024-10-15T14:16:03.704245Z",
     "shell.execute_reply.started": "2024-10-15T14:16:03.697962Z"
    }
   },
   "outputs": [],
   "source": [
    "import os\n",
    "\n",
    "USE_GPU: bool = True\n",
    "\n",
    "if not USE_GPU:\n",
    "    os.environ['JAX_PLATFORM_NAME'] = 'cpu'\n",
    "else:\n",
    "    os.environ[\"CUDA_VISIBLE_DEVICES\"] = str(0)"
   ]
  },
  {
   "cell_type": "markdown",
   "id": "57ebbd34-791d-431d-91e7-a4884a7e8c01",
   "metadata": {},
   "source": [
    "Package imports"
   ]
  },
  {
   "cell_type": "code",
   "execution_count": 2,
   "id": "f5dd8eeb-7d4c-452e-8659-f499484a10ee",
   "metadata": {
    "execution": {
     "iopub.execute_input": "2024-10-15T14:16:08.338499Z",
     "iopub.status.busy": "2024-10-15T14:16:08.337783Z",
     "iopub.status.idle": "2024-10-15T14:16:12.769159Z",
     "shell.execute_reply": "2024-10-15T14:16:12.767901Z",
     "shell.execute_reply.started": "2024-10-15T14:16:08.338449Z"
    }
   },
   "outputs": [],
   "source": [
    "import jax.numpy as jnp\n",
    "from jax import config, random, devices\n",
    "\n",
    "import os\n",
    "import pickle\n",
    "from numpy import savetxt\n",
    "\n",
    "# ensure that we can access jax_pigp\n",
    "import sys\n",
    "sys.path.append('../../')\n",
    "\n",
    "import jax_pigp\n",
    "from jax_pigp.utility_fns import softplus, generate_params\n",
    "from utility_fns import PARAM_OPTIONS_DICT as param_gen_options\n",
    "from jax_pigp.base import Callable, Array\n",
    "\n",
    "from utility_fns import *\n",
    "\n",
    "# double precision prevents nans\n",
    "config.update(\"jax_enable_x64\", True) \n",
    "config.update(\"jax_debug_nans\", False) "
   ]
  },
  {
   "cell_type": "markdown",
   "id": "8bf39220-749f-4598-be69-a74c10fe9f32",
   "metadata": {},
   "source": [
    "Check what devices are available"
   ]
  },
  {
   "cell_type": "code",
   "execution_count": 3,
   "id": "2925d3aa-54c1-403a-af64-d3d2a251a480",
   "metadata": {
    "execution": {
     "iopub.execute_input": "2024-10-15T14:09:37.004368Z",
     "iopub.status.busy": "2024-10-15T14:09:37.004155Z",
     "iopub.status.idle": "2024-10-15T14:09:37.011628Z",
     "shell.execute_reply": "2024-10-15T14:09:37.010528Z",
     "shell.execute_reply.started": "2024-10-15T14:09:37.004354Z"
    }
   },
   "outputs": [
    {
     "data": {
      "text/plain": [
       "[CudaDevice(id=0)]"
      ]
     },
     "execution_count": 3,
     "metadata": {},
     "output_type": "execute_result"
    }
   ],
   "source": [
    "devices()"
   ]
  },
  {
   "cell_type": "markdown",
   "id": "5acf1c36-9bf2-4681-9954-556b9b93b468",
   "metadata": {},
   "source": [
    "#### Specify settings of the experiments\n",
    "\n",
    "Ensure that this cell is tagged as \"parameters\" when using papermill"
   ]
  },
  {
   "cell_type": "code",
   "execution_count": 3,
   "id": "ccb7f3e9-6e7a-4b41-844a-d6645233e824",
   "metadata": {
    "execution": {
     "iopub.execute_input": "2024-10-15T14:16:12.770341Z",
     "iopub.status.busy": "2024-10-15T14:16:12.770141Z",
     "iopub.status.idle": "2024-10-15T14:16:12.794290Z",
     "shell.execute_reply": "2024-10-15T14:16:12.792968Z",
     "shell.execute_reply.started": "2024-10-15T14:16:12.770327Z"
    }
   },
   "outputs": [],
   "source": [
    "# base random seed for parameter initialisation\n",
    "BASE_SEED_VAL: int = 98171\n",
    "\n",
    "# true value of the pde parameter theta \n",
    "THETA_TRUE: Array  = jnp.array([3.])\n",
    "\n",
    "# bounds from which to randomly sample initial value of theta\n",
    "THETA_MIN: Array = jnp.array([5.])\n",
    "THETA_MAX: Array = jnp.array([10.])\n",
    "THETA_BOUNDS = [THETA_MIN, THETA_MAX]\n",
    "\n",
    "# Set to true to consider inverse problem of identifying theta\n",
    "RUN_INVERSE: bool = True\n",
    "\n",
    "# specify how GP handles boundary condnitions \n",
    "GP_TYPE = 'bcgp'\n",
    "assert GP_TYPE in ['bcgp', 'ucgp'] \n",
    "\n",
    "# number of u/f/g space observations to use for inference\n",
    "N_DATA: int = 10\n",
    "Nu: int = N_DATA\n",
    "Nf: int = N_DATA\n",
    "\n",
    "# path to subdirectory in ./data where advection diffusion equation data is saved\n",
    "data_save_dir: str = f'helmholtz'\n",
    "data_save_dir_full = os.path.join('data', data_save_dir)\n",
    "assert os.path.isdir(data_save_dir_full)\n",
    "\n",
    "# dimensionality of the spatial domain \n",
    "INPUT_DIM: int = 2\n",
    "\n",
    "# initial value for std of noise levels for u / f points\n",
    "NOISE_INIT = jnp.array([0.1, 0.1])\n",
    "\n",
    "# softplus transformation ensures noise and theta values are positive\n",
    "THETA_TRANSFORM: Callable = softplus\n",
    "NOISE_TRANSFORM: Callable = softplus\n",
    "\n",
    "# whether to save all test set prediction results or just summary statistics\n",
    "SAVE_ALL_PREDICTIONS: bool = True\n",
    "\n",
    "# options for model training\n",
    "N_TRAIN_STEPS: int = 10000\n",
    "N_RESTARTS: int    = 5\n",
    "LR_INIT: float     = 0.005\n",
    "VERBOSE: bool      = False"
   ]
  },
  {
   "cell_type": "markdown",
   "id": "8bd38787-d7dc-4329-b1a9-ca0ba2d2ca34",
   "metadata": {},
   "source": [
    "### Specify boundary-constrained mean and kernel functions\n",
    "\n",
    "The BCGP mean and kernel functions are discussed in Appendix B.2.8 of the manuscript, and they are designed to ensure that the BCGP exactly satisfies the Dirichlet condition on $\\partial \\Omega_1$ and Neumann condition on $\\partial \\Omega_2$.\n",
    "\n",
    "The mean function is simply set to zero "
   ]
  },
  {
   "cell_type": "code",
   "execution_count": 4,
   "id": "0a3cc36d-4033-4aae-9f74-f904e8559fa0",
   "metadata": {
    "execution": {
     "iopub.execute_input": "2024-10-15T14:16:12.794819Z",
     "iopub.status.busy": "2024-10-15T14:16:12.794705Z",
     "iopub.status.idle": "2024-10-15T14:16:12.799279Z",
     "shell.execute_reply": "2024-10-15T14:16:12.798238Z",
     "shell.execute_reply.started": "2024-10-15T14:16:12.794808Z"
    }
   },
   "outputs": [],
   "source": [
    "mean_fn = lambda p, x: x[0]*0."
   ]
  },
  {
   "cell_type": "markdown",
   "id": "0684376a-9765-4d84-ab11-bde71d8461b9",
   "metadata": {},
   "source": [
    "The kernel $\\tilde{k}(x, x')$ takes the form\n",
    "\n",
    "\\begin{equation*}\n",
    "\t\\tilde{k}([x,y],[x',y']) = \\mathcal{B}^{m_1}_{x,y} \\mathcal{B}^{m_1}_{x',y'} k_1([x,y],[x',y']) + \\mathcal{B}^{m_2}_{x, y} \\mathcal{B}^{m_2}_{x', y'} k_2([x,y],[x',y']) ,\n",
    "\\end{equation*}\n",
    "\n",
    "in which $k_1$ and $k_2$ are squared-exponential kernels:"
   ]
  },
  {
   "cell_type": "code",
   "execution_count": 5,
   "id": "5d750eb1-5ebe-4e0a-9ca6-c2a7711deb49",
   "metadata": {
    "execution": {
     "iopub.execute_input": "2024-10-15T14:16:12.800611Z",
     "iopub.status.busy": "2024-10-15T14:16:12.800469Z",
     "iopub.status.idle": "2024-10-15T14:16:12.810195Z",
     "shell.execute_reply": "2024-10-15T14:16:12.808888Z",
     "shell.execute_reply.started": "2024-10-15T14:16:12.800598Z"
    }
   },
   "outputs": [],
   "source": [
    "BASE_KERNEL = jax_pigp.kernels.squared_exponential"
   ]
  },
  {
   "cell_type": "markdown",
   "id": "b70c4695-1381-4275-b5f9-e764e32b5598",
   "metadata": {},
   "source": [
    "$\\mathcal{B}^{m_1}_{x,y}$ and $\\mathcal{B}^{m_2}_{x,y}$ are given by\n",
    "\\begin{align*}  \n",
    "    \\mathcal{B}^{m_1}_{x,y}[\\cdot](x,y) &= \\left(\\phi_1(x,y) - \\phi(x,y) \\nabla \\phi_2(x,y) \\cdot \\nabla \\phi_1(x,y) \\right)[\\cdot](x,y) \\\\\n",
    "& - \\phi(x,y) \\phi_1(x,y) \\nabla \\phi_2(x,y) \\cdot \\nabla [\\cdot](x,y),  \\\\ %.\n",
    "    \\mathcal{B}^{m_2}_{x,y}[\\cdot](x,y) &= \\phi(x,y) \\phi_2(x,y) [\\cdot](x,y). \\notag\n",
    "\\end{align*}\n"
   ]
  },
  {
   "cell_type": "markdown",
   "id": "9777145c-03f9-49f9-b234-40a76723009b",
   "metadata": {},
   "source": [
    "The ADFs $\\phi_1$, $\\phi_2$, $\\phi$ have the form"
   ]
  },
  {
   "cell_type": "code",
   "execution_count": 6,
   "id": "0c232fb9-d3ef-4e2b-a606-d6ab049d7106",
   "metadata": {
    "execution": {
     "iopub.execute_input": "2024-10-15T14:16:12.811127Z",
     "iopub.status.busy": "2024-10-15T14:16:12.810905Z",
     "iopub.status.idle": "2024-10-15T14:16:12.827866Z",
     "shell.execute_reply": "2024-10-15T14:16:12.826072Z",
     "shell.execute_reply.started": "2024-10-15T14:16:12.811105Z"
    }
   },
   "outputs": [],
   "source": [
    "def phi1_1(loc):\n",
    "    return 1. - loc[1]\n",
    "\n",
    "def phi1_2(loc):\n",
    "    return 1. - loc[0]\n",
    "\n",
    "def phi1(loc):\n",
    "    phi_vals = jnp.array([phi1_1(loc), phi1_2(loc)])\n",
    "\n",
    "    phi_sum = jnp.sum(phi_vals) + 1e-8\n",
    "    phi_total = jnp.prod(phi_vals) / phi_sum\n",
    "    return phi_total\n",
    "\n",
    "def phi2_1(loc):\n",
    "    return loc[0]\n",
    "\n",
    "def phi2_2(loc):\n",
    "    return loc[1]\n",
    "\n",
    "def phi2(loc):\n",
    "    phi_vals = jnp.array([phi2_1(loc), phi2_2(loc)])\n",
    "\n",
    "    phi_sum = jnp.sum(phi_vals) + 1e-8\n",
    "    phi_total = jnp.prod(phi_vals) / phi_sum\n",
    "    \n",
    "    return phi_total\n",
    "\n",
    "grad_phi1 = jacrev(phi1)\n",
    "grad_phi2 = jacrev(phi2)\n",
    "\n",
    "\n",
    "def phi(loc):\n",
    "\n",
    "    phi_vals = jnp.array([phi1(loc), phi2(loc)])\n",
    "\n",
    "    phi_sum = jnp.sum(phi_vals)\n",
    "    phi_total = jnp.prod(phi_vals) / phi_sum\n",
    "    return_val = jnp.where(phi_sum > 0., phi_total, 0.)\n",
    "\n",
    "    return return_val"
   ]
  },
  {
   "cell_type": "markdown",
   "id": "1db317a9-705b-45a3-9371-c5ec5412d86b",
   "metadata": {},
   "source": [
    "$\\mathcal{B}^{m_1}_{x,y}$ and $\\mathcal{B}^{m_2}_{x,y}$ can then be implemented as follows:"
   ]
  },
  {
   "cell_type": "code",
   "execution_count": 7,
   "id": "05ddecb2-4729-41d3-a285-3a6db6f200c1",
   "metadata": {
    "execution": {
     "iopub.execute_input": "2024-10-15T14:16:12.829401Z",
     "iopub.status.busy": "2024-10-15T14:16:12.829132Z",
     "iopub.status.idle": "2024-10-15T14:16:12.845795Z",
     "shell.execute_reply": "2024-10-15T14:16:12.843967Z",
     "shell.execute_reply.started": "2024-10-15T14:16:12.829378Z"
    }
   },
   "outputs": [],
   "source": [
    "def apply_B1(fn: Callable, argnum: int = 1):\n",
    "\n",
    "    # the Jacobian function\n",
    "    Jfn, _ = jac_hess(fn, argnum)\n",
    "\n",
    "    def B1(params: dict, loc1: Array, *loc2: Array):\n",
    "        \n",
    "        loc = loc1 if argnum == 1 else loc2[0]\n",
    "\n",
    "        fn_val = fn(params, loc1, *loc2)\n",
    "        J_val = Jfn(params, loc1, *loc2)\n",
    "    \n",
    "        phi1_val = phi1(loc)\n",
    "        phi2_val = phi2(loc)\n",
    "        gradphi1_val = grad_phi1(loc)\n",
    "        gradphi2_val = grad_phi2(loc)\n",
    "    \n",
    "        phi_val = phi(loc)\n",
    "        \n",
    "        # temporary values in line with the form of B1 given above\n",
    "        tmp1 = phi1_val*fn_val \n",
    "        tmp2 = (gradphi2_val*gradphi1_val).sum()*fn_val\n",
    "        tmp3 = (gradphi2_val*J_val).sum()*phi1_val\n",
    "    \n",
    "        return (tmp1 - phi_val*(tmp2 + tmp3)).squeeze()\n",
    "        \n",
    "    return B1\n",
    "\n",
    "def B2(loc):\n",
    "    return phi(loc)*phi2(loc)"
   ]
  },
  {
   "cell_type": "markdown",
   "id": "bfcc4c58-71c6-4b57-acc1-ff5b0d201e1d",
   "metadata": {},
   "source": [
    "And finally $\\tilde{k}$ can be defined"
   ]
  },
  {
   "cell_type": "code",
   "execution_count": 8,
   "id": "e77014a6-c331-4fb4-a766-d6d183f2ac1f",
   "metadata": {
    "execution": {
     "iopub.execute_input": "2024-10-15T14:16:12.847767Z",
     "iopub.status.busy": "2024-10-15T14:16:12.847427Z",
     "iopub.status.idle": "2024-10-15T14:16:12.863883Z",
     "shell.execute_reply": "2024-10-15T14:16:12.861935Z",
     "shell.execute_reply.started": "2024-10-15T14:16:12.847739Z"
    }
   },
   "outputs": [],
   "source": [
    "def get_kernel_fn(base_kernel):\n",
    "\n",
    "    Bm1_k1 = apply_B1(apply_B1(base_kernel, 1), 2) \n",
    "    k2 = base_kernel\n",
    "\n",
    "    def bcgp_kernel(params: dict, loc1: Array, loc2: Array):\n",
    "\n",
    "        k1_params = params['kernel_params_1']\n",
    "        k2_params = params['kernel_params_2']\n",
    "\n",
    "        Bm1_k1_val = Bm1_k1(k1_params, loc1, loc2)\n",
    "        Bm2_k2_val = B2(loc1)*B2(loc2)*k2(k2_params, loc1, loc2)\n",
    "        \n",
    "        return Bm1_k1_val + Bm2_k2_val\n",
    "\n",
    "    return bcgp_kernel\n"
   ]
  },
  {
   "cell_type": "markdown",
   "id": "78b60ea3-aec1-41e1-b214-a661c2a7d286",
   "metadata": {},
   "source": [
    "Choose whether to use boundary constrained kernel of normal kernel based on value of ``GP_TYPE``"
   ]
  },
  {
   "cell_type": "code",
   "execution_count": 9,
   "id": "4209ab94-12fd-4bd9-9d3a-4743843c82be",
   "metadata": {
    "execution": {
     "iopub.execute_input": "2024-10-15T14:16:12.865976Z",
     "iopub.status.busy": "2024-10-15T14:16:12.865638Z",
     "iopub.status.idle": "2024-10-15T14:16:12.881186Z",
     "shell.execute_reply": "2024-10-15T14:16:12.879513Z",
     "shell.execute_reply.started": "2024-10-15T14:16:12.865947Z"
    }
   },
   "outputs": [
    {
     "name": "stdout",
     "output_type": "stream",
     "text": [
      "using boundary constrained kernel\n"
     ]
    }
   ],
   "source": [
    "if GP_TYPE == \"bcgp\":\n",
    "    print(f'using boundary constrained kernel')\n",
    "\n",
    "    kernel_fn = get_kernel_fn(BASE_KERNEL)\n",
    "\n",
    "else:\n",
    "    def kernel_fn(params: dict, loc1: Array, loc2: Array):\n",
    "    \n",
    "        k_params = params['kernel_params_1']\n",
    "    \n",
    "        cov_val = BASE_KERNEL(k_params, loc1, loc2)\n",
    "    \n",
    "        return cov_val\n"
   ]
  },
  {
   "cell_type": "markdown",
   "id": "b80966b9-4e25-481d-ba00-141f63666c4d",
   "metadata": {},
   "source": [
    "### Specify Helmholtz differential operator\n",
    "\n",
    "Recall that the Helmholtz PDE over two spatial dimensions takes the below form\n",
    "\n",
    "\n",
    "$$\\mathcal{L}^{\\theta}_{x,y}[u] =  \\theta^2 u  -  \\frac{\\partial^2 u}{\\partial x^2} -  \\frac{\\partial^2 u}{\\partial y^2}= f.$$\n",
    "\n",
    "##### Implementation: \n",
    "\n",
    "* We define a dummy linear operator for $u$-space data which is just the identity transformation\n",
    "* $f$ is returned by calling the ``apply_PDE`` function defined below\n"
   ]
  },
  {
   "cell_type": "code",
   "execution_count": 10,
   "id": "c1a5845f-e787-4521-bfd1-8da78c8296b6",
   "metadata": {
    "execution": {
     "iopub.execute_input": "2024-10-15T14:16:12.883296Z",
     "iopub.status.busy": "2024-10-15T14:16:12.882950Z",
     "iopub.status.idle": "2024-10-15T14:16:12.900734Z",
     "shell.execute_reply": "2024-10-15T14:16:12.898871Z",
     "shell.execute_reply.started": "2024-10-15T14:16:12.883268Z"
    }
   },
   "outputs": [],
   "source": [
    "def apply_Identity(fn: Callable,argnum: int = 1):\n",
    "    return fn\n",
    "\n",
    "def apply_PDE(fn: Callable, argnum: int = 1):\n",
    "    r\"\"\"\n",
    "    Applies the Helmholtz PDE to input fn at specified argnum\n",
    "    \"\"\"\n",
    "\n",
    "    # the Hessian function\n",
    "    _, Hfn = jac_hess(fn, argnum)\n",
    "\n",
    "    def PDE(params: dict, loc1: Array, *loc2: Array):\n",
    "        \n",
    "        theta_val = THETA_TRANSFORM(params['theta'])[0] if RUN_INVERSE else THETA_TRUE[0]\n",
    "\n",
    "        # Laplacian (i.e. sum of second spatial derivatives) is the trace of the Hessian matrix \n",
    "        laplacian_val = jnp.diag(Hfn(params, loc1, *loc2)).sum()\n",
    "\n",
    "        u_val = fn(params, loc1, *loc2)\n",
    "\n",
    "        return_val = (theta_val**2)*u_val - laplacian_val\n",
    "\n",
    "        return return_val.squeeze()\n",
    "        \n",
    "    return PDE \n",
    "\n",
    "linear_operators = [apply_Identity, apply_PDE]"
   ]
  },
  {
   "cell_type": "markdown",
   "id": "f952e105-5f1d-48ac-bcd2-b3c6d32591a7",
   "metadata": {},
   "source": [
    "### Store settings"
   ]
  },
  {
   "cell_type": "markdown",
   "id": "dc3abe14-69b1-4cc5-b767-0bcd0ae8bd6f",
   "metadata": {},
   "source": [
    "Store optimisation options in a dictionary"
   ]
  },
  {
   "cell_type": "code",
   "execution_count": 11,
   "id": "a6771a0f-35f9-4651-b1f0-0006c7e5f8a3",
   "metadata": {
    "execution": {
     "iopub.execute_input": "2024-10-15T14:16:12.912278Z",
     "iopub.status.busy": "2024-10-15T14:16:12.911366Z",
     "iopub.status.idle": "2024-10-15T14:16:12.919422Z",
     "shell.execute_reply": "2024-10-15T14:16:12.917728Z",
     "shell.execute_reply.started": "2024-10-15T14:16:12.912229Z"
    }
   },
   "outputs": [],
   "source": [
    "opt_options = {}\n",
    "opt_options['n_steps']         = N_TRAIN_STEPS \n",
    "opt_options['n_restarts']      = N_RESTARTS\n",
    "opt_options['lr']              = LR_INIT\n",
    "opt_options['verbose']         = VERBOSE\n",
    "opt_options['theta_transform'] = THETA_TRANSFORM\n",
    "opt_options['noise_transform'] = NOISE_TRANSFORM"
   ]
  },
  {
   "cell_type": "markdown",
   "id": "8e21bebb-2414-4a5e-8d3e-b7d1a3572f91",
   "metadata": {},
   "source": [
    "Specify parameter initialisation function"
   ]
  },
  {
   "cell_type": "code",
   "execution_count": 12,
   "id": "392f2167-db6e-4823-9e6a-2f4ac7a9e5f6",
   "metadata": {
    "execution": {
     "iopub.execute_input": "2024-10-15T14:16:13.405021Z",
     "iopub.status.busy": "2024-10-15T14:16:13.404461Z",
     "iopub.status.idle": "2024-10-15T14:16:13.414643Z",
     "shell.execute_reply": "2024-10-15T14:16:13.412912Z",
     "shell.execute_reply.started": "2024-10-15T14:16:13.404972Z"
    }
   },
   "outputs": [],
   "source": [
    "param_gen_options['n_sub_kernels'] = 2 if GP_TYPE == 'bcgp' else 1\n",
    "param_gen_options['input_dim']       = [INPUT_DIM]*param_gen_options['n_sub_kernels']\n",
    "param_gen_options['theta_bounds']    = THETA_BOUNDS\n",
    "param_gen_options['theta_transform'] = THETA_TRANSFORM\n",
    "param_gen_options['noise_std_init']  = NOISE_INIT\n",
    "param_gen_options['noise_transform'] = NOISE_TRANSFORM\n",
    "\n",
    "# randomly samples kernel parameter values given an input seed\n",
    "generate_params_fn = lambda seed: generate_params(seed, param_gen_options)"
   ]
  },
  {
   "cell_type": "markdown",
   "id": "69a5c13a-c92c-4981-9ff6-e554344ac5e5",
   "metadata": {},
   "source": [
    "Create a directory to save the results "
   ]
  },
  {
   "cell_type": "code",
   "execution_count": 13,
   "id": "b93cc163-8ab5-4133-a986-20e730be2986",
   "metadata": {
    "execution": {
     "iopub.execute_input": "2024-10-15T14:16:13.855199Z",
     "iopub.status.busy": "2024-10-15T14:16:13.854484Z",
     "iopub.status.idle": "2024-10-15T14:16:13.862020Z",
     "shell.execute_reply": "2024-10-15T14:16:13.860761Z",
     "shell.execute_reply.started": "2024-10-15T14:16:13.855154Z"
    }
   },
   "outputs": [],
   "source": [
    "results_save_dir = os.path.join('results', data_save_dir, f'{GP_TYPE}_Nu_{Nu}_Nf_{Nf}')\n",
    "if not os.path.isdir(results_save_dir): os.makedirs(results_save_dir)"
   ]
  },
  {
   "cell_type": "markdown",
   "id": "9b71e326-858b-4f8c-bc7e-bc77fbb04fff",
   "metadata": {},
   "source": [
    "## Data and model initialisation"
   ]
  },
  {
   "cell_type": "markdown",
   "id": "6d381c43-b7a7-4eee-b22d-6dcaddd09e04",
   "metadata": {},
   "source": [
    "### Load train and test data"
   ]
  },
  {
   "cell_type": "code",
   "execution_count": 14,
   "id": "001f0e4b-7ccd-499d-8ec7-5d785dffa027",
   "metadata": {
    "execution": {
     "iopub.execute_input": "2024-10-15T14:16:14.593933Z",
     "iopub.status.busy": "2024-10-15T14:16:14.593379Z",
     "iopub.status.idle": "2024-10-15T14:16:14.716490Z",
     "shell.execute_reply": "2024-10-15T14:16:14.715340Z",
     "shell.execute_reply.started": "2024-10-15T14:16:14.593887Z"
    }
   },
   "outputs": [],
   "source": [
    "train_data, test_data = load_data(data_save_dir_full, Nu, Nf)"
   ]
  },
  {
   "cell_type": "markdown",
   "id": "a4a48e84-7cca-4b64-a46d-a6244fcbbf16",
   "metadata": {},
   "source": [
    "Check shapes of train and test data"
   ]
  },
  {
   "cell_type": "code",
   "execution_count": 15,
   "id": "af173916-ea9e-45f5-9112-b1683c08b2b6",
   "metadata": {
    "execution": {
     "iopub.execute_input": "2024-10-15T14:16:14.908728Z",
     "iopub.status.busy": "2024-10-15T14:16:14.908161Z",
     "iopub.status.idle": "2024-10-15T14:16:14.921605Z",
     "shell.execute_reply": "2024-10-15T14:16:14.920257Z",
     "shell.execute_reply.started": "2024-10-15T14:16:14.908679Z"
    }
   },
   "outputs": [
    {
     "data": {
      "text/plain": [
       "((20, 1), (14400, 1), [(10, 2), (10, 2)])"
      ]
     },
     "execution_count": 15,
     "metadata": {},
     "output_type": "execute_result"
    }
   ],
   "source": [
    "train_data.ytrain.shape, test_data.us.shape, [X.shape for X in train_data.Xtrain]"
   ]
  },
  {
   "cell_type": "markdown",
   "id": "d0ae6c47-c30a-4f5d-9b77-c2e525216e13",
   "metadata": {},
   "source": [
    "### Initialise PIGP model"
   ]
  },
  {
   "cell_type": "code",
   "execution_count": 16,
   "id": "6506737d-3eec-4592-acf5-9e5485da9c94",
   "metadata": {
    "execution": {
     "iopub.execute_input": "2024-10-15T14:16:15.578392Z",
     "iopub.status.busy": "2024-10-15T14:16:15.577826Z",
     "iopub.status.idle": "2024-10-15T14:16:15.586825Z",
     "shell.execute_reply": "2024-10-15T14:16:15.585073Z",
     "shell.execute_reply.started": "2024-10-15T14:16:15.578346Z"
    }
   },
   "outputs": [],
   "source": [
    "helm_kernel_fns = jax_pigp.interdomain_moments.InterdomainKernelFns(kernel_fn, linear_operators)\n",
    "helm_mean_fns   = jax_pigp.interdomain_moments.InterdomainMeanFns(mean_fn,     linear_operators)\n",
    "\n",
    "gp_model = jax_pigp.models.GPR(helm_kernel_fns, helm_mean_fns, nugget=0.)"
   ]
  },
  {
   "cell_type": "markdown",
   "id": "d2d89230-1c23-4827-8d9b-093bdfa57715",
   "metadata": {},
   "source": [
    "### Initialise learner for model training"
   ]
  },
  {
   "cell_type": "code",
   "execution_count": 17,
   "id": "76bf0448-abbe-44f4-b77b-c1cc7505ae92",
   "metadata": {
    "execution": {
     "iopub.execute_input": "2024-10-15T14:16:16.430766Z",
     "iopub.status.busy": "2024-10-15T14:16:16.430217Z",
     "iopub.status.idle": "2024-10-15T14:16:16.857627Z",
     "shell.execute_reply": "2024-10-15T14:16:16.855773Z",
     "shell.execute_reply.started": "2024-10-15T14:16:16.430720Z"
    }
   },
   "outputs": [],
   "source": [
    "obj_fn_train = lambda params: -gp_model.log_marginal_likelihood(params, train_data)    \n",
    "\n",
    "gp_learner = jax_pigp.optimisers.AdamLearner(obj_fn_train, opt_options, generate_params_fn, random.PRNGKey(BASE_SEED_VAL))"
   ]
  },
  {
   "cell_type": "markdown",
   "id": "911dfdc1-192e-416e-83c0-41c363eaf40e",
   "metadata": {},
   "source": [
    "Initial parameter values  "
   ]
  },
  {
   "cell_type": "code",
   "execution_count": 18,
   "id": "fdfa69d9-ca03-4ac7-ba4d-dedfe2d13ab0",
   "metadata": {
    "execution": {
     "iopub.execute_input": "2024-10-15T14:16:18.000381Z",
     "iopub.status.busy": "2024-10-15T14:16:17.999699Z",
     "iopub.status.idle": "2024-10-15T14:16:18.030791Z",
     "shell.execute_reply": "2024-10-15T14:16:18.029618Z",
     "shell.execute_reply.started": "2024-10-15T14:16:18.000324Z"
    }
   },
   "outputs": [
    {
     "name": "stdout",
     "output_type": "stream",
     "text": [
      "kernel_params_1\n",
      "amp: [21.1760389]\n",
      "ls: [1.54106768 0.90138149]\n",
      "alpha: [19.11442247]\n",
      "\n",
      "kernel_params_2\n",
      "amp: [23.67388315]\n",
      "ls: [3.92827034 4.50010116]\n",
      "alpha: [5.57317182]\n",
      "\n",
      "noise_std: [0.1 0.1]\n",
      "theta: [5.45963618]\n"
     ]
    }
   ],
   "source": [
    "print_param_values(gp_learner.params, opt_options)"
   ]
  },
  {
   "cell_type": "markdown",
   "id": "afd94393-fbe4-4875-9684-2052d0a8db52",
   "metadata": {},
   "source": [
    "Objective function value for initial parameters"
   ]
  },
  {
   "cell_type": "code",
   "execution_count": 20,
   "id": "ee4a9095-0bf5-4b1b-82f0-cacc2a50a2b0",
   "metadata": {
    "execution": {
     "iopub.execute_input": "2024-10-15T14:09:38.839390Z",
     "iopub.status.busy": "2024-10-15T14:09:38.839257Z",
     "iopub.status.idle": "2024-10-15T14:10:18.587464Z",
     "shell.execute_reply": "2024-10-15T14:10:18.585882Z",
     "shell.execute_reply.started": "2024-10-15T14:09:38.839377Z"
    }
   },
   "outputs": [
    {
     "data": {
      "text/plain": [
       "Array(-17.19749289, dtype=float64)"
      ]
     },
     "execution_count": 20,
     "metadata": {},
     "output_type": "execute_result"
    }
   ],
   "source": [
    "gp_model.log_marginal_likelihood(gp_learner.params, train_data)"
   ]
  },
  {
   "cell_type": "markdown",
   "id": "c8e6b5c8-fc22-4d19-bf93-8f5a7678f377",
   "metadata": {},
   "source": [
    "Gradient of the objective function with respect to the initial parameters"
   ]
  },
  {
   "cell_type": "code",
   "execution_count": 21,
   "id": "fa0404f8-c22e-4bdf-b552-74adafb415ee",
   "metadata": {
    "execution": {
     "iopub.execute_input": "2024-10-15T14:10:18.588583Z",
     "iopub.status.busy": "2024-10-15T14:10:18.588416Z",
     "iopub.status.idle": "2024-10-15T14:11:11.520553Z",
     "shell.execute_reply": "2024-10-15T14:11:11.518984Z",
     "shell.execute_reply.started": "2024-10-15T14:10:18.588569Z"
    }
   },
   "outputs": [
    {
     "data": {
      "text/plain": [
       "(Array(17.19749289, dtype=float64),\n",
       " {'kernel_params_1': {'alpha': Array([0.], dtype=float64),\n",
       "   'amp': Array([0.12461198], dtype=float64),\n",
       "   'ls': Array([-1.13097766, -3.55038814], dtype=float64)},\n",
       "  'kernel_params_2': {'alpha': Array([0.], dtype=float64),\n",
       "   'amp': Array([0.01240821], dtype=float64),\n",
       "   'ls': Array([ 0.04324837, -0.00643043], dtype=float64)},\n",
       "  'noise_std': Array([-3.59722421, -0.09770266], dtype=float64),\n",
       "  'theta': Array([6.09938463], dtype=float64)})"
      ]
     },
     "execution_count": 21,
     "metadata": {},
     "output_type": "execute_result"
    }
   ],
   "source": [
    "gp_learner.grad_obj_fn(gp_learner.params)"
   ]
  },
  {
   "cell_type": "markdown",
   "id": "fe399d56-db76-4bba-b4a6-099a0250e24a",
   "metadata": {},
   "source": [
    "## Training "
   ]
  },
  {
   "cell_type": "markdown",
   "id": "bd752d5d-18f0-4673-89af-2961805b7068",
   "metadata": {},
   "source": [
    "JIT compile the ``update_one_step`` method by evaluating it once, then train model for specified number of steps/restarts."
   ]
  },
  {
   "cell_type": "code",
   "execution_count": 22,
   "id": "84d24991-4922-47de-8616-0d823ed16a5d",
   "metadata": {
    "execution": {
     "iopub.execute_input": "2024-10-15T14:11:11.521484Z",
     "iopub.status.busy": "2024-10-15T14:11:11.521310Z",
     "iopub.status.idle": "2024-10-15T14:12:03.440623Z",
     "shell.execute_reply": "2024-10-15T14:12:03.439672Z",
     "shell.execute_reply.started": "2024-10-15T14:11:11.521470Z"
    }
   },
   "outputs": [],
   "source": [
    "_ = gp_learner.update_one_step(gp_learner.params, gp_learner.opt_state)"
   ]
  },
  {
   "cell_type": "code",
   "execution_count": 23,
   "id": "f91eb401-e484-4d50-9f6e-3c0d3fb2172b",
   "metadata": {
    "execution": {
     "iopub.execute_input": "2024-10-15T14:12:03.441751Z",
     "iopub.status.busy": "2024-10-15T14:12:03.441605Z",
     "iopub.status.idle": "2024-10-15T14:15:00.319993Z",
     "shell.execute_reply": "2024-10-15T14:15:00.318125Z",
     "shell.execute_reply.started": "2024-10-15T14:12:03.441738Z"
    },
    "scrolled": true
   },
   "outputs": [
    {
     "name": "stdout",
     "output_type": "stream",
     "text": [
      "gp_type=bcgp, Nu/Nf=10/10, n_steps=10000, n_restarts=5\n",
      "\n",
      "Restart 0: beginning training for 10000 steps\n",
      "Final training results: \n",
      "(9999): -24.9663, noise_std_vals = [1.19e-02,3.25e-02], theta = [2.9840456]\n",
      "\n",
      "\n",
      "Restart 1: beginning training for 10000 steps\n",
      "Final training results: \n",
      "(9999): -24.8081, noise_std_vals = [1.19e-02,3.34e-02], theta = [2.98695595]\n",
      "\n",
      "\n",
      "Restart 2: beginning training for 10000 steps\n",
      "Final training results: \n",
      "(9999): -24.9674, noise_std_vals = [1.19e-02,3.26e-02], theta = [2.98468275]\n",
      "\n",
      "\n",
      "Restart 3: beginning training for 10000 steps\n",
      "Final training results: \n",
      "(9999): -24.8294, noise_std_vals = [1.19e-02,3.28e-02], theta = [2.98378484]\n",
      "\n",
      "\n",
      "Restart 4: beginning training for 10000 steps\n",
      "Final training results: \n",
      "(9999): -24.6256, noise_std_vals = [1.19e-02,3.26e-02], theta = [2.98331518]\n",
      "\n",
      "\n"
     ]
    }
   ],
   "source": [
    "print(f'gp_type={GP_TYPE}, Nu/Nf={Nu}/{Nf}, n_steps={opt_options['n_steps']}, n_restarts={opt_options['n_restarts']}\\n')\n",
    "gp_learner.train_with_restarts(opt_options['n_steps'], \n",
    "                               opt_options['n_restarts'], \n",
    "                               print_progress = opt_options['verbose'])"
   ]
  },
  {
   "cell_type": "markdown",
   "id": "abb1f419-4e1c-45e1-9409-f1d673a76fb8",
   "metadata": {},
   "source": [
    "Uncomment below to continue training from existing parameter values:"
   ]
  },
  {
   "cell_type": "code",
   "execution_count": 24,
   "id": "b629bdf2-e273-4f77-80db-2230af817e9a",
   "metadata": {
    "execution": {
     "iopub.execute_input": "2024-10-15T14:15:00.321974Z",
     "iopub.status.busy": "2024-10-15T14:15:00.321781Z",
     "iopub.status.idle": "2024-10-15T14:15:00.327799Z",
     "shell.execute_reply": "2024-10-15T14:15:00.326344Z",
     "shell.execute_reply.started": "2024-10-15T14:15:00.321958Z"
    }
   },
   "outputs": [],
   "source": [
    "# gp_learner.train(opt_options[\"n_steps\"])\n",
    "# gp_learner.params_best = gp_learner.params.copy()"
   ]
  },
  {
   "cell_type": "markdown",
   "id": "b1f16ab0-0d14-4fe3-91fc-d1e7fc81b050",
   "metadata": {},
   "source": [
    "### Plot training results"
   ]
  },
  {
   "cell_type": "code",
   "execution_count": 25,
   "id": "1bd2244e-0edd-4396-a139-64522577d169",
   "metadata": {
    "execution": {
     "iopub.execute_input": "2024-10-15T14:15:00.328905Z",
     "iopub.status.busy": "2024-10-15T14:15:00.328744Z",
     "iopub.status.idle": "2024-10-15T14:15:01.326245Z",
     "shell.execute_reply": "2024-10-15T14:15:01.325044Z",
     "shell.execute_reply.started": "2024-10-15T14:15:00.328892Z"
    }
   },
   "outputs": [
    {
     "data": {
      "image/png": "[encoded data removed]",
      "text/plain": [
       "<Figure size 700x300 with 2 Axes>"
      ]
     },
     "metadata": {},
     "output_type": "display_data"
    }
   ],
   "source": [
    "theta_arr = jnp.array(gp_learner.theta_list)\n",
    "\n",
    "fig, axes = plt.subplots(nrows=1, ncols=2, figsize=TWO_COLUMN_FIGSIZE)\n",
    "\n",
    "begin_at = int(len(gp_learner.obj_list)*0.05)\n",
    "\n",
    "plot_lc(axes[0], gp_learner.obj_list[begin_at:], 'Objective Function')\n",
    "plot_lc(axes[1], theta_arr[begin_at:,0], 'theta')\n",
    "\n",
    "fig.tight_layout()\n",
    "\n",
    "plt.savefig(os.path.join(results_save_dir, 'learningCurves.pdf'))"
   ]
  },
  {
   "cell_type": "markdown",
   "id": "e1c726ce-f6da-4571-8166-4f100ab16b60",
   "metadata": {},
   "source": [
    "### Final trained parameter values"
   ]
  },
  {
   "cell_type": "code",
   "execution_count": 26,
   "id": "7d7749e8-0789-4dd2-b088-96a713ea8db0",
   "metadata": {
    "execution": {
     "iopub.execute_input": "2024-10-15T14:15:01.327234Z",
     "iopub.status.busy": "2024-10-15T14:15:01.327102Z",
     "iopub.status.idle": "2024-10-15T14:15:01.347007Z",
     "shell.execute_reply": "2024-10-15T14:15:01.345763Z",
     "shell.execute_reply.started": "2024-10-15T14:15:01.327221Z"
    }
   },
   "outputs": [
    {
     "name": "stdout",
     "output_type": "stream",
     "text": [
      "kernel_params_1\n",
      "alpha: [9.6296051]\n",
      "amp: [1.3642362]\n",
      "ls: [30.06536567 25.56105034]\n",
      "\n",
      "kernel_params_2\n",
      "alpha: [7.60861939]\n",
      "amp: [40.34437614]\n",
      "ls: [3.23746772 2.32863404]\n",
      "\n",
      "noise_std: [0.01192474 0.03263835]\n",
      "theta: [2.98468275]\n"
     ]
    }
   ],
   "source": [
    "# extract final trained parameter values\n",
    "trained_params = gp_learner.params_best.copy()\n",
    "\n",
    "# print the values of the trained parameters\n",
    "print_param_values(trained_params, opt_options)\n",
    "\n",
    "# save trained parameters\n",
    "with open(os.path.join(results_save_dir, 'trained_params.pkl'), 'wb') as fp:\n",
    "    pickle.dump(trained_params, fp)"
   ]
  },
  {
   "cell_type": "markdown",
   "id": "fcb49cb0-c77f-4221-8acb-a4c522490f93",
   "metadata": {},
   "source": [
    "Can load pre-trained parameters by uncommenting the below"
   ]
  },
  {
   "cell_type": "code",
   "execution_count": 20,
   "id": "044e6b92-c41f-46f7-9fa6-c99bb2fdf9f7",
   "metadata": {
    "execution": {
     "iopub.execute_input": "2024-10-15T14:16:23.606337Z",
     "iopub.status.busy": "2024-10-15T14:16:23.605783Z",
     "iopub.status.idle": "2024-10-15T14:16:23.612613Z",
     "shell.execute_reply": "2024-10-15T14:16:23.610611Z",
     "shell.execute_reply.started": "2024-10-15T14:16:23.606289Z"
    }
   },
   "outputs": [],
   "source": [
    "# with open(os.path.join(results_save_dir, 'trained_params.pkl'), 'rb') as f:\n",
    "    # trained_params = pickle.load(f)"
   ]
  },
  {
   "cell_type": "markdown",
   "id": "e33bc444-5fff-4f0b-8507-4985eea193e0",
   "metadata": {},
   "source": [
    "## Test set results\n",
    "\n",
    "Evaluate posterior distribution at test points, using hyper-parameter values ``trained_params`` obtained during training phase."
   ]
  },
  {
   "cell_type": "code",
   "execution_count": 21,
   "id": "f874b8dc-a850-4644-b1a7-bbc7da8e7dda",
   "metadata": {
    "execution": {
     "iopub.execute_input": "2024-10-15T14:16:24.509435Z",
     "iopub.status.busy": "2024-10-15T14:16:24.508879Z",
     "iopub.status.idle": "2024-10-15T14:17:33.241840Z",
     "shell.execute_reply": "2024-10-15T14:17:33.241105Z",
     "shell.execute_reply.started": "2024-10-15T14:16:24.509389Z"
    }
   },
   "outputs": [
    {
     "name": "stdout",
     "output_type": "stream",
     "text": [
      "Posterior results for bcgp, Nu/Nf=10/10, Ns=14400\n",
      "mean/max loss: 4.943817e-03/8.941e-02\n",
      "theta_true : [3.]\n",
      "theta_pred : [2.98468275]\n",
      "theta_loss : 1.532e-02\n"
     ]
    }
   ],
   "source": [
    "# posterior mean and covariance over test points\n",
    "print(f'Posterior results for {GP_TYPE}, Nu/Nf={train_data.Xtrain[0].shape[0]}/{train_data.Xtrain[1].shape[0]}, Ns={test_data.Xs.shape[0]}')\n",
    "mu, Sigma = gp_model.posterior_predict(trained_params, train_data, test_data.Xs)\n",
    "s = jnp.diag(Sigma)**.5\n",
    "\n",
    "# save predictions\n",
    "if SAVE_ALL_PREDICTIONS:\n",
    "    jnp.save(os.path.join(results_save_dir, 'u_pred.npy'), mu)\n",
    "    jnp.save(os.path.join(results_save_dir, 's_pred.npy'), s)\n",
    "\n",
    "# test set prediction error\n",
    "abs_losses = jnp.abs(mu - test_data.us)\n",
    "print(f'mean/max loss: {abs_losses.mean():3e}/{abs_losses.max():.3e}')\n",
    "savetxt(os.path.join(results_save_dir, 'mean_loss.txt'), abs_losses.mean().reshape(-1,1))\n",
    "\n",
    "if RUN_INVERSE:\n",
    "    theta_pred = opt_options['theta_transform'](trained_params['theta'])\n",
    "    theta_loss = jnp.linalg.norm(theta_pred - THETA_TRUE)\n",
    "    print(f'theta_true : {THETA_TRUE}')\n",
    "    print(f'theta_pred : {theta_pred}')\n",
    "    print(f'theta_loss : {theta_loss:.3e}')\n",
    "    savetxt(os.path.join(results_save_dir, 'theta_loss.txt'), jnp.array([theta_loss]))"
   ]
  },
  {
   "cell_type": "markdown",
   "id": "a6f288da-d6ea-4be6-9801-eef294e42009",
   "metadata": {},
   "source": [
    "### Plots of posterior prediction"
   ]
  },
  {
   "cell_type": "code",
   "execution_count": 22,
   "id": "300170da-c0f6-4f85-bb9c-d1b884a4d0bf",
   "metadata": {
    "execution": {
     "iopub.execute_input": "2024-10-15T14:17:33.243030Z",
     "iopub.status.busy": "2024-10-15T14:17:33.242885Z",
     "iopub.status.idle": "2024-10-15T14:17:34.608191Z",
     "shell.execute_reply": "2024-10-15T14:17:34.607514Z",
     "shell.execute_reply.started": "2024-10-15T14:17:33.243017Z"
    }
   },
   "outputs": [
    {
     "data": {
      "image/png": "[encoded data removed]",
      "text/plain": [
       "<Figure size 1000x600 with 8 Axes>"
      ]
     },
     "metadata": {},
     "output_type": "display_data"
    }
   ],
   "source": [
    "fig, axes = plt.subplots(nrows=2, ncols=2, figsize=TWO_BY_TWO_FIGSIZE)\n",
    "\n",
    "Nx = len(jnp.unique(test_data.Xs[:,0]))\n",
    "Nt = len(jnp.unique(test_data.Xs[:,1]))\n",
    "\n",
    "Xu, Xf = train_data.Xtrain\n",
    "\n",
    "make_heatmap_helm = lambda ax, output, title=None: make_heatmap(fig, ax, output.reshape(Nt,Nx).T, test_data, Xu, Xf, title)\n",
    "\n",
    "make_heatmap_helm(axes[0,0], test_data.us, title='u_true')\n",
    "make_heatmap_helm(axes[0,1], mu, title=f'u_pred, {GP_TYPE}')\n",
    "make_heatmap_helm(axes[1,0], abs_losses, title=f'err_u (mean = {abs_losses.mean():.3e})')\n",
    "make_heatmap_helm(axes[1,1], s, title=f'u_pred std')\n",
    "\n",
    "fig.tight_layout()\n",
    "\n",
    "plt.savefig(os.path.join(results_save_dir, 'posteriorPrediction.pdf'))"
   ]
  }
 ],
 "metadata": {
  "kernelspec": {
   "display_name": "Python 3 (ipykernel)",
   "language": "python",
   "name": "python3"
  },
  "language_info": {
   "codemirror_mode": {
    "name": "ipython",
    "version": 3
   },
   "file_extension": ".py",
   "mimetype": "text/x-python",
   "name": "python",
   "nbconvert_exporter": "python",
   "pygments_lexer": "ipython3",
   "version": "3.12.4"
  }
 },
 "nbformat": 4,
 "nbformat_minor": 5
}
