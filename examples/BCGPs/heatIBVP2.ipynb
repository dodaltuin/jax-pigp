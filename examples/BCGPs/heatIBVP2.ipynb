{
 "cells": [
  {
   "cell_type": "markdown",
   "id": "ce9f80be-ca6b-4638-a471-f6c9518ed79a",
   "metadata": {},
   "source": [
    "# Heat-IBVP-2\n",
    "\n",
    "This notebook implements the BCGP and PCGP experiments for Heat-IBVP-2 from Section 5.3.2 of the manuscript"
   ]
  },
  {
   "cell_type": "markdown",
   "id": "029e3fae-6e54-4151-ac93-a06f0af3edc7",
   "metadata": {},
   "source": [
    "## Preliminaries "
   ]
  },
  {
   "cell_type": "markdown",
   "id": "d3fb2ee6-155a-42a5-94d4-5a25c8a6f825",
   "metadata": {},
   "source": [
    "Whether to run computations on GPU or CPU"
   ]
  },
  {
   "cell_type": "code",
   "execution_count": 1,
   "id": "fc022abd-2bd7-4ac1-9429-9ce0ddcfce47",
   "metadata": {
    "execution": {
     "iopub.execute_input": "2024-10-15T13:46:06.656235Z",
     "iopub.status.busy": "2024-10-15T13:46:06.655794Z",
     "iopub.status.idle": "2024-10-15T13:46:06.662792Z",
     "shell.execute_reply": "2024-10-15T13:46:06.661639Z",
     "shell.execute_reply.started": "2024-10-15T13:46:06.656191Z"
    }
   },
   "outputs": [],
   "source": [
    "import os\n",
    "\n",
    "USE_GPU: bool = True\n",
    "\n",
    "if not USE_GPU:\n",
    "    os.environ['JAX_PLATFORM_NAME'] = 'cpu'\n",
    "else:\n",
    "    os.environ[\"CUDA_VISIBLE_DEVICES\"] = str(0)"
   ]
  },
  {
   "cell_type": "markdown",
   "id": "57ebbd34-791d-431d-91e7-a4884a7e8c01",
   "metadata": {},
   "source": [
    "Package imports"
   ]
  },
  {
   "cell_type": "code",
   "execution_count": 2,
   "id": "f5dd8eeb-7d4c-452e-8659-f499484a10ee",
   "metadata": {
    "execution": {
     "iopub.execute_input": "2024-10-15T13:46:06.663726Z",
     "iopub.status.busy": "2024-10-15T13:46:06.663482Z",
     "iopub.status.idle": "2024-10-15T13:46:11.901117Z",
     "shell.execute_reply": "2024-10-15T13:46:11.899837Z",
     "shell.execute_reply.started": "2024-10-15T13:46:06.663701Z"
    }
   },
   "outputs": [],
   "source": [
    "import jax.numpy as jnp\n",
    "from jax import config, random, devices\n",
    "import jax\n",
    "\n",
    "import os\n",
    "import pickle\n",
    "from numpy import savetxt\n",
    "\n",
    "# ensure that we can access jax_pigp\n",
    "import sys\n",
    "sys.path.append('../../')\n",
    "\n",
    "import jax_pigp\n",
    "from jax_pigp.utility_fns import softplus, generate_params, PARAM_OPTIONS_DICT as param_gen_options\n",
    "from jax_pigp.base import Callable, Array\n",
    "\n",
    "from functools import partial\n",
    "\n",
    "from utility_fns import *\n",
    "\n",
    "# double precision prevents nans\n",
    "config.update(\"jax_enable_x64\", True) \n",
    "# config.update(\"jax_debug_nans\", False) "
   ]
  },
  {
   "cell_type": "markdown",
   "id": "6cb51101-b150-4a6d-8a8a-10e367d0072c",
   "metadata": {},
   "source": [
    "Check what devices are available"
   ]
  },
  {
   "cell_type": "code",
   "execution_count": 3,
   "id": "2925d3aa-54c1-403a-af64-d3d2a251a480",
   "metadata": {
    "execution": {
     "iopub.execute_input": "2024-10-15T13:46:11.902868Z",
     "iopub.status.busy": "2024-10-15T13:46:11.902647Z",
     "iopub.status.idle": "2024-10-15T13:46:11.910034Z",
     "shell.execute_reply": "2024-10-15T13:46:11.909393Z",
     "shell.execute_reply.started": "2024-10-15T13:46:11.902854Z"
    }
   },
   "outputs": [
    {
     "data": {
      "text/plain": [
       "[CudaDevice(id=0)]"
      ]
     },
     "execution_count": 3,
     "metadata": {},
     "output_type": "execute_result"
    }
   ],
   "source": [
    "devices()"
   ]
  },
  {
   "cell_type": "markdown",
   "id": "5acf1c36-9bf2-4681-9954-556b9b93b468",
   "metadata": {},
   "source": [
    "### Specify settings of the experiments"
   ]
  },
  {
   "cell_type": "code",
   "execution_count": 4,
   "id": "ccb7f3e9-6e7a-4b41-844a-d6645233e824",
   "metadata": {
    "execution": {
     "iopub.execute_input": "2024-10-15T13:46:11.910775Z",
     "iopub.status.busy": "2024-10-15T13:46:11.910642Z",
     "iopub.status.idle": "2024-10-15T13:46:11.948825Z",
     "shell.execute_reply": "2024-10-15T13:46:11.947729Z",
     "shell.execute_reply.started": "2024-10-15T13:46:11.910762Z"
    }
   },
   "outputs": [],
   "source": [
    "# base random seed for parameter initialisation\n",
    "BASE_SEED_VAL: int = 410\n",
    "\n",
    "# true value of the heat parameter theta \n",
    "THETA_TRUE: Array  = jnp.array([1.])\n",
    "\n",
    "# bounds from which to randomly sample initial value of theta\n",
    "THETA_MIN: Array = jnp.array([5.])\n",
    "THETA_MAX: Array = jnp.array([10.])\n",
    "THETA_BOUNDS = [THETA_MIN, THETA_MAX]\n",
    "\n",
    "# Set to true to consider inverse problem of identifying theta\n",
    "RUN_INVERSE: bool = True\n",
    "\n",
    "# specify how GP handles boundary condnitions \n",
    "GP_TYPE = 'bcgp'\n",
    "assert GP_TYPE in ['bcgp', 'pcgp', 'ucgp'] \n",
    "\n",
    "# number of u/f/g space observations to use for inference\n",
    "N_DATA: int = 250\n",
    "Nu: int = N_DATA\n",
    "Nf: int = N_DATA\n",
    "Nb: int = 500 if GP_TYPE==\"pcgp\" else 0\n",
    "\n",
    "# path to subdirectory in ./data where fisher-like equation data is saved\n",
    "data_save_dir: str = f'heatIBVP2'\n",
    "data_save_dir_full = os.path.join('data', data_save_dir)\n",
    "assert os.path.isdir(data_save_dir_full)\n",
    "\n",
    "# dimensionality of the spatio-temporal domain (including time)\n",
    "INPUT_DIM: int = 3\n",
    "\n",
    "# initial value for std of noise levels for u / f / boundary points\n",
    "NOISE_INIT = jnp.array([0.1, 0.1, 0.1])\n",
    "\n",
    "# softplus transformation ensures noise and theta values are positive\n",
    "THETA_TRANSFORM: Callable = softplus\n",
    "NOISE_TRANSFORM: Callable = softplus\n",
    "\n",
    "# whether to save all test set prediction results or just summary statistics\n",
    "SAVE_ALL_PREDICTIONS: bool = False\n",
    "\n",
    "# options for model training\n",
    "N_TRAIN_STEPS: int = 10000\n",
    "N_RESTARTS: int    = 1\n",
    "LR_INIT: float     = 0.02\n",
    "VERBOSE: bool      = True"
   ]
  },
  {
   "cell_type": "markdown",
   "id": "3c3feef4-64d1-4c3e-a09d-99e148160623",
   "metadata": {},
   "source": [
    "### Specify boundary-constrained mean and kernel functions\n",
    "\n",
    "The BCGP mean $(\\tilde{m})$ and kernel $(\\tilde{k})$ functions are presented in Appendix B.2.4 of the manuscript, and they are designed to ensure that the BCGP exactly satisfies the Dirichlet initial condition at $t=0$ and Dirichlet boundary conditions for $x \\in \\partial \\Omega$. These functions take the form\n",
    "\n",
    " \\begin{align*} \n",
    " \\tilde{m}(x,y,t) = & \\; \\sin(x) \\sin(y),  \\\\\n",
    " \\tilde{k}([x,y,t], [x',y',t']) = &\\; \\phi(x,y,t)\\phi(x',y',t')k([x,y,t], [x',y',t']),\n",
    " \\end{align*}\n",
    "\n",
    "where $k$ is the squared-exponential kernel and the ADF $\\phi$ is given by\n",
    "\n",
    "\\begin{equation*}\n",
    "\\phi(x,y,t)  = x (\\pi-x)y(\\pi-y)t \n",
    "\\end{equation*}\n",
    "\n",
    "The above equations are implemented as follows: "
   ]
  },
  {
   "cell_type": "code",
   "execution_count": 5,
   "id": "b0200d9c-7d1d-4745-93fe-794c46830215",
   "metadata": {
    "execution": {
     "iopub.execute_input": "2024-10-15T13:46:11.949350Z",
     "iopub.status.busy": "2024-10-15T13:46:11.949235Z",
     "iopub.status.idle": "2024-10-15T13:46:11.956159Z",
     "shell.execute_reply": "2024-10-15T13:46:11.955059Z",
     "shell.execute_reply.started": "2024-10-15T13:46:11.949339Z"
    }
   },
   "outputs": [
    {
     "name": "stdout",
     "output_type": "stream",
     "text": [
      "using hard boundary constrained mean and kernel\n"
     ]
    }
   ],
   "source": [
    "base_kernel = jax_pigp.kernels.squared_exponential\n",
    "\n",
    "if GP_TYPE == \"bcgp\":\n",
    "    print(f'using hard boundary constrained mean and kernel')\n",
    "    \n",
    "    def phi(loc: Array):\n",
    "        x, y, t = loc \n",
    "        # we rescale by 2.95 so that maximum value is equal to one\n",
    "        return x*(jnp.pi - x)*y*(jnp.pi - y)*t / 2.95\n",
    "    \n",
    "    def kernel_fn(params: dict, loc1: Array, loc2: Array):\n",
    "\n",
    "        k_params = params['kernel_params_1']\n",
    "    \n",
    "        base_kernel_val = base_kernel(k_params, loc1, loc2)\n",
    "    \n",
    "        cov_val = phi(loc1)*phi(loc2)*base_kernel_val\n",
    "    \n",
    "        return cov_val.squeeze()\n",
    "    \n",
    "    def mean_fn(params: dict, loc: Array):\n",
    "        x, y, _ = loc \n",
    "        return jnp.sin(x)*jnp.sin(y)\n",
    "\n",
    "else:\n",
    "    print(f'using unconstrained mean and kernel')\n",
    "    def kernel_fn(params: dict, loc1: Array, loc2: Array):\n",
    "\n",
    "        k_params = params['kernel_params_1']\n",
    "    \n",
    "        return base_kernel(k_params, loc1, loc2)\n",
    "    mean_fn= lambda p, loc: loc[0]*0."
   ]
  },
  {
   "cell_type": "markdown",
   "id": "a7992ef5-1cf1-431f-8b74-3f273026e356",
   "metadata": {},
   "source": [
    "### Specify heat differential operator\n",
    "\n",
    "Recall that the heat PDE over two spatial dimensions takes the form\n",
    "\n",
    "$$\\mathcal{L}^{\\theta}_{x,y,t}[u] =   \\frac{\\partial u}{\\partial t} - \\theta\\left( \\frac{\\partial^2 u}{\\partial x^2} + \\frac{\\partial^2 u}{\\partial y^2} \\right)= f = 0,$$\n",
    "where $\\theta$ is the thermal diffusivity coefficient. \n",
    "\n",
    "##### Implementation: \n",
    "\n",
    "* We define a dummy linear operator for $u$-space data which is just the identity transformation\n",
    "* $f$ is returned by calling the ``apply_PDE`` function defined below\n"
   ]
  },
  {
   "cell_type": "code",
   "execution_count": 6,
   "id": "c1a5845f-e787-4521-bfd1-8da78c8296b6",
   "metadata": {
    "execution": {
     "iopub.execute_input": "2024-10-15T13:46:11.956647Z",
     "iopub.status.busy": "2024-10-15T13:46:11.956538Z",
     "iopub.status.idle": "2024-10-15T13:46:11.970241Z",
     "shell.execute_reply": "2024-10-15T13:46:11.969320Z",
     "shell.execute_reply.started": "2024-10-15T13:46:11.956636Z"
    }
   },
   "outputs": [],
   "source": [
    "def apply_Identity(fn: Callable,argnum: int = 1):\n",
    "    return fn\n",
    "\n",
    "def apply_PDE(fn: Callable, argnum: int = 1):\n",
    "    r\"\"\"\n",
    "    Applies the Heat PDE to given input\n",
    "    fn, evaluated at specified argnum\n",
    "    \"\"\"\n",
    "\n",
    "    # the Jacobian and Hessian functions    \n",
    "    Jfn, Hfn = jac_hess(fn, argnum)\n",
    "\n",
    "    def PDE(params: dict, loc1: Array, *loc2: Array):\n",
    "        ## Note: we assume spatial coords come before temporal value in loc1 and loc2\n",
    "        \n",
    "        theta = THETA_TRANSFORM(params['theta'])[0] if RUN_INVERSE else THETA_TRUE[0]\n",
    "\n",
    "        # time derivative is the final element of the Jacobian vector\n",
    "        _, _, ut_val = Jfn(params, loc1, *loc2)\n",
    "            \n",
    "        # second spatial derivatives are first two values along diagonal of the Hessian matrix\n",
    "        uxx_val, uyy_val = jnp.diag(Hfn(params, loc1, *loc2))[:-1]\n",
    "        \n",
    "        return ut_val - theta*(uxx_val + uyy_val)\n",
    "    \n",
    "    return PDE \n",
    "\n",
    "# the first operator corresponds to the observations yu, the second\n",
    "# to pde observations yf, and the final to boundary observations of u\n",
    "linear_operators = [apply_Identity, apply_PDE, apply_Identity]"
   ]
  },
  {
   "cell_type": "markdown",
   "id": "38c1dc49-c87f-48c3-8cdc-10f6bc21e18a",
   "metadata": {},
   "source": [
    "### Store settings"
   ]
  },
  {
   "cell_type": "markdown",
   "id": "4954dd38-4b90-40f6-b07d-621b1b026eab",
   "metadata": {},
   "source": [
    "Store optimisation options in a dictionary"
   ]
  },
  {
   "cell_type": "code",
   "execution_count": 7,
   "id": "a6771a0f-35f9-4651-b1f0-0006c7e5f8a3",
   "metadata": {
    "execution": {
     "iopub.execute_input": "2024-10-15T13:46:11.972542Z",
     "iopub.status.busy": "2024-10-15T13:46:11.972311Z",
     "iopub.status.idle": "2024-10-15T13:46:11.986212Z",
     "shell.execute_reply": "2024-10-15T13:46:11.984480Z",
     "shell.execute_reply.started": "2024-10-15T13:46:11.972523Z"
    }
   },
   "outputs": [],
   "source": [
    "opt_options = {}\n",
    "opt_options['n_steps']         = N_TRAIN_STEPS \n",
    "opt_options['n_restarts']      = N_RESTARTS\n",
    "opt_options['lr']              = LR_INIT\n",
    "opt_options['verbose']         = VERBOSE\n",
    "opt_options['theta_transform'] = THETA_TRANSFORM\n",
    "opt_options['noise_transform'] = NOISE_TRANSFORM"
   ]
  },
  {
   "cell_type": "markdown",
   "id": "095461fe-3acc-471b-875e-7ac8ed5b2a43",
   "metadata": {},
   "source": [
    "Specify parameter initialisation function"
   ]
  },
  {
   "cell_type": "code",
   "execution_count": 8,
   "id": "392f2167-db6e-4823-9e6a-2f4ac7a9e5f6",
   "metadata": {
    "execution": {
     "iopub.execute_input": "2024-10-15T13:46:11.988178Z",
     "iopub.status.busy": "2024-10-15T13:46:11.987832Z",
     "iopub.status.idle": "2024-10-15T13:46:12.001686Z",
     "shell.execute_reply": "2024-10-15T13:46:11.999727Z",
     "shell.execute_reply.started": "2024-10-15T13:46:11.988151Z"
    }
   },
   "outputs": [],
   "source": [
    "param_gen_options['input_dim']       = [INPUT_DIM]\n",
    "param_gen_options['theta_bounds']    = THETA_BOUNDS\n",
    "param_gen_options['theta_transform'] = THETA_TRANSFORM\n",
    "param_gen_options['noise_std_init']  = NOISE_INIT\n",
    "param_gen_options['noise_transform'] = NOISE_TRANSFORM\n",
    "\n",
    "# randomly samples kernel parameter values given an input seed\n",
    "generate_params_fn = lambda seed: generate_params(seed, param_gen_options)"
   ]
  },
  {
   "cell_type": "markdown",
   "id": "7a8be70b-77c5-4892-b8f5-cb1cab081fd1",
   "metadata": {},
   "source": [
    "Create a directory to save the results "
   ]
  },
  {
   "cell_type": "code",
   "execution_count": 9,
   "id": "b93cc163-8ab5-4133-a986-20e730be2986",
   "metadata": {
    "execution": {
     "iopub.execute_input": "2024-10-15T13:46:12.003641Z",
     "iopub.status.busy": "2024-10-15T13:46:12.003316Z",
     "iopub.status.idle": "2024-10-15T13:46:12.017608Z",
     "shell.execute_reply": "2024-10-15T13:46:12.016093Z",
     "shell.execute_reply.started": "2024-10-15T13:46:12.003614Z"
    }
   },
   "outputs": [],
   "source": [
    "results_save_dir = os.path.join('results', data_save_dir, f'{GP_TYPE}_Nu_{Nu}_Nf_{Nf}_Nb_{Nb}')\n",
    "if not os.path.isdir(results_save_dir): os.makedirs(results_save_dir)"
   ]
  },
  {
   "cell_type": "markdown",
   "id": "9b71e326-858b-4f8c-bc7e-bc77fbb04fff",
   "metadata": {},
   "source": [
    "## Data and model initialisation"
   ]
  },
  {
   "cell_type": "markdown",
   "id": "6d381c43-b7a7-4eee-b22d-6dcaddd09e04",
   "metadata": {},
   "source": [
    "### Load train and test data"
   ]
  },
  {
   "cell_type": "code",
   "execution_count": 10,
   "id": "001f0e4b-7ccd-499d-8ec7-5d785dffa027",
   "metadata": {
    "execution": {
     "iopub.execute_input": "2024-10-15T13:46:12.019575Z",
     "iopub.status.busy": "2024-10-15T13:46:12.019173Z",
     "iopub.status.idle": "2024-10-15T13:46:12.404886Z",
     "shell.execute_reply": "2024-10-15T13:46:12.402898Z",
     "shell.execute_reply.started": "2024-10-15T13:46:12.019538Z"
    }
   },
   "outputs": [],
   "source": [
    "train_data, test_data = load_data(data_save_dir_full, Nu, Nf, Nb)"
   ]
  },
  {
   "cell_type": "markdown",
   "id": "a4a48e84-7cca-4b64-a46d-a6244fcbbf16",
   "metadata": {},
   "source": [
    "Check shapes of train and test data"
   ]
  },
  {
   "cell_type": "code",
   "execution_count": 11,
   "id": "af173916-ea9e-45f5-9112-b1683c08b2b6",
   "metadata": {
    "execution": {
     "iopub.execute_input": "2024-10-15T13:46:12.406849Z",
     "iopub.status.busy": "2024-10-15T13:46:12.406550Z",
     "iopub.status.idle": "2024-10-15T13:46:12.414126Z",
     "shell.execute_reply": "2024-10-15T13:46:12.413062Z",
     "shell.execute_reply.started": "2024-10-15T13:46:12.406824Z"
    }
   },
   "outputs": [
    {
     "data": {
      "text/plain": [
       "((500, 1), (500, 1), [(250, 3), (250, 3), (0, 3)])"
      ]
     },
     "execution_count": 11,
     "metadata": {},
     "output_type": "execute_result"
    }
   ],
   "source": [
    "train_data.ytrain.shape, test_data.us.shape, [X.shape for X in train_data.Xtrain]"
   ]
  },
  {
   "cell_type": "markdown",
   "id": "d0ae6c47-c30a-4f5d-9b77-c2e525216e13",
   "metadata": {},
   "source": [
    "### Initialise PIGP model"
   ]
  },
  {
   "cell_type": "code",
   "execution_count": 12,
   "id": "6506737d-3eec-4592-acf5-9e5485da9c94",
   "metadata": {
    "execution": {
     "iopub.execute_input": "2024-10-15T13:46:12.414926Z",
     "iopub.status.busy": "2024-10-15T13:46:12.414714Z",
     "iopub.status.idle": "2024-10-15T13:46:12.430493Z",
     "shell.execute_reply": "2024-10-15T13:46:12.429391Z",
     "shell.execute_reply.started": "2024-10-15T13:46:12.414905Z"
    }
   },
   "outputs": [],
   "source": [
    "heat_kernel_fns = jax_pigp.interdomain_moments.InterdomainKernelFns(kernel_fn, linear_operators)\n",
    "heat_mean_fns   = jax_pigp.interdomain_moments.InterdomainMeanFns(mean_fn,     linear_operators)\n",
    "\n",
    "gp_model = jax_pigp.models.GPR(heat_kernel_fns, heat_mean_fns, noise_trans=NOISE_TRANSFORM)"
   ]
  },
  {
   "cell_type": "markdown",
   "id": "d2d89230-1c23-4827-8d9b-093bdfa57715",
   "metadata": {},
   "source": [
    "### Initialise learner for model training"
   ]
  },
  {
   "cell_type": "code",
   "execution_count": 13,
   "id": "76bf0448-abbe-44f4-b77b-c1cc7505ae92",
   "metadata": {
    "execution": {
     "iopub.execute_input": "2024-10-15T13:46:12.431840Z",
     "iopub.status.busy": "2024-10-15T13:46:12.431568Z",
     "iopub.status.idle": "2024-10-15T13:46:13.665456Z",
     "shell.execute_reply": "2024-10-15T13:46:13.664236Z",
     "shell.execute_reply.started": "2024-10-15T13:46:12.431817Z"
    }
   },
   "outputs": [],
   "source": [
    "obj_fn_train = lambda params: -gp_model.log_marginal_likelihood(params, train_data)    \n",
    "\n",
    "gp_learner = jax_pigp.optimisers.AdamLearner(obj_fn_train, opt_options, generate_params_fn, random.PRNGKey(BASE_SEED_VAL))"
   ]
  },
  {
   "cell_type": "markdown",
   "id": "911dfdc1-192e-416e-83c0-41c363eaf40e",
   "metadata": {},
   "source": [
    "Initial parameter values  "
   ]
  },
  {
   "cell_type": "code",
   "execution_count": 14,
   "id": "fdfa69d9-ca03-4ac7-ba4d-dedfe2d13ab0",
   "metadata": {
    "execution": {
     "iopub.execute_input": "2024-10-15T13:46:13.666402Z",
     "iopub.status.busy": "2024-10-15T13:46:13.666275Z",
     "iopub.status.idle": "2024-10-15T13:46:13.797560Z",
     "shell.execute_reply": "2024-10-15T13:46:13.795871Z",
     "shell.execute_reply.started": "2024-10-15T13:46:13.666389Z"
    }
   },
   "outputs": [
    {
     "name": "stdout",
     "output_type": "stream",
     "text": [
      "kernel_params_1\n",
      "amp: [5.60569139]\n",
      "ls: [1.65025567 1.33145352 3.92439352]\n",
      "alpha: [11.53558964]\n",
      "\n",
      "noise_std: [0.1 0.1 0.1]\n",
      "theta: [5.46905627]\n"
     ]
    }
   ],
   "source": [
    "print_param_values(gp_learner.params, opt_options)"
   ]
  },
  {
   "cell_type": "markdown",
   "id": "afd94393-fbe4-4875-9684-2052d0a8db52",
   "metadata": {},
   "source": [
    "Objective function value for initial parameters"
   ]
  },
  {
   "cell_type": "code",
   "execution_count": 15,
   "id": "e6d2c7ce-19b8-401b-b8ac-fc4a9ada7805",
   "metadata": {
    "execution": {
     "iopub.execute_input": "2024-10-15T13:46:13.798435Z",
     "iopub.status.busy": "2024-10-15T13:46:13.798257Z",
     "iopub.status.idle": "2024-10-15T13:46:31.487698Z",
     "shell.execute_reply": "2024-10-15T13:46:31.486016Z",
     "shell.execute_reply.started": "2024-10-15T13:46:13.798419Z"
    }
   },
   "outputs": [
    {
     "data": {
      "text/plain": [
       "Array(-5177.13811678, dtype=float64)"
      ]
     },
     "execution_count": 15,
     "metadata": {},
     "output_type": "execute_result"
    }
   ],
   "source": [
    "gp_model.log_marginal_likelihood(gp_learner.params, train_data)"
   ]
  },
  {
   "cell_type": "markdown",
   "id": "b5783ebc-9d80-4b78-86ec-2a3281057cac",
   "metadata": {},
   "source": [
    "Gradient of the objective function with respect to the initial parameters"
   ]
  },
  {
   "cell_type": "code",
   "execution_count": 16,
   "id": "fa0404f8-c22e-4bdf-b552-74adafb415ee",
   "metadata": {
    "execution": {
     "iopub.execute_input": "2024-10-15T13:46:31.489068Z",
     "iopub.status.busy": "2024-10-15T13:46:31.488879Z",
     "iopub.status.idle": "2024-10-15T13:46:55.350976Z",
     "shell.execute_reply": "2024-10-15T13:46:55.349467Z",
     "shell.execute_reply.started": "2024-10-15T13:46:31.489054Z"
    }
   },
   "outputs": [
    {
     "data": {
      "text/plain": [
       "(Array(5177.13811678, dtype=float64),\n",
       " {'kernel_params_1': {'alpha': Array([0.], dtype=float64),\n",
       "   'amp': Array([-352.40401523], dtype=float64),\n",
       "   'ls': Array([-236.52454029, -344.75935484, 1948.17035898], dtype=float64)},\n",
       "  'noise_std': Array([-1002.83394662, -5553.55643032,     0.        ], dtype=float64),\n",
       "  'theta': Array([3075.00053325], dtype=float64)})"
      ]
     },
     "execution_count": 16,
     "metadata": {},
     "output_type": "execute_result"
    }
   ],
   "source": [
    "gp_learner.grad_obj_fn(gp_learner.params)"
   ]
  },
  {
   "cell_type": "markdown",
   "id": "fe399d56-db76-4bba-b4a6-099a0250e24a",
   "metadata": {},
   "source": [
    "## Training "
   ]
  },
  {
   "cell_type": "markdown",
   "id": "bd752d5d-18f0-4673-89af-2961805b7068",
   "metadata": {},
   "source": [
    "JIT compile the ``update_one_step`` method by evaluating it once, then train model for specified number of steps/restarts."
   ]
  },
  {
   "cell_type": "code",
   "execution_count": 17,
   "id": "84d24991-4922-47de-8616-0d823ed16a5d",
   "metadata": {
    "execution": {
     "iopub.execute_input": "2024-10-15T13:46:55.352286Z",
     "iopub.status.busy": "2024-10-15T13:46:55.352116Z",
     "iopub.status.idle": "2024-10-15T13:47:05.048693Z",
     "shell.execute_reply": "2024-10-15T13:47:05.047938Z",
     "shell.execute_reply.started": "2024-10-15T13:46:55.352272Z"
    }
   },
   "outputs": [],
   "source": [
    "_ = gp_learner.update_one_step(gp_learner.params, gp_learner.opt_state)"
   ]
  },
  {
   "cell_type": "code",
   "execution_count": 18,
   "id": "ade9c9cd-256b-4797-8339-f8c818486483",
   "metadata": {
    "execution": {
     "iopub.execute_input": "2024-10-15T13:47:05.049544Z",
     "iopub.status.busy": "2024-10-15T13:47:05.049415Z",
     "iopub.status.idle": "2024-10-15T13:49:05.458272Z",
     "shell.execute_reply": "2024-10-15T13:49:05.456510Z",
     "shell.execute_reply.started": "2024-10-15T13:47:05.049533Z"
    }
   },
   "outputs": [
    {
     "name": "stdout",
     "output_type": "stream",
     "text": [
      "gp_type=bcgp, Nu/Nf/Nb=250/250/0, n_steps=10000, n_restarts=1\n",
      "\n",
      "Restart 0: beginning training for 10000 steps\n",
      "(0): 4275.0216, noise_std_vals = [1.02e-01,1.02e-01,1.00e-01], theta = [5.5901522]\n",
      "(400): -273.1407, noise_std_vals = [1.55e-01,1.37e-01,1.00e-01], theta = [2.76533247]\n",
      "(800): -1505.6515, noise_std_vals = [2.17e-02,6.41e-03,1.00e-01], theta = [0.99651641]\n",
      "(1200): -1861.5351, noise_std_vals = [2.18e-02,5.25e-04,1.00e-01], theta = [0.99082247]\n",
      "(1600): -1878.4526, noise_std_vals = [2.18e-02,2.74e-04,1.00e-01], theta = [0.99017256]\n",
      "(2000): -1882.1727, noise_std_vals = [2.18e-02,1.94e-04,1.00e-01], theta = [0.98989482]\n",
      "(2400): -1883.9216, noise_std_vals = [2.18e-02,1.52e-04,1.00e-01], theta = [0.98977517]\n",
      "(2800): -1885.1556, noise_std_vals = [2.18e-02,1.24e-04,1.00e-01], theta = [0.98972101]\n",
      "(3200): -1886.3411, noise_std_vals = [2.18e-02,1.05e-04,1.00e-01], theta = [0.98967827]\n",
      "(3600): -1887.8246, noise_std_vals = [2.18e-02,8.99e-05,1.00e-01], theta = [0.98961019]\n",
      "(4000): -1890.3167, noise_std_vals = [2.18e-02,7.81e-05,1.00e-01], theta = [0.98942713]\n",
      "(4400): -1897.2139, noise_std_vals = [2.18e-02,6.84e-05,1.00e-01], theta = [0.98819179]\n",
      "(4800): -1900.0204, noise_std_vals = [2.18e-02,6.04e-05,1.00e-01], theta = [0.9885534]\n",
      "(5200): -1900.0966, noise_std_vals = [2.18e-02,5.36e-05,1.00e-01], theta = [0.98857173]\n",
      "(5600): -1900.1540, noise_std_vals = [2.18e-02,4.77e-05,1.00e-01], theta = [0.98857101]\n",
      "(6000): -1900.1984, noise_std_vals = [2.18e-02,4.26e-05,1.00e-01], theta = [0.98857043]\n",
      "(6400): -1900.2331, noise_std_vals = [2.18e-02,3.81e-05,1.00e-01], theta = [0.98856997]\n",
      "(6800): -1900.2605, noise_std_vals = [2.18e-02,3.42e-05,1.00e-01], theta = [0.9885696]\n",
      "(7200): -1900.2823, noise_std_vals = [2.18e-02,3.08e-05,1.00e-01], theta = [0.98856932]\n",
      "(7600): -1900.2982, noise_std_vals = [2.18e-02,2.79e-05,1.00e-01], theta = [0.9885691]\n",
      "(8000): -1900.2999, noise_std_vals = [2.18e-02,2.76e-05,1.00e-01], theta = [0.98856908]\n",
      "(8400): -1900.3007, noise_std_vals = [2.18e-02,2.75e-05,1.00e-01], theta = [0.98856907]\n",
      "(8800): -1900.3017, noise_std_vals = [2.18e-02,2.73e-05,1.00e-01], theta = [0.98856906]\n",
      "(9200): -1900.3029, noise_std_vals = [2.18e-02,2.71e-05,1.00e-01], theta = [0.98856904]\n",
      "(9600): -1900.3042, noise_std_vals = [2.18e-02,2.68e-05,1.00e-01], theta = [0.98856902]\n",
      "Final training results: \n",
      "(9999): -1900.3058, noise_std_vals = [2.18e-02,2.65e-05,1.00e-01], theta = [0.988569]\n",
      "\n",
      "\n"
     ]
    }
   ],
   "source": [
    "print(f'gp_type={GP_TYPE}, Nu/Nf/Nb={Nu}/{Nf}/{Nb}, n_steps={opt_options['n_steps']}, n_restarts={opt_options['n_restarts']}\\n')\n",
    "gp_learner.train_with_restarts(opt_options['n_steps'], \n",
    "                               opt_options['n_restarts'], \n",
    "                               print_progress = opt_options['verbose'])"
   ]
  },
  {
   "cell_type": "markdown",
   "id": "b1f16ab0-0d14-4fe3-91fc-d1e7fc81b050",
   "metadata": {},
   "source": [
    "### Plot training results"
   ]
  },
  {
   "cell_type": "code",
   "execution_count": 19,
   "id": "061db8ab-98a1-4ad9-b5a6-a4215affbcc9",
   "metadata": {
    "execution": {
     "iopub.execute_input": "2024-10-15T13:49:05.461498Z",
     "iopub.status.busy": "2024-10-15T13:49:05.461299Z",
     "iopub.status.idle": "2024-10-15T13:49:06.486904Z",
     "shell.execute_reply": "2024-10-15T13:49:06.485736Z",
     "shell.execute_reply.started": "2024-10-15T13:49:05.461482Z"
    }
   },
   "outputs": [
    {
     "data": {
      "image/png": "[encoded data removed]",
      "text/plain": [
       "<Figure size 700x300 with 2 Axes>"
      ]
     },
     "metadata": {},
     "output_type": "display_data"
    }
   ],
   "source": [
    "theta_arr = jnp.array(gp_learner.theta_list)\n",
    "\n",
    "fig, axes = plt.subplots(nrows=1, ncols=2, figsize=TWO_COLUMN_FIGSIZE)\n",
    "\n",
    "begin_at = int(len(gp_learner.obj_list)*0.05)\n",
    "\n",
    "plot_lc(axes[0], gp_learner.obj_list[begin_at:], 'Objective Function')\n",
    "plot_lc(axes[1], theta_arr[begin_at:,0], 'theta')\n",
    "\n",
    "fig.tight_layout()\n",
    "\n",
    "plt.savefig(os.path.join(results_save_dir, 'learningCurves.pdf'))"
   ]
  },
  {
   "cell_type": "markdown",
   "id": "e1c726ce-f6da-4571-8166-4f100ab16b60",
   "metadata": {},
   "source": [
    "### Final trained parameter values"
   ]
  },
  {
   "cell_type": "code",
   "execution_count": 20,
   "id": "7d7749e8-0789-4dd2-b088-96a713ea8db0",
   "metadata": {
    "execution": {
     "iopub.execute_input": "2024-10-15T13:49:06.487505Z",
     "iopub.status.busy": "2024-10-15T13:49:06.487382Z",
     "iopub.status.idle": "2024-10-15T13:49:06.501813Z",
     "shell.execute_reply": "2024-10-15T13:49:06.500616Z",
     "shell.execute_reply.started": "2024-10-15T13:49:06.487492Z"
    }
   },
   "outputs": [
    {
     "name": "stdout",
     "output_type": "stream",
     "text": [
      "kernel_params_1\n",
      "alpha: [13.76911183]\n",
      "amp: [0.3638168]\n",
      "ls: [3.81693329 3.85620891 1.11795407]\n",
      "\n",
      "noise_std: [2.17772394e-02 2.65033882e-05 1.00000000e-01]\n",
      "theta: [0.988569]\n"
     ]
    }
   ],
   "source": [
    "# extract final trained parameter values\n",
    "trained_params = gp_learner.params_best.copy()\n",
    "\n",
    "# print the values of the trained parameters\n",
    "print_param_values(trained_params, opt_options)\n",
    "\n",
    "# save trained parameters\n",
    "with open(os.path.join(results_save_dir, 'trained_params.pkl'), 'wb') as fp:\n",
    "    pickle.dump(trained_params, fp)"
   ]
  },
  {
   "cell_type": "markdown",
   "id": "fcb49cb0-c77f-4221-8acb-a4c522490f93",
   "metadata": {},
   "source": [
    "Can load pre-trained parameters by uncommenting the below"
   ]
  },
  {
   "cell_type": "code",
   "execution_count": 21,
   "id": "044e6b92-c41f-46f7-9fa6-c99bb2fdf9f7",
   "metadata": {
    "execution": {
     "iopub.execute_input": "2024-10-15T13:49:06.502834Z",
     "iopub.status.busy": "2024-10-15T13:49:06.502666Z",
     "iopub.status.idle": "2024-10-15T13:49:06.506821Z",
     "shell.execute_reply": "2024-10-15T13:49:06.505832Z",
     "shell.execute_reply.started": "2024-10-15T13:49:06.502818Z"
    }
   },
   "outputs": [],
   "source": [
    "# with open(os.path.join(results_save_dir, 'trained_params.pkl'), 'rb') as f:\n",
    "    # trained_params = pickle.load(f)"
   ]
  },
  {
   "cell_type": "markdown",
   "id": "e33bc444-5fff-4f0b-8507-4985eea193e0",
   "metadata": {},
   "source": [
    "## Test set results\n",
    "\n",
    "Evaluate posterior distribution at test points, using hyper-parameter values ``trained_params`` obtained during training phase."
   ]
  },
  {
   "cell_type": "code",
   "execution_count": 22,
   "id": "f874b8dc-a850-4644-b1a7-bbc7da8e7dda",
   "metadata": {
    "execution": {
     "iopub.execute_input": "2024-10-15T13:49:06.507724Z",
     "iopub.status.busy": "2024-10-15T13:49:06.507575Z",
     "iopub.status.idle": "2024-10-15T13:49:11.589202Z",
     "shell.execute_reply": "2024-10-15T13:49:11.587692Z",
     "shell.execute_reply.started": "2024-10-15T13:49:06.507710Z"
    }
   },
   "outputs": [
    {
     "name": "stdout",
     "output_type": "stream",
     "text": [
      "Posterior results for bcgp, Nu/Nf/Nb=250/250/0, Ns=500\n",
      "mean/max loss: 1.238805e-03/4.157e-03\n",
      "theta_true : [1.]\n",
      "theta_pred : [0.988569]\n",
      "theta_loss : 1.143e-02\n"
     ]
    }
   ],
   "source": [
    "# posterior mean and covariance over test points\n",
    "print(f'Posterior results for {GP_TYPE}, Nu/Nf/Nb={Nu}/{Nf}/{Nb}, Ns={test_data.Xs.shape[0]}')\n",
    "mu, Sigma = gp_model.posterior_predict(trained_params, train_data, test_data.Xs)\n",
    "s = jnp.diag(Sigma)**.5\n",
    "\n",
    "# save predictions\n",
    "if SAVE_ALL_PREDICTIONS:\n",
    "    jnp.save(os.path.join(results_save_dir, 'u_pred.npy'), mu)\n",
    "    jnp.save(os.path.join(results_save_dir, 's_pred.npy'), s)\n",
    "\n",
    "# test set prediction error\n",
    "abs_losses = jnp.abs(mu - test_data.us)\n",
    "print(f'mean/max loss: {abs_losses.mean():3e}/{abs_losses.max():.3e}')\n",
    "savetxt(os.path.join(results_save_dir, 'mean_loss.txt'), abs_losses.mean().reshape(-1,1))\n",
    "\n",
    "if RUN_INVERSE:\n",
    "    theta_pred = opt_options['theta_transform'](trained_params['theta'])\n",
    "    theta_loss = jnp.linalg.norm(theta_pred - THETA_TRUE)\n",
    "    print(f'theta_true : {THETA_TRUE}')\n",
    "    print(f'theta_pred : {theta_pred}')\n",
    "    print(f'theta_loss : {theta_loss:.3e}')\n",
    "    savetxt(os.path.join(results_save_dir, 'theta_loss.txt'), jnp.array([theta_loss]))"
   ]
  },
  {
   "cell_type": "markdown",
   "id": "a6f288da-d6ea-4be6-9801-eef294e42009",
   "metadata": {},
   "source": [
    "### Plots of posterior prediction\n",
    "\n",
    "\n",
    "To make a heat plot, we load and predict on another dataset which has fixed $t=0.5$."
   ]
  },
  {
   "cell_type": "code",
   "execution_count": 23,
   "id": "1ed05735-9ebe-4366-8b62-6a0775982bce",
   "metadata": {
    "execution": {
     "iopub.execute_input": "2024-10-15T13:49:11.591063Z",
     "iopub.status.busy": "2024-10-15T13:49:11.590793Z",
     "iopub.status.idle": "2024-10-15T13:49:18.721031Z",
     "shell.execute_reply": "2024-10-15T13:49:18.718982Z",
     "shell.execute_reply.started": "2024-10-15T13:49:11.591038Z"
    }
   },
   "outputs": [],
   "source": [
    "Xs_plot = jnp.load(f'{data_save_dir_full}/Xs_plot.npy')\n",
    "us_plot = jnp.load(f'{data_save_dir_full}/us_plot.npy')\n",
    "\n",
    "# write data to TestData object for plotting\n",
    "test_data_plot = jax_pigp.datasets.TestData(Xs_plot[:,:2], us_plot)\n",
    "\n",
    "mu_plot, Sigma_plot = gp_model.posterior_predict(trained_params, train_data, Xs_plot)\n",
    "s_plot = jnp.diag(Sigma_plot)**.5\n",
    "\n",
    "abs_losses_plot = jnp.abs(mu_plot - us_plot)"
   ]
  },
  {
   "cell_type": "code",
   "execution_count": 24,
   "id": "300170da-c0f6-4f85-bb9c-d1b884a4d0bf",
   "metadata": {
    "execution": {
     "iopub.execute_input": "2024-10-15T13:49:18.722825Z",
     "iopub.status.busy": "2024-10-15T13:49:18.722597Z",
     "iopub.status.idle": "2024-10-15T13:49:20.677346Z",
     "shell.execute_reply": "2024-10-15T13:49:20.676266Z",
     "shell.execute_reply.started": "2024-10-15T13:49:18.722806Z"
    }
   },
   "outputs": [
    {
     "data": {
      "image/png": "[encoded data removed]",
      "text/plain": [
       "<Figure size 1000x600 with 8 Axes>"
      ]
     },
     "metadata": {},
     "output_type": "display_data"
    }
   ],
   "source": [
    "fig, axes = plt.subplots(nrows=2, ncols=2, figsize=TWO_BY_TWO_FIGSIZE)\n",
    "\n",
    "Nx = len(jnp.unique(test_data_plot.Xs[:,0]))\n",
    "Nt = len(jnp.unique(test_data_plot.Xs[:,1]))\n",
    "\n",
    "make_heatmap_heat = lambda ax, output, title=None: make_heatmap(fig, ax, output.reshape(Nt,Nx).T, test_data_plot, None, None, title)\n",
    "\n",
    "make_heatmap_heat(axes[0,0], us_plot, title='u_true')\n",
    "make_heatmap_heat(axes[0,1], mu_plot, title=f'u_pred, {GP_TYPE}')\n",
    "make_heatmap_heat(axes[1,0], abs_losses_plot, title=f'err_u (mean = {abs_losses_plot.mean():.3e})')\n",
    "make_heatmap_heat(axes[1,1], s_plot, title=f'u_pred std')\n",
    "\n",
    "fig.tight_layout()\n",
    "\n",
    "plt.savefig(os.path.join(results_save_dir, 'posteriorPrediction.pdf'))"
   ]
  }
 ],
 "metadata": {
  "kernelspec": {
   "display_name": "Python 3 (ipykernel)",
   "language": "python",
   "name": "python3"
  },
  "language_info": {
   "codemirror_mode": {
    "name": "ipython",
    "version": 3
   },
   "file_extension": ".py",
   "mimetype": "text/x-python",
   "name": "python",
   "nbconvert_exporter": "python",
   "pygments_lexer": "ipython3",
   "version": "3.12.4"
  }
 },
 "nbformat": 4,
 "nbformat_minor": 5
}
