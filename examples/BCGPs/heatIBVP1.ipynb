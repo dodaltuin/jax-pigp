{
 "cells": [
  {
   "cell_type": "markdown",
   "id": "8b3aca2a-fe77-46f0-a2d7-f163f04885b9",
   "metadata": {},
   "source": [
    "# Heat-IBVP-1\n",
    "\n",
    "This notebook implements the BCGP and PCGP experiments for Heat-IBVP-1 from Section 5.3.1 of the manuscript"
   ]
  },
  {
   "cell_type": "markdown",
   "id": "029e3fae-6e54-4151-ac93-a06f0af3edc7",
   "metadata": {},
   "source": [
    "## Preliminaries "
   ]
  },
  {
   "cell_type": "markdown",
   "id": "d3fb2ee6-155a-42a5-94d4-5a25c8a6f825",
   "metadata": {},
   "source": [
    "Whether to run computations on GPU or CPU"
   ]
  },
  {
   "cell_type": "code",
   "execution_count": 1,
   "id": "fc022abd-2bd7-4ac1-9429-9ce0ddcfce47",
   "metadata": {
    "execution": {
     "iopub.execute_input": "2024-10-15T13:33:46.150861Z",
     "iopub.status.busy": "2024-10-15T13:33:46.150410Z",
     "iopub.status.idle": "2024-10-15T13:33:46.157408Z",
     "shell.execute_reply": "2024-10-15T13:33:46.156124Z",
     "shell.execute_reply.started": "2024-10-15T13:33:46.150812Z"
    }
   },
   "outputs": [],
   "source": [
    "import os\n",
    "\n",
    "USE_GPU: bool = True\n",
    "\n",
    "if not USE_GPU:\n",
    "    os.environ['JAX_PLATFORM_NAME'] = 'cpu'\n",
    "else:\n",
    "    os.environ[\"CUDA_VISIBLE_DEVICES\"] = str(0)"
   ]
  },
  {
   "cell_type": "markdown",
   "id": "57ebbd34-791d-431d-91e7-a4884a7e8c01",
   "metadata": {},
   "source": [
    "Package imports"
   ]
  },
  {
   "cell_type": "code",
   "execution_count": 2,
   "id": "f5dd8eeb-7d4c-452e-8659-f499484a10ee",
   "metadata": {
    "execution": {
     "iopub.execute_input": "2024-10-15T13:33:46.160815Z",
     "iopub.status.busy": "2024-10-15T13:33:46.160353Z",
     "iopub.status.idle": "2024-10-15T13:33:49.551699Z",
     "shell.execute_reply": "2024-10-15T13:33:49.551007Z",
     "shell.execute_reply.started": "2024-10-15T13:33:46.160774Z"
    }
   },
   "outputs": [],
   "source": [
    "import jax.numpy as jnp\n",
    "from jax import config, random, devices\n",
    "\n",
    "import os\n",
    "import pickle\n",
    "from numpy import savetxt\n",
    "\n",
    "# ensure that we can access jax_pigp\n",
    "import sys\n",
    "sys.path.append('../../')\n",
    "\n",
    "import jax_pigp\n",
    "from jax_pigp.utility_fns import softplus, generate_params, PARAM_OPTIONS_DICT as param_gen_options\n",
    "from jax_pigp.base import Callable, Array\n",
    "\n",
    "from utility_fns import *\n",
    "\n",
    "# double precision prevents nans\n",
    "config.update(\"jax_enable_x64\", True) \n",
    "config.update(\"jax_debug_nans\", False) "
   ]
  },
  {
   "cell_type": "markdown",
   "id": "c228796c-5e65-48b0-b448-8b6775a48a66",
   "metadata": {},
   "source": [
    "Check what devices are available"
   ]
  },
  {
   "cell_type": "code",
   "execution_count": 3,
   "id": "2925d3aa-54c1-403a-af64-d3d2a251a480",
   "metadata": {
    "execution": {
     "iopub.execute_input": "2024-10-15T13:33:49.552608Z",
     "iopub.status.busy": "2024-10-15T13:33:49.552393Z",
     "iopub.status.idle": "2024-10-15T13:33:49.558069Z",
     "shell.execute_reply": "2024-10-15T13:33:49.557509Z",
     "shell.execute_reply.started": "2024-10-15T13:33:49.552591Z"
    }
   },
   "outputs": [
    {
     "data": {
      "text/plain": [
       "[CudaDevice(id=0)]"
      ]
     },
     "execution_count": 3,
     "metadata": {},
     "output_type": "execute_result"
    }
   ],
   "source": [
    "devices()"
   ]
  },
  {
   "cell_type": "markdown",
   "id": "5acf1c36-9bf2-4681-9954-556b9b93b468",
   "metadata": {},
   "source": [
    "### Specify settings of the experiments"
   ]
  },
  {
   "cell_type": "code",
   "execution_count": 4,
   "id": "ccb7f3e9-6e7a-4b41-844a-d6645233e824",
   "metadata": {
    "execution": {
     "iopub.execute_input": "2024-10-15T13:33:49.558823Z",
     "iopub.status.busy": "2024-10-15T13:33:49.558658Z",
     "iopub.status.idle": "2024-10-15T13:33:49.583164Z",
     "shell.execute_reply": "2024-10-15T13:33:49.582610Z",
     "shell.execute_reply.started": "2024-10-15T13:33:49.558807Z"
    }
   },
   "outputs": [],
   "source": [
    "# base random seed for parameter initialisation\n",
    "BASE_SEED_VAL: int = 444\n",
    "\n",
    "# true value of the heat parameter theta \n",
    "THETA_TRUE: Array  = jnp.array([1.])\n",
    "\n",
    "# bounds from which to randomly sample initial value of theta\n",
    "THETA_MIN: Array = jnp.array([5.])\n",
    "THETA_MAX: Array = jnp.array([10.])\n",
    "THETA_BOUNDS = [THETA_MIN, THETA_MAX]\n",
    "\n",
    "# Set to True to consider inverse problem of identifying theta\n",
    "RUN_INVERSE: bool = True\n",
    "\n",
    "# specify how GP handles boundary conditions \n",
    "GP_TYPE = 'bcgp'\n",
    "assert GP_TYPE in ['bcgp', 'pcgp', 'ucgp'] \n",
    "\n",
    "# number of u/f space observations to use for inference\n",
    "N_DATA: int = 25\n",
    "Nu: int = N_DATA\n",
    "Nf: int = N_DATA\n",
    "# number of boundary points to use for PCGP\n",
    "Nb: int = 50 if GP_TYPE==\"pcgp\" else 0\n",
    "\n",
    "# path to subdirectory in /data where Heat-IBVP-1 data is saved\n",
    "data_save_dir: str = f'heatIBVP1'\n",
    "data_save_dir_full = os.path.join('data', data_save_dir)\n",
    "assert os.path.isdir(data_save_dir_full)\n",
    "\n",
    "# dimensionality of the spatio-temporal domain (including time)\n",
    "INPUT_DIM: int = 2\n",
    "\n",
    "# initial value for std of noise levels for u / f / boundary points\n",
    "NOISE_INIT = jnp.array([0.1]*3)\n",
    "\n",
    "# softplus transformation ensures noise and theta values are positive\n",
    "THETA_TRANSFORM: Callable = softplus\n",
    "NOISE_TRANSFORM: Callable = softplus\n",
    "\n",
    "# whether to save all test set prediction results or just summary statistics\n",
    "SAVE_ALL_PREDICTIONS: bool = True\n",
    "\n",
    "# options for model training\n",
    "N_TRAIN_STEPS: int = 5000\n",
    "N_RESTARTS: int    = 3\n",
    "LR_INIT: float     = 0.025\n",
    "VERBOSE: bool      = False"
   ]
  },
  {
   "cell_type": "markdown",
   "id": "e39af305-bf67-404b-af8e-5af0b60c8c06",
   "metadata": {},
   "source": [
    "### Specify boundary-constrained mean and kernel functions\n",
    "\n",
    "The BCGP mean $(\\tilde{m})$ and kernel $(\\tilde{k})$ functions are presented in Appendix B.2.3 of the manuscript, and they are designed to ensure that the BCGP exactly satisfies the Dirichlet initial condition at $t=0$ and Dirichlet boundary conditions for $x \\in \\partial \\Omega =  \\{\\pi/2, -\\pi/2\\}$. These functions take the form\n",
    "\n",
    " \\begin{align*} \n",
    " \\tilde{m}(x,t) = & \\;\\frac{2 x}{\\pi}  \\exp(-t) + (1-t) \\left(\\sin(x) - \\frac{2 x}{\\pi}\\right),  \\\\\n",
    " \\tilde{k}([x,t], [x',t']) = &\\; \\phi(x,t)\\phi(x',t')k([x,t], [x',t']),\n",
    " \\end{align*}\n",
    "\n",
    "Note that there is a slight typo in the formula for $\\tilde{m}$ in the manuscript.\n",
    "\n",
    "where the ADF $\\phi$ is given by\n",
    "\n",
    "\\begin{equation*}\n",
    "\\phi(x,t)  = \\left(x + \\frac{\\pi}{2}\\right)\\left(\\frac{\\pi}{2} - x\\right)t.\n",
    "\\end{equation*}\n",
    "\n",
    "The above equations are implemented as follows: "
   ]
  },
  {
   "cell_type": "code",
   "execution_count": 5,
   "id": "be47d11a-df06-4211-a6c4-7484ea7ab249",
   "metadata": {
    "execution": {
     "iopub.execute_input": "2024-10-15T13:33:49.584507Z",
     "iopub.status.busy": "2024-10-15T13:33:49.584364Z",
     "iopub.status.idle": "2024-10-15T13:33:49.589222Z",
     "shell.execute_reply": "2024-10-15T13:33:49.588655Z",
     "shell.execute_reply.started": "2024-10-15T13:33:49.584495Z"
    }
   },
   "outputs": [
    {
     "name": "stdout",
     "output_type": "stream",
     "text": [
      "using boundary constrained mean and kernel\n"
     ]
    }
   ],
   "source": [
    "base_kernel = jax_pigp.kernels.squared_exponential\n",
    "\n",
    "if GP_TYPE == \"bcgp\":\n",
    "    print(f'using boundary constrained mean and kernel')\n",
    "    \n",
    "    def phi(loc: Array):\n",
    "        x, t = loc \n",
    "        return (jnp.pi/2. - x)*(x + jnp.pi/2.)*t\n",
    "    \n",
    "    def kernel_fn(params: dict, loc1: Array, loc2: Array):\n",
    "\n",
    "        k_params = params['kernel_params_1']\n",
    "    \n",
    "        base_kernel_val = base_kernel(k_params, loc1, loc2)\n",
    "    \n",
    "        cov_val = phi(loc1)*phi(loc2)*base_kernel_val\n",
    "    \n",
    "        return cov_val.squeeze()\n",
    "    \n",
    "    def mean_fn(params: dict, loc: Array):\n",
    "        x, t = loc \n",
    "        two_x_pi = 2*x/jnp.pi\n",
    "        return jnp.exp(-t)*two_x_pi + (1.-t)*(jnp.sin(x) - two_x_pi)    \n",
    "\n",
    "else:\n",
    "    print(f'using unconstrained mean and kernel')\n",
    "    \n",
    "    def kernel_fn(params: dict, loc1: Array, loc2: Array):\n",
    "\n",
    "        k_params = params['kernel_params_1']\n",
    "    \n",
    "        return base_kernel(k_params, loc1, loc2)\n",
    "    \n",
    "    mean_fn= lambda p, loc: loc[0]*0."
   ]
  },
  {
   "cell_type": "markdown",
   "id": "b80966b9-4e25-481d-ba00-141f63666c4d",
   "metadata": {},
   "source": [
    "### Specify heat differential operator\n",
    "\n",
    "Recall that the heat PDE over one spatial dimension takes the form\n",
    "\n",
    "$$\\mathcal{L}^{\\theta}_{x,t}[u] =   \\frac{\\partial u}{\\partial t} - \\theta \\frac{\\partial^2 u}{\\partial x^2} = f = 0,$$\n",
    "where $\\theta$ is the thermal diffusivity coefficient. \n",
    "\n",
    "##### Implementation: \n",
    "\n",
    "* We define a dummy linear operator for $u$-space data which is just the identity transformation\n",
    "* $f$ is returned by calling the ``apply_PDE`` function defined below\n"
   ]
  },
  {
   "cell_type": "code",
   "execution_count": 6,
   "id": "c1a5845f-e787-4521-bfd1-8da78c8296b6",
   "metadata": {
    "execution": {
     "iopub.execute_input": "2024-10-15T13:33:49.589838Z",
     "iopub.status.busy": "2024-10-15T13:33:49.589728Z",
     "iopub.status.idle": "2024-10-15T13:33:49.595427Z",
     "shell.execute_reply": "2024-10-15T13:33:49.594906Z",
     "shell.execute_reply.started": "2024-10-15T13:33:49.589829Z"
    }
   },
   "outputs": [],
   "source": [
    "def apply_Identity(fn: Callable,argnum: int = 1):\n",
    "    return fn\n",
    "\n",
    "def apply_PDE(fn: Callable, argnum: int = 1):\n",
    "    r\"\"\"\n",
    "    Applies the heat PDE to input fn at specified argnum\n",
    "    \"\"\"\n",
    "\n",
    "    # the Jacobian and Hessian functions    \n",
    "    Jfn, Hfn = jac_hess(fn, argnum)\n",
    "\n",
    "    def PDE(params: dict, loc1: Array, *loc2: Array):\n",
    "        ## Note: we assume spatial value comes before temporal value in loc1 and loc2\n",
    "        \n",
    "        theta = THETA_TRANSFORM(params['theta'])[0] if RUN_INVERSE else THETA_TRUE[0]\n",
    "\n",
    "        # time derivative is the second element of the Jacobian vector\n",
    "        _, ut_val = Jfn(params, loc1, *loc2)\n",
    "\n",
    "        # second spatial derivative is upper left element of the Hessian matrix\n",
    "        uxx_val = Hfn(params, loc1, *loc2)[0,0]\n",
    "        \n",
    "        return ut_val - theta*uxx_val\n",
    "        \n",
    "    return PDE \n",
    "\n",
    "# the first operator corresponds to the observations yu, the second\n",
    "# to pde observations yf, and the final to boundary observations of u\n",
    "linear_operators = [apply_Identity, apply_PDE, apply_Identity]"
   ]
  },
  {
   "cell_type": "markdown",
   "id": "70bad85d-51b3-40aa-ad3f-041969d698f1",
   "metadata": {},
   "source": [
    "### Store settings"
   ]
  },
  {
   "cell_type": "markdown",
   "id": "1e4614dc-d08d-407d-8309-94576dccb4b7",
   "metadata": {},
   "source": [
    "Store optimisation options in a dictionary"
   ]
  },
  {
   "cell_type": "code",
   "execution_count": 7,
   "id": "356ffd4d-affd-408e-8131-240e8a42a763",
   "metadata": {
    "execution": {
     "iopub.execute_input": "2024-10-15T13:33:49.596141Z",
     "iopub.status.busy": "2024-10-15T13:33:49.595977Z",
     "iopub.status.idle": "2024-10-15T13:33:49.602433Z",
     "shell.execute_reply": "2024-10-15T13:33:49.601904Z",
     "shell.execute_reply.started": "2024-10-15T13:33:49.596126Z"
    }
   },
   "outputs": [],
   "source": [
    "opt_options = {}\n",
    "opt_options['n_steps']         = N_TRAIN_STEPS \n",
    "opt_options['n_restarts']      = N_RESTARTS\n",
    "opt_options['lr']              = LR_INIT\n",
    "opt_options['verbose']         = VERBOSE\n",
    "opt_options['theta_transform'] = THETA_TRANSFORM\n",
    "opt_options['noise_transform'] = NOISE_TRANSFORM"
   ]
  },
  {
   "cell_type": "markdown",
   "id": "347b1185-785b-421d-9e4e-8aa204c28f3b",
   "metadata": {},
   "source": [
    "Specify parameter initialisation function"
   ]
  },
  {
   "cell_type": "code",
   "execution_count": 8,
   "id": "a6792fab-a445-4a57-b180-5d373c2150b4",
   "metadata": {
    "execution": {
     "iopub.execute_input": "2024-10-15T13:33:49.603224Z",
     "iopub.status.busy": "2024-10-15T13:33:49.603027Z",
     "iopub.status.idle": "2024-10-15T13:33:49.610090Z",
     "shell.execute_reply": "2024-10-15T13:33:49.609546Z",
     "shell.execute_reply.started": "2024-10-15T13:33:49.603205Z"
    }
   },
   "outputs": [],
   "source": [
    "param_gen_options['input_dim']       = [INPUT_DIM]\n",
    "param_gen_options['noise_std_init']  = NOISE_INIT\n",
    "param_gen_options['noise_transform'] = NOISE_TRANSFORM\n",
    "param_gen_options['theta_bounds']    = THETA_BOUNDS\n",
    "param_gen_options['theta_transform'] = THETA_TRANSFORM\n",
    "\n",
    "# randomly samples kernel parameter values given an input seed\n",
    "generate_params_fn = lambda seed: generate_params(seed, param_gen_options)"
   ]
  },
  {
   "cell_type": "markdown",
   "id": "b5982ed3-45eb-4093-aea6-6ea162441915",
   "metadata": {},
   "source": [
    "Create a directory to save the results "
   ]
  },
  {
   "cell_type": "code",
   "execution_count": 9,
   "id": "8303c4b3-378a-4c49-87b8-89ff547d2c9a",
   "metadata": {
    "execution": {
     "iopub.execute_input": "2024-10-15T13:33:49.610899Z",
     "iopub.status.busy": "2024-10-15T13:33:49.610703Z",
     "iopub.status.idle": "2024-10-15T13:33:49.617609Z",
     "shell.execute_reply": "2024-10-15T13:33:49.617054Z",
     "shell.execute_reply.started": "2024-10-15T13:33:49.610880Z"
    }
   },
   "outputs": [],
   "source": [
    "results_save_dir = os.path.join('results', data_save_dir, f'{GP_TYPE}_Nu_{Nu}_Nf_{Nf}_Nb_{Nb}')\n",
    "if not os.path.isdir(results_save_dir): os.makedirs(results_save_dir)"
   ]
  },
  {
   "cell_type": "markdown",
   "id": "9b71e326-858b-4f8c-bc7e-bc77fbb04fff",
   "metadata": {},
   "source": [
    "## Data and model initialisation"
   ]
  },
  {
   "cell_type": "markdown",
   "id": "6d381c43-b7a7-4eee-b22d-6dcaddd09e04",
   "metadata": {},
   "source": [
    "### Load train and test data"
   ]
  },
  {
   "cell_type": "code",
   "execution_count": 10,
   "id": "001f0e4b-7ccd-499d-8ec7-5d785dffa027",
   "metadata": {
    "execution": {
     "iopub.execute_input": "2024-10-15T13:33:49.618237Z",
     "iopub.status.busy": "2024-10-15T13:33:49.618110Z",
     "iopub.status.idle": "2024-10-15T13:33:49.910455Z",
     "shell.execute_reply": "2024-10-15T13:33:49.909521Z",
     "shell.execute_reply.started": "2024-10-15T13:33:49.618225Z"
    }
   },
   "outputs": [],
   "source": [
    "train_data, test_data = load_data(data_save_dir_full, Nu, Nf, Nb)"
   ]
  },
  {
   "cell_type": "markdown",
   "id": "a4a48e84-7cca-4b64-a46d-a6244fcbbf16",
   "metadata": {},
   "source": [
    "Check shapes of train and test data"
   ]
  },
  {
   "cell_type": "code",
   "execution_count": 11,
   "id": "af173916-ea9e-45f5-9112-b1683c08b2b6",
   "metadata": {
    "execution": {
     "iopub.execute_input": "2024-10-15T13:33:49.912673Z",
     "iopub.status.busy": "2024-10-15T13:33:49.911997Z",
     "iopub.status.idle": "2024-10-15T13:33:49.918270Z",
     "shell.execute_reply": "2024-10-15T13:33:49.917676Z",
     "shell.execute_reply.started": "2024-10-15T13:33:49.912619Z"
    }
   },
   "outputs": [
    {
     "data": {
      "text/plain": [
       "((50, 1), (14400, 1), [(25, 2), (25, 2), (0, 2)])"
      ]
     },
     "execution_count": 11,
     "metadata": {},
     "output_type": "execute_result"
    }
   ],
   "source": [
    "train_data.ytrain.shape, test_data.us.shape, [X.shape for X in train_data.Xtrain]"
   ]
  },
  {
   "cell_type": "markdown",
   "id": "d0ae6c47-c30a-4f5d-9b77-c2e525216e13",
   "metadata": {},
   "source": [
    "### Initialise PIGP model"
   ]
  },
  {
   "cell_type": "code",
   "execution_count": 12,
   "id": "6506737d-3eec-4592-acf5-9e5485da9c94",
   "metadata": {
    "execution": {
     "iopub.execute_input": "2024-10-15T13:33:49.919135Z",
     "iopub.status.busy": "2024-10-15T13:33:49.918927Z",
     "iopub.status.idle": "2024-10-15T13:33:49.926172Z",
     "shell.execute_reply": "2024-10-15T13:33:49.925667Z",
     "shell.execute_reply.started": "2024-10-15T13:33:49.919114Z"
    }
   },
   "outputs": [],
   "source": [
    "heat_kernel_fns = jax_pigp.interdomain_moments.InterdomainKernelFns(kernel_fn, linear_operators)\n",
    "heat_mean_fns   = jax_pigp.interdomain_moments.InterdomainMeanFns(mean_fn,     linear_operators)\n",
    "\n",
    "gp_model = jax_pigp.models.GPR(heat_kernel_fns, heat_mean_fns)"
   ]
  },
  {
   "cell_type": "markdown",
   "id": "d2d89230-1c23-4827-8d9b-093bdfa57715",
   "metadata": {},
   "source": [
    "### Initialise learner for model training"
   ]
  },
  {
   "cell_type": "code",
   "execution_count": 13,
   "id": "76bf0448-abbe-44f4-b77b-c1cc7505ae92",
   "metadata": {
    "execution": {
     "iopub.execute_input": "2024-10-15T13:33:49.928181Z",
     "iopub.status.busy": "2024-10-15T13:33:49.928028Z",
     "iopub.status.idle": "2024-10-15T13:33:51.060191Z",
     "shell.execute_reply": "2024-10-15T13:33:51.058899Z",
     "shell.execute_reply.started": "2024-10-15T13:33:49.928168Z"
    }
   },
   "outputs": [],
   "source": [
    "obj_fn_train = lambda params: -gp_model.log_marginal_likelihood(params, train_data)    \n",
    "\n",
    "gp_learner = jax_pigp.optimisers.AdamLearner(obj_fn_train, opt_options, generate_params_fn, random.PRNGKey(BASE_SEED_VAL))"
   ]
  },
  {
   "cell_type": "markdown",
   "id": "911dfdc1-192e-416e-83c0-41c363eaf40e",
   "metadata": {},
   "source": [
    "Initial parameter values  "
   ]
  },
  {
   "cell_type": "code",
   "execution_count": 14,
   "id": "fdfa69d9-ca03-4ac7-ba4d-dedfe2d13ab0",
   "metadata": {
    "execution": {
     "iopub.execute_input": "2024-10-15T13:33:51.061431Z",
     "iopub.status.busy": "2024-10-15T13:33:51.061274Z",
     "iopub.status.idle": "2024-10-15T13:33:51.231798Z",
     "shell.execute_reply": "2024-10-15T13:33:51.230569Z",
     "shell.execute_reply.started": "2024-10-15T13:33:51.061417Z"
    }
   },
   "outputs": [
    {
     "name": "stdout",
     "output_type": "stream",
     "text": [
      "kernel_params_1\n",
      "amp: [16.09345497]\n",
      "ls: [3.46766105 1.08252109]\n",
      "alpha: [18.48419482]\n",
      "\n",
      "noise_std: [0.1 0.1 0.1]\n",
      "theta: [7.55514163]\n"
     ]
    }
   ],
   "source": [
    "print_param_values(gp_learner.params, opt_options)"
   ]
  },
  {
   "cell_type": "markdown",
   "id": "afd94393-fbe4-4875-9684-2052d0a8db52",
   "metadata": {},
   "source": [
    "Objective function value for initial parameters"
   ]
  },
  {
   "cell_type": "code",
   "execution_count": 15,
   "id": "e6d2c7ce-19b8-401b-b8ac-fc4a9ada7805",
   "metadata": {
    "execution": {
     "iopub.execute_input": "2024-10-15T13:33:51.232560Z",
     "iopub.status.busy": "2024-10-15T13:33:51.232367Z",
     "iopub.status.idle": "2024-10-15T13:34:08.234011Z",
     "shell.execute_reply": "2024-10-15T13:34:08.232395Z",
     "shell.execute_reply.started": "2024-10-15T13:33:51.232545Z"
    }
   },
   "outputs": [
    {
     "data": {
      "text/plain": [
       "Array(-230.24003155, dtype=float64)"
      ]
     },
     "execution_count": 15,
     "metadata": {},
     "output_type": "execute_result"
    }
   ],
   "source": [
    "gp_model.log_marginal_likelihood(gp_learner.params, train_data)"
   ]
  },
  {
   "cell_type": "markdown",
   "id": "b5783ebc-9d80-4b78-86ec-2a3281057cac",
   "metadata": {},
   "source": [
    "Gradient of the objective function with respect to the initial parameters"
   ]
  },
  {
   "cell_type": "code",
   "execution_count": 16,
   "id": "fa0404f8-c22e-4bdf-b552-74adafb415ee",
   "metadata": {
    "execution": {
     "iopub.execute_input": "2024-10-15T13:34:08.235193Z",
     "iopub.status.busy": "2024-10-15T13:34:08.235029Z",
     "iopub.status.idle": "2024-10-15T13:34:30.078683Z",
     "shell.execute_reply": "2024-10-15T13:34:30.077414Z",
     "shell.execute_reply.started": "2024-10-15T13:34:08.235179Z"
    }
   },
   "outputs": [
    {
     "data": {
      "text/plain": [
       "(Array(230.24003155, dtype=float64),\n",
       " {'kernel_params_1': {'alpha': Array([0.], dtype=float64),\n",
       "   'amp': Array([-6.75074157], dtype=float64),\n",
       "   'ls': Array([111.23567508, 252.36478168], dtype=float64)},\n",
       "  'noise_std': Array([   4.32170891, -207.93885808,    0.        ], dtype=float64),\n",
       "  'theta': Array([46.80893111], dtype=float64)})"
      ]
     },
     "execution_count": 16,
     "metadata": {},
     "output_type": "execute_result"
    }
   ],
   "source": [
    "gp_learner.grad_obj_fn(gp_learner.params)"
   ]
  },
  {
   "cell_type": "markdown",
   "id": "fe399d56-db76-4bba-b4a6-099a0250e24a",
   "metadata": {},
   "source": [
    "## Training "
   ]
  },
  {
   "cell_type": "markdown",
   "id": "07298bb6-719d-4a51-ab0c-8572ffeb806f",
   "metadata": {},
   "source": [
    "[JIT compile](https://jax.readthedocs.io/en/latest/jit-compilation.html) the ``update_one_step`` method by evaluating it once, then train model for specified number of steps/restarts."
   ]
  },
  {
   "cell_type": "code",
   "execution_count": 17,
   "id": "e315cc57-e85b-45ed-8d1d-cfe9b6c20390",
   "metadata": {
    "execution": {
     "iopub.execute_input": "2024-10-15T13:34:30.079591Z",
     "iopub.status.busy": "2024-10-15T13:34:30.079424Z",
     "iopub.status.idle": "2024-10-15T13:34:30.212590Z",
     "shell.execute_reply": "2024-10-15T13:34:30.211343Z",
     "shell.execute_reply.started": "2024-10-15T13:34:30.079576Z"
    }
   },
   "outputs": [
    {
     "data": {
      "text/plain": [
       "(Array(0.025, dtype=float64, weak_type=True), 0.006570483042414603, 0.04)"
      ]
     },
     "execution_count": 17,
     "metadata": {},
     "output_type": "execute_result"
    }
   ],
   "source": [
    "gp_learner.lr_schedule(3499), 0.99**500, 1./25."
   ]
  },
  {
   "cell_type": "code",
   "execution_count": 18,
   "id": "84d24991-4922-47de-8616-0d823ed16a5d",
   "metadata": {
    "execution": {
     "iopub.execute_input": "2024-10-15T13:34:30.213644Z",
     "iopub.status.busy": "2024-10-15T13:34:30.213488Z",
     "iopub.status.idle": "2024-10-15T13:34:39.552276Z",
     "shell.execute_reply": "2024-10-15T13:34:39.551497Z",
     "shell.execute_reply.started": "2024-10-15T13:34:30.213630Z"
    }
   },
   "outputs": [],
   "source": [
    "_ = gp_learner.update_one_step(gp_learner.params, gp_learner.opt_state)"
   ]
  },
  {
   "cell_type": "code",
   "execution_count": 19,
   "id": "f91eb401-e484-4d50-9f6e-3c0d3fb2172b",
   "metadata": {
    "execution": {
     "iopub.execute_input": "2024-10-15T13:34:39.553142Z",
     "iopub.status.busy": "2024-10-15T13:34:39.553018Z",
     "iopub.status.idle": "2024-10-15T13:35:10.518505Z",
     "shell.execute_reply": "2024-10-15T13:35:10.516772Z",
     "shell.execute_reply.started": "2024-10-15T13:34:39.553131Z"
    }
   },
   "outputs": [
    {
     "name": "stdout",
     "output_type": "stream",
     "text": [
      "gp_type=bcgp, Nu/Nf/Nb=25/25/0, n_steps=5000, n_restarts=3\n",
      "\n",
      "Restart 0: beginning training for 5000 steps\n",
      "Final training results: \n",
      "(4999): -173.3025, noise_std_vals = [1.01e-02,4.62e-04,1.00e-01], theta = [1.00012437]\n",
      "\n",
      "\n",
      "Restart 1: beginning training for 5000 steps\n",
      "Final training results: \n",
      "(4999): -177.0503, noise_std_vals = [1.01e-02,1.76e-04,1.00e-01], theta = [0.999002]\n",
      "\n",
      "\n",
      "Restart 2: beginning training for 5000 steps\n",
      "Final training results: \n",
      "(4999): -177.0228, noise_std_vals = [1.01e-02,1.92e-04,1.00e-01], theta = [0.99900068]\n",
      "\n",
      "\n"
     ]
    }
   ],
   "source": [
    "print(f'gp_type={GP_TYPE}, Nu/Nf/Nb={Nu}/{Nf}/{Nb}, n_steps={opt_options['n_steps']}, n_restarts={opt_options['n_restarts']}\\n')\n",
    "gp_learner.train_with_restarts(opt_options['n_steps'], \n",
    "                               opt_options['n_restarts'], \n",
    "                               print_progress = opt_options['verbose'])"
   ]
  },
  {
   "cell_type": "markdown",
   "id": "7aaff166-f025-447a-8167-523c5075dcee",
   "metadata": {},
   "source": [
    "Uncomment below to continue training from existing parameter values:"
   ]
  },
  {
   "cell_type": "code",
   "execution_count": 20,
   "id": "f06a5bec-e7a3-4b7f-a85d-f84b02cad0c0",
   "metadata": {
    "execution": {
     "iopub.execute_input": "2024-10-15T13:35:10.519507Z",
     "iopub.status.busy": "2024-10-15T13:35:10.519344Z",
     "iopub.status.idle": "2024-10-15T13:35:10.523862Z",
     "shell.execute_reply": "2024-10-15T13:35:10.522993Z",
     "shell.execute_reply.started": "2024-10-15T13:35:10.519494Z"
    }
   },
   "outputs": [],
   "source": [
    "# gp_learner.train(opt_options[\"n_steps\"])\n",
    "# gp_learner.params_best = gp_learner.params.copy()"
   ]
  },
  {
   "cell_type": "markdown",
   "id": "b1f16ab0-0d14-4fe3-91fc-d1e7fc81b050",
   "metadata": {},
   "source": [
    "### Plot training results"
   ]
  },
  {
   "cell_type": "code",
   "execution_count": 21,
   "id": "061db8ab-98a1-4ad9-b5a6-a4215affbcc9",
   "metadata": {
    "execution": {
     "iopub.execute_input": "2024-10-15T13:35:10.524497Z",
     "iopub.status.busy": "2024-10-15T13:35:10.524378Z",
     "iopub.status.idle": "2024-10-15T13:35:11.423409Z",
     "shell.execute_reply": "2024-10-15T13:35:11.422220Z",
     "shell.execute_reply.started": "2024-10-15T13:35:10.524486Z"
    }
   },
   "outputs": [
    {
     "data": {
      "image/png": "[encoded data removed]",
      "text/plain": [
       "<Figure size 700x300 with 2 Axes>"
      ]
     },
     "metadata": {},
     "output_type": "display_data"
    }
   ],
   "source": [
    "theta_arr = jnp.array(gp_learner.theta_list)\n",
    "\n",
    "fig, axes = plt.subplots(nrows=1, ncols=2, figsize=TWO_COLUMN_FIGSIZE)\n",
    "\n",
    "begin_at = int(len(gp_learner.obj_list)*0.05)\n",
    "\n",
    "plot_lc(axes[0], gp_learner.obj_list[begin_at:], 'Objective Function')\n",
    "plot_lc(axes[1], theta_arr[begin_at:,0], 'theta')\n",
    "\n",
    "fig.tight_layout()\n",
    "\n",
    "plt.savefig(os.path.join(results_save_dir, 'learningCurves.pdf'))"
   ]
  },
  {
   "cell_type": "markdown",
   "id": "e1c726ce-f6da-4571-8166-4f100ab16b60",
   "metadata": {},
   "source": [
    "### Final trained parameter values"
   ]
  },
  {
   "cell_type": "code",
   "execution_count": 22,
   "id": "7d7749e8-0789-4dd2-b088-96a713ea8db0",
   "metadata": {
    "execution": {
     "iopub.execute_input": "2024-10-15T13:35:11.424782Z",
     "iopub.status.busy": "2024-10-15T13:35:11.424650Z",
     "iopub.status.idle": "2024-10-15T13:35:11.439160Z",
     "shell.execute_reply": "2024-10-15T13:35:11.437866Z",
     "shell.execute_reply.started": "2024-10-15T13:35:11.424769Z"
    }
   },
   "outputs": [
    {
     "name": "stdout",
     "output_type": "stream",
     "text": [
      "kernel_params_1\n",
      "alpha: [5.93779773]\n",
      "amp: [0.01221803]\n",
      "ls: [3.51383298 1.92574775]\n",
      "\n",
      "noise_std: [0.0101449  0.00017626 0.1       ]\n",
      "theta: [0.999002]\n"
     ]
    }
   ],
   "source": [
    "# extract final trained parameter values\n",
    "trained_params = gp_learner.params_best.copy()\n",
    "\n",
    "# print the values of the trained parameters\n",
    "print_param_values(trained_params, opt_options)\n",
    "\n",
    "# save trained parameters\n",
    "with open(os.path.join(results_save_dir, 'trained_params.pkl'), 'wb') as fp:\n",
    "    pickle.dump(trained_params, fp)"
   ]
  },
  {
   "cell_type": "markdown",
   "id": "fcb49cb0-c77f-4221-8acb-a4c522490f93",
   "metadata": {},
   "source": [
    "Can load pre-trained parameters by uncommenting the below"
   ]
  },
  {
   "cell_type": "code",
   "execution_count": 23,
   "id": "044e6b92-c41f-46f7-9fa6-c99bb2fdf9f7",
   "metadata": {
    "execution": {
     "iopub.execute_input": "2024-10-15T13:35:11.440635Z",
     "iopub.status.busy": "2024-10-15T13:35:11.440397Z",
     "iopub.status.idle": "2024-10-15T13:35:11.446317Z",
     "shell.execute_reply": "2024-10-15T13:35:11.445271Z",
     "shell.execute_reply.started": "2024-10-15T13:35:11.440612Z"
    }
   },
   "outputs": [],
   "source": [
    "# with open(os.path.join(results_save_dir, 'trained_params.pkl'), 'rb') as f:\n",
    "    # trained_params = pickle.load(f)"
   ]
  },
  {
   "cell_type": "markdown",
   "id": "e33bc444-5fff-4f0b-8507-4985eea193e0",
   "metadata": {},
   "source": [
    "## Test set results\n",
    "\n",
    "Evaluate posterior distribution at test points, using hyper-parameter values ``trained_params`` obtained during training phase."
   ]
  },
  {
   "cell_type": "code",
   "execution_count": 24,
   "id": "f874b8dc-a850-4644-b1a7-bbc7da8e7dda",
   "metadata": {
    "execution": {
     "iopub.execute_input": "2024-10-15T13:35:11.447359Z",
     "iopub.status.busy": "2024-10-15T13:35:11.447101Z",
     "iopub.status.idle": "2024-10-15T13:35:16.750184Z",
     "shell.execute_reply": "2024-10-15T13:35:16.748356Z",
     "shell.execute_reply.started": "2024-10-15T13:35:11.447335Z"
    }
   },
   "outputs": [
    {
     "name": "stdout",
     "output_type": "stream",
     "text": [
      "Posterior results for bcgp, Nu/Nf/Nb=25/25/0, Ns=14400\n",
      "mean/max loss: 6.260923e-04/1.732e-03\n",
      "theta_true : [1.]\n",
      "theta_pred : [0.999002]\n",
      "theta_loss : 9.980e-04\n"
     ]
    }
   ],
   "source": [
    "# posterior mean and covariance over test points\n",
    "print(f'Posterior results for {GP_TYPE}, Nu/Nf/Nb={Nu}/{Nf}/{Nb}, Ns={test_data.Xs.shape[0]}')\n",
    "mu, Sigma = gp_model.posterior_predict(trained_params, train_data, test_data.Xs)\n",
    "s = jnp.diag(Sigma)**.5\n",
    "\n",
    "# save predictions\n",
    "if SAVE_ALL_PREDICTIONS:\n",
    "    jnp.save(os.path.join(results_save_dir, 'u_pred.npy'), mu)\n",
    "    jnp.save(os.path.join(results_save_dir, 's_pred.npy'), s)\n",
    "\n",
    "# test set prediction error\n",
    "abs_losses = jnp.abs(mu - test_data.us)\n",
    "print(f'mean/max loss: {abs_losses.mean():3e}/{abs_losses.max():.3e}')\n",
    "savetxt(os.path.join(results_save_dir, 'mean_loss.txt'), abs_losses.mean().reshape(-1,1))\n",
    "\n",
    "if RUN_INVERSE:\n",
    "    theta_pred = opt_options['theta_transform'](trained_params['theta'])\n",
    "    theta_loss = jnp.linalg.norm(theta_pred - THETA_TRUE)\n",
    "    print(f'theta_true : {THETA_TRUE}')\n",
    "    print(f'theta_pred : {theta_pred}')\n",
    "    print(f'theta_loss : {theta_loss:.3e}')\n",
    "    savetxt(os.path.join(results_save_dir, 'theta_loss.txt'), jnp.array([theta_loss]))"
   ]
  },
  {
   "cell_type": "markdown",
   "id": "a6f288da-d6ea-4be6-9801-eef294e42009",
   "metadata": {},
   "source": [
    "### Plots of posterior prediction"
   ]
  },
  {
   "cell_type": "code",
   "execution_count": 25,
   "id": "300170da-c0f6-4f85-bb9c-d1b884a4d0bf",
   "metadata": {
    "execution": {
     "iopub.execute_input": "2024-10-15T13:35:16.751996Z",
     "iopub.status.busy": "2024-10-15T13:35:16.751627Z",
     "iopub.status.idle": "2024-10-15T13:35:19.117444Z",
     "shell.execute_reply": "2024-10-15T13:35:19.115549Z",
     "shell.execute_reply.started": "2024-10-15T13:35:16.751947Z"
    }
   },
   "outputs": [
    {
     "data": {
      "image/png": "[encoded data removed]",
      "text/plain": [
       "<Figure size 1000x600 with 8 Axes>"
      ]
     },
     "metadata": {},
     "output_type": "display_data"
    }
   ],
   "source": [
    "fig, axes = plt.subplots(nrows=2, ncols=2, figsize=TWO_BY_TWO_FIGSIZE)\n",
    "\n",
    "Nx = len(jnp.unique(test_data.Xs[:,0]))\n",
    "Nt = len(jnp.unique(test_data.Xs[:,1]))\n",
    "\n",
    "Xu, Xf, _ = train_data.Xtrain\n",
    "\n",
    "make_heatmap_heat = lambda ax, output, title=None: make_heatmap(fig, ax, output.reshape(Nt,Nx).T, test_data, Xu, Xf, title)\n",
    "\n",
    "make_heatmap_heat(axes[0,0], test_data.us, title='u_true')\n",
    "make_heatmap_heat(axes[0,1], mu, title=f'u_pred, {GP_TYPE}')\n",
    "make_heatmap_heat(axes[1,0], abs_losses, title=f'err_u (mean = {abs_losses.mean():.3e})')\n",
    "make_heatmap_heat(axes[1,1], s, title=f'u_pred std')\n",
    "\n",
    "fig.tight_layout()\n",
    "\n",
    "plt.savefig(os.path.join(results_save_dir, 'posteriorPrediction.pdf'))"
   ]
  }
 ],
 "metadata": {
  "kernelspec": {
   "display_name": "Python 3 (ipykernel)",
   "language": "python",
   "name": "python3"
  },
  "language_info": {
   "codemirror_mode": {
    "name": "ipython",
    "version": 3
   },
   "file_extension": ".py",
   "mimetype": "text/x-python",
   "name": "python",
   "nbconvert_exporter": "python",
   "pygments_lexer": "ipython3",
   "version": "3.12.4"
  }
 },
 "nbformat": 4,
 "nbformat_minor": 5
}
