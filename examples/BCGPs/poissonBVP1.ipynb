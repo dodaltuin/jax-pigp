{
 "cells": [
  {
   "cell_type": "markdown",
   "id": "354a2522-d4de-469a-b9ee-0779b7d464ec",
   "metadata": {},
   "source": [
    "# Poisson-BVP-1\n",
    "\n",
    "This notebook implements the BCGP experiments for Poisson-BVP-1 from Section 5.2.1 of the manuscript"
   ]
  },
  {
   "cell_type": "markdown",
   "id": "029e3fae-6e54-4151-ac93-a06f0af3edc7",
   "metadata": {},
   "source": [
    "## Preliminaries "
   ]
  },
  {
   "cell_type": "markdown",
   "id": "d3fb2ee6-155a-42a5-94d4-5a25c8a6f825",
   "metadata": {},
   "source": [
    "Whether to run computations on GPU or CPU"
   ]
  },
  {
   "cell_type": "code",
   "execution_count": 1,
   "id": "fc022abd-2bd7-4ac1-9429-9ce0ddcfce47",
   "metadata": {
    "execution": {
     "iopub.execute_input": "2024-10-15T12:58:30.611397Z",
     "iopub.status.busy": "2024-10-15T12:58:30.610935Z",
     "iopub.status.idle": "2024-10-15T12:58:30.618320Z",
     "shell.execute_reply": "2024-10-15T12:58:30.617176Z",
     "shell.execute_reply.started": "2024-10-15T12:58:30.611345Z"
    }
   },
   "outputs": [],
   "source": [
    "import os\n",
    "\n",
    "USE_GPU: bool = True\n",
    "\n",
    "if not USE_GPU:\n",
    "    os.environ['JAX_PLATFORM_NAME'] = 'cpu'\n",
    "else:\n",
    "    os.environ[\"CUDA_VISIBLE_DEVICES\"] = str(0)"
   ]
  },
  {
   "cell_type": "markdown",
   "id": "57ebbd34-791d-431d-91e7-a4884a7e8c01",
   "metadata": {},
   "source": [
    "Package imports"
   ]
  },
  {
   "cell_type": "code",
   "execution_count": 2,
   "id": "f5dd8eeb-7d4c-452e-8659-f499484a10ee",
   "metadata": {
    "execution": {
     "iopub.execute_input": "2024-10-15T12:58:30.620628Z",
     "iopub.status.busy": "2024-10-15T12:58:30.620334Z",
     "iopub.status.idle": "2024-10-15T12:58:36.305500Z",
     "shell.execute_reply": "2024-10-15T12:58:36.304254Z",
     "shell.execute_reply.started": "2024-10-15T12:58:30.620596Z"
    }
   },
   "outputs": [],
   "source": [
    "import jax.numpy as jnp\n",
    "from jax import config, random, devices\n",
    "\n",
    "import os\n",
    "import pickle\n",
    "from numpy import savetxt\n",
    "\n",
    "# ensure that we can access jax_pigp\n",
    "import sys\n",
    "sys.path.append('../../')\n",
    "\n",
    "import jax_pigp\n",
    "from jax_pigp.utility_fns import softplus, generate_params\n",
    "from jax_pigp.base import Callable, Array\n",
    "\n",
    "from utility_fns import *\n",
    "from utility_fns import PARAM_OPTIONS_DICT as param_gen_options\n",
    "\n",
    "# double precision prevents nans\n",
    "config.update(\"jax_enable_x64\", True) \n",
    "# config.update(\"jax_debug_nans\", True) "
   ]
  },
  {
   "cell_type": "markdown",
   "id": "79321944-39c4-4270-81c7-02d07aba91ed",
   "metadata": {},
   "source": [
    "Check what devices are available"
   ]
  },
  {
   "cell_type": "code",
   "execution_count": 3,
   "id": "2925d3aa-54c1-403a-af64-d3d2a251a480",
   "metadata": {
    "execution": {
     "iopub.execute_input": "2024-10-15T12:58:36.306689Z",
     "iopub.status.busy": "2024-10-15T12:58:36.306493Z",
     "iopub.status.idle": "2024-10-15T12:58:36.313361Z",
     "shell.execute_reply": "2024-10-15T12:58:36.312370Z",
     "shell.execute_reply.started": "2024-10-15T12:58:36.306675Z"
    }
   },
   "outputs": [
    {
     "data": {
      "text/plain": [
       "[CudaDevice(id=0)]"
      ]
     },
     "execution_count": 3,
     "metadata": {},
     "output_type": "execute_result"
    }
   ],
   "source": [
    "devices()"
   ]
  },
  {
   "cell_type": "markdown",
   "id": "5acf1c36-9bf2-4681-9954-556b9b93b468",
   "metadata": {},
   "source": [
    "### Specify settings of the experiments"
   ]
  },
  {
   "cell_type": "code",
   "execution_count": 4,
   "id": "ccb7f3e9-6e7a-4b41-844a-d6645233e824",
   "metadata": {
    "execution": {
     "iopub.execute_input": "2024-10-15T12:58:36.314751Z",
     "iopub.status.busy": "2024-10-15T12:58:36.314616Z",
     "iopub.status.idle": "2024-10-15T12:58:36.343927Z",
     "shell.execute_reply": "2024-10-15T12:58:36.342774Z",
     "shell.execute_reply.started": "2024-10-15T12:58:36.314739Z"
    }
   },
   "outputs": [],
   "source": [
    "# set value of true function u and pde function f\n",
    "u: Callable = lambda x: x**2\n",
    "f: Callable = lambda x: 0.*x - 2.\n",
    "\n",
    "# set domain bounds\n",
    "LOWER_VAL: int = 0.\n",
    "UPPER_VAL: int = 2.\n",
    "\n",
    "# base random seed for parameter initialisation\n",
    "BASE_SEED_VAL: int = 117\n",
    "\n",
    "# only BCGP supported for this example\n",
    "GP_TYPE: str = 'bcgp'\n",
    "assert GP_TYPE in ['bcgp']\n",
    "\n",
    "# number of PDE (i.e. f-space) collocation points to use for inference\n",
    "Nf: int = 4\n",
    "\n",
    "# number of test points to consider\n",
    "Ns = 100\n",
    "\n",
    "# dimensionality of the spatial domain\n",
    "INPUT_DIM: int = 1\n",
    "\n",
    "# initial value for std of noise level in f-space\n",
    "NOISE_INIT = jnp.array([0.1])\n",
    "\n",
    "# softplus transformation ensures noise and theta values are positive\n",
    "NOISE_TRANSFORM: Callable = softplus\n",
    "\n",
    "# whether to save all test set prediction results or just summary statistics\n",
    "SAVE_ALL_PREDICTIONS: bool = True\n",
    "\n",
    "# options for model training\n",
    "N_TRAIN_STEPS: int = 30000\n",
    "N_RESTARTS: int    = 1\n",
    "LR_INIT: float     = 0.025\n",
    "VERBOSE: bool      = True"
   ]
  },
  {
   "cell_type": "markdown",
   "id": "ade4577b-8299-4c3e-be7f-b5e50cef8156",
   "metadata": {},
   "source": [
    "### Specify boundary-constrained mean and kernel functions\n",
    "\n",
    "The BCGP mean and kernel functions are presented in Appendix B.2.1 of the manuscript, and they are designed to ensure that the BCGP exactly satisfies the Dirichlet condition at $x=0$ and the Robin condition at $x=2$. \n",
    "\n",
    "The mean function is simply set to zero "
   ]
  },
  {
   "cell_type": "code",
   "execution_count": 5,
   "id": "b0200d9c-7d1d-4745-93fe-794c46830215",
   "metadata": {
    "execution": {
     "iopub.execute_input": "2024-10-15T12:58:36.344638Z",
     "iopub.status.busy": "2024-10-15T12:58:36.344492Z",
     "iopub.status.idle": "2024-10-15T12:58:36.350793Z",
     "shell.execute_reply": "2024-10-15T12:58:36.349986Z",
     "shell.execute_reply.started": "2024-10-15T12:58:36.344625Z"
    }
   },
   "outputs": [],
   "source": [
    "mean_fn = lambda p, x: x[0]*0."
   ]
  },
  {
   "cell_type": "markdown",
   "id": "507ad888-af2f-4295-9808-a54840eeea76",
   "metadata": {},
   "source": [
    "The kernel $\\tilde{k}(x, x')$ takes the form\n",
    "\n",
    "\\begin{equation*}\n",
    "\t\\tilde{k}(x,x') = \\mathcal{B}^{m_1}_{x} \\mathcal{B}^{m_1}_{x'} k_1(x,x') + \\mathcal{B}^{m_2}_{x} \\mathcal{B}^{m_2}_{x'} k_2(x,x') ,\n",
    "\\end{equation*}\n",
    "in which $k_1$ and $k_2$ are squared-exponential kernels:"
   ]
  },
  {
   "cell_type": "code",
   "execution_count": 6,
   "id": "48a8006d-d744-43e6-b35f-5ff53677af3a",
   "metadata": {
    "execution": {
     "iopub.execute_input": "2024-10-15T12:58:36.351909Z",
     "iopub.status.busy": "2024-10-15T12:58:36.351743Z",
     "iopub.status.idle": "2024-10-15T12:58:36.367172Z",
     "shell.execute_reply": "2024-10-15T12:58:36.365235Z",
     "shell.execute_reply.started": "2024-10-15T12:58:36.351894Z"
    }
   },
   "outputs": [],
   "source": [
    "BASE_KERNEL = jax_pigp.kernels.squared_exponential"
   ]
  },
  {
   "cell_type": "markdown",
   "id": "1e55f2f4-486b-4d52-96b2-3de0cb0043d7",
   "metadata": {},
   "source": [
    "$\\mathcal{B}^{m_1}_{x}$ and $\\mathcal{B}^{m_2}_{x}$ are given by\n",
    "\\begin{align*}  \n",
    "    \\mathcal{B}^{m_1}_{x}[\\cdot](x) &= \\left(\\phi_1(x) - \\phi(x) \\left[ \\phi_1(x) + \\nabla \\phi_2(x) \\cdot \\nabla \\phi_1(x) \\right] \\right)[\\cdot](x) \\notag \\\\\n",
    "& - \\phi(x) \\phi_1(x) \\nabla \\phi_2(x) \\cdot \\nabla [\\cdot](x), \\notag \\\\ %.\n",
    "    \\mathcal{B}^{m_2}_{x}[\\cdot](x) &= \\phi(x) \\phi_2(x) [\\cdot](x). \\notag\n",
    "\\end{align*}\n"
   ]
  },
  {
   "cell_type": "markdown",
   "id": "5c539acb-02b9-46d5-bdc2-65547946242d",
   "metadata": {},
   "source": [
    "The ADFs $\\phi_1$, $\\phi_2$, $\\phi$ and their gradients have the form"
   ]
  },
  {
   "cell_type": "code",
   "execution_count": 7,
   "id": "f75d0428-5265-4e1d-967e-7b891e3fcb0a",
   "metadata": {
    "execution": {
     "iopub.execute_input": "2024-10-15T12:58:36.369393Z",
     "iopub.status.busy": "2024-10-15T12:58:36.369047Z",
     "iopub.status.idle": "2024-10-15T12:58:36.385002Z",
     "shell.execute_reply": "2024-10-15T12:58:36.382968Z",
     "shell.execute_reply.started": "2024-10-15T12:58:36.369361Z"
    }
   },
   "outputs": [],
   "source": [
    "def phi1(loc: Array):\n",
    "    return loc[0]\n",
    "\n",
    "def grad_phi1(loc: Array):\n",
    "    return 1.\n",
    "\n",
    "def phi2(loc: Array):\n",
    "    return 2. - loc[0]\n",
    "\n",
    "def grad_phi2(loc: Array):\n",
    "    return -1.\n",
    "\n",
    "# this is the R-equivalance join from Eq.(25) of the manuscript, expressed in slightly different form\n",
    "def phi(loc: Array):\n",
    "    phi_vals = jnp.array([phi1(loc), phi2(loc)])\n",
    "    phi_sum = jnp.sum(phi_vals)\n",
    "    return jnp.prod(phi_vals) / phi_sum"
   ]
  },
  {
   "cell_type": "markdown",
   "id": "32982089-1833-4382-bacb-9c5b52d5b906",
   "metadata": {
    "execution": {
     "iopub.execute_input": "2024-09-20T09:42:28.317892Z",
     "iopub.status.busy": "2024-09-20T09:42:28.317213Z",
     "iopub.status.idle": "2024-09-20T09:42:28.323188Z",
     "shell.execute_reply": "2024-09-20T09:42:28.322462Z",
     "shell.execute_reply.started": "2024-09-20T09:42:28.317863Z"
    }
   },
   "source": [
    "$\\mathcal{B}^{m_1}_{x}$ and $\\mathcal{B}^{m_2}_{x}$ can then be implemented as follows:"
   ]
  },
  {
   "cell_type": "code",
   "execution_count": 8,
   "id": "3133c5ce-0511-4718-9d6d-f27851bbfdf6",
   "metadata": {
    "execution": {
     "iopub.execute_input": "2024-10-15T12:58:36.387234Z",
     "iopub.status.busy": "2024-10-15T12:58:36.386833Z",
     "iopub.status.idle": "2024-10-15T12:58:36.403149Z",
     "shell.execute_reply": "2024-10-15T12:58:36.401214Z",
     "shell.execute_reply.started": "2024-10-15T12:58:36.387196Z"
    }
   },
   "outputs": [],
   "source": [
    "def apply_B1(fn: Callable, argnum: int = 1):\n",
    "\n",
    "    # the Jacobian function\n",
    "    Jfn, _ = jac_hess(fn, argnum)\n",
    "\n",
    "    def B1(params: dict, loc1: Array, *loc2: Array):\n",
    "        \n",
    "        fn_val = fn(params, loc1, *loc2)\n",
    "        # in 1D case the Jacobian is simply the derivative\n",
    "        J_val = Jfn(params, loc1, *loc2)\n",
    "        \n",
    "        loc = loc1 if argnum == 1 else loc2[0]\n",
    "    \n",
    "        phi1_val = phi1(loc)\n",
    "        phi2_val = phi2(loc)\n",
    "        gradphi1_val = grad_phi1(loc)\n",
    "        gradphi2_val = grad_phi2(loc)\n",
    "    \n",
    "        phi_val = phi(loc)\n",
    "\n",
    "        # temporary values in line with the form of B1 given above\n",
    "        tmp1 = (1. - phi_val)*phi1_val*fn_val\n",
    "        tmp2 = (gradphi2_val*gradphi1_val)*fn_val\n",
    "        tmp3 = (gradphi2_val*J_val).sum()*phi1_val\n",
    "    \n",
    "        return (tmp1 - phi_val*(tmp2 + tmp3)).squeeze()\n",
    "        \n",
    "    return B1\n",
    "\n",
    "def B2(loc):\n",
    "    return phi(loc)*phi2(loc)"
   ]
  },
  {
   "cell_type": "markdown",
   "id": "ce7bad12-914f-4c50-b39e-de8837f5e9c7",
   "metadata": {},
   "source": [
    "And finally $\\tilde{k}$ can be defined"
   ]
  },
  {
   "cell_type": "code",
   "execution_count": 9,
   "id": "e77014a6-c331-4fb4-a766-d6d183f2ac1f",
   "metadata": {
    "execution": {
     "iopub.execute_input": "2024-10-15T12:58:36.406470Z",
     "iopub.status.busy": "2024-10-15T12:58:36.406169Z",
     "iopub.status.idle": "2024-10-15T12:58:36.418035Z",
     "shell.execute_reply": "2024-10-15T12:58:36.416290Z",
     "shell.execute_reply.started": "2024-10-15T12:58:36.406443Z"
    }
   },
   "outputs": [],
   "source": [
    "def get_kernel_fn(base_kernel):\n",
    "\n",
    "    Bm1_k1 = apply_B1(apply_B1(base_kernel, 1), 2) \n",
    "    k2 = base_kernel\n",
    "\n",
    "    def bcgp_kernel(params: dict, loc1: Array, loc2: Array):\n",
    "\n",
    "        k1_params = params['kernel_params_1']\n",
    "        k2_params = params['kernel_params_2']\n",
    "\n",
    "        Bm1_k1_val = Bm1_k1(k1_params, loc1, loc2)\n",
    "        Bm2_k2_val = B2(loc1)*B2(loc2)*k2(k2_params, loc1, loc2)\n",
    "        \n",
    "        return Bm1_k1_val + Bm2_k2_val\n",
    "\n",
    "    return bcgp_kernel\n",
    "\n",
    "kernel_fn = get_kernel_fn(BASE_KERNEL)"
   ]
  },
  {
   "cell_type": "markdown",
   "id": "b80966b9-4e25-481d-ba00-141f63666c4d",
   "metadata": {},
   "source": [
    "### Specify Poisson differential operator\n",
    "\n",
    "Recall that Poisson's equation over one spatial dimension takes the form\n",
    "\n",
    "$$\\mathcal{L}_{x}[u] =   -\\frac{\\partial^2 u}{\\partial x^2} = f = 2.$$\n",
    "\n",
    "##### Implementation: \n",
    "\n",
    "* $f$ is returned by calling the ``apply_PDE`` function defined below\n"
   ]
  },
  {
   "cell_type": "code",
   "execution_count": 10,
   "id": "c1a5845f-e787-4521-bfd1-8da78c8296b6",
   "metadata": {
    "execution": {
     "iopub.execute_input": "2024-10-15T12:58:36.419508Z",
     "iopub.status.busy": "2024-10-15T12:58:36.419238Z",
     "iopub.status.idle": "2024-10-15T12:58:36.438779Z",
     "shell.execute_reply": "2024-10-15T12:58:36.436604Z",
     "shell.execute_reply.started": "2024-10-15T12:58:36.419483Z"
    }
   },
   "outputs": [],
   "source": [
    "def apply_PDE(fn: Callable, argnum: int = 1):\n",
    "    r\"\"\"\n",
    "    Applies the Poisson PDE to given input\n",
    "    fn, evaluated at specified argnum\n",
    "    \"\"\"\n",
    "\n",
    "    # the Hessian function\n",
    "    _, Hfn = jac_hess(fn, argnum)\n",
    "\n",
    "    def PDE(params: dict, loc1: Array, *loc2: Array):\n",
    "\n",
    "        # in 1D case the Hessian matrix is the second spatial derivative\n",
    "        uxx_val = Hfn(params, loc1, *loc2)[0,0]\n",
    "        \n",
    "        return -uxx_val \n",
    "        \n",
    "    return PDE \n",
    "\n",
    "linear_operators = [apply_PDE]"
   ]
  },
  {
   "cell_type": "markdown",
   "id": "a348a28f-b63d-4b23-b2c7-eaf3bed88da1",
   "metadata": {},
   "source": [
    "### Store settings"
   ]
  },
  {
   "cell_type": "markdown",
   "id": "9d813143-a78e-45a2-8cd4-7fa9fe12ffbf",
   "metadata": {},
   "source": [
    "Store optimisation options in a dictionary"
   ]
  },
  {
   "cell_type": "code",
   "execution_count": 11,
   "id": "a6771a0f-35f9-4651-b1f0-0006c7e5f8a3",
   "metadata": {
    "execution": {
     "iopub.execute_input": "2024-10-15T12:58:36.440879Z",
     "iopub.status.busy": "2024-10-15T12:58:36.440514Z",
     "iopub.status.idle": "2024-10-15T12:58:36.455075Z",
     "shell.execute_reply": "2024-10-15T12:58:36.453010Z",
     "shell.execute_reply.started": "2024-10-15T12:58:36.440843Z"
    }
   },
   "outputs": [],
   "source": [
    "opt_options = {}\n",
    "opt_options['n_steps']         = N_TRAIN_STEPS \n",
    "opt_options['n_restarts']      = N_RESTARTS\n",
    "opt_options['lr']              = LR_INIT\n",
    "opt_options['verbose']         = VERBOSE\n",
    "opt_options['noise_transform'] = NOISE_TRANSFORM"
   ]
  },
  {
   "cell_type": "markdown",
   "id": "f6aed010-889f-4c09-8d9a-01330c3573e3",
   "metadata": {},
   "source": [
    "Specify parameter initialisation function"
   ]
  },
  {
   "cell_type": "code",
   "execution_count": 12,
   "id": "392f2167-db6e-4823-9e6a-2f4ac7a9e5f6",
   "metadata": {
    "execution": {
     "iopub.execute_input": "2024-10-15T12:58:36.457314Z",
     "iopub.status.busy": "2024-10-15T12:58:36.456892Z",
     "iopub.status.idle": "2024-10-15T12:58:36.473124Z",
     "shell.execute_reply": "2024-10-15T12:58:36.471046Z",
     "shell.execute_reply.started": "2024-10-15T12:58:36.457274Z"
    }
   },
   "outputs": [],
   "source": [
    "param_gen_options['n_sub_kernels']   = 2\n",
    "param_gen_options['input_dim']       = [INPUT_DIM]*param_gen_options['n_sub_kernels']   \n",
    "param_gen_options['noise_std_init']  = NOISE_INIT\n",
    "param_gen_options['noise_transform'] = NOISE_TRANSFORM\n",
    "\n",
    "# randomly samples kernel parameter values given an input seed\n",
    "generate_params_fn = lambda seed: generate_params(seed, param_gen_options)"
   ]
  },
  {
   "cell_type": "markdown",
   "id": "5da09612-d760-477d-aa04-e1b23977eddd",
   "metadata": {},
   "source": [
    "Create a directory to save the results "
   ]
  },
  {
   "cell_type": "code",
   "execution_count": 13,
   "id": "b93cc163-8ab5-4133-a986-20e730be2986",
   "metadata": {
    "execution": {
     "iopub.execute_input": "2024-10-15T12:58:36.475270Z",
     "iopub.status.busy": "2024-10-15T12:58:36.474875Z",
     "iopub.status.idle": "2024-10-15T12:58:36.489182Z",
     "shell.execute_reply": "2024-10-15T12:58:36.487485Z",
     "shell.execute_reply.started": "2024-10-15T12:58:36.475231Z"
    }
   },
   "outputs": [],
   "source": [
    "results_save_dir = f'results/poissonBVP1/{GP_TYPE}_Nf_{Nf}'\n",
    "if not os.path.isdir(results_save_dir): \n",
    "    os.makedirs(results_save_dir)"
   ]
  },
  {
   "cell_type": "markdown",
   "id": "9b71e326-858b-4f8c-bc7e-bc77fbb04fff",
   "metadata": {},
   "source": [
    "## Data and model initialisation"
   ]
  },
  {
   "cell_type": "markdown",
   "id": "6d381c43-b7a7-4eee-b22d-6dcaddd09e04",
   "metadata": {},
   "source": [
    "#### Create train and test data"
   ]
  },
  {
   "cell_type": "code",
   "execution_count": 14,
   "id": "001f0e4b-7ccd-499d-8ec7-5d785dffa027",
   "metadata": {
    "execution": {
     "iopub.execute_input": "2024-10-15T12:54:24.934771Z",
     "iopub.status.busy": "2024-10-15T12:54:24.934381Z",
     "iopub.status.idle": "2024-10-15T12:54:25.317990Z",
     "shell.execute_reply": "2024-10-15T12:54:25.316196Z",
     "shell.execute_reply.started": "2024-10-15T12:54:24.934734Z"
    }
   },
   "outputs": [],
   "source": [
    "# create training data of PDE (i.e. f) collocation points\n",
    "Xf = (jnp.linspace(LOWER_VAL, UPPER_VAL, Nf+2)[1:-1]).reshape(-1,1)\n",
    "yf = f(Xf)\n",
    "train_data = jax_pigp.datasets.TrainDataLinearPDE([Xf], [yf])\n",
    "\n",
    "# create test data using true solution function (i.e. u)\n",
    "Xs = jnp.linspace(LOWER_VAL, UPPER_VAL, Ns).reshape(-1,1)\n",
    "us = u(Xs)\n",
    "test_data = jax_pigp.datasets.TestData(Xs, us)"
   ]
  },
  {
   "cell_type": "markdown",
   "id": "a4a48e84-7cca-4b64-a46d-a6244fcbbf16",
   "metadata": {},
   "source": [
    "Check shapes of train and test data"
   ]
  },
  {
   "cell_type": "code",
   "execution_count": 15,
   "id": "af173916-ea9e-45f5-9112-b1683c08b2b6",
   "metadata": {
    "execution": {
     "iopub.execute_input": "2024-10-15T12:54:25.319715Z",
     "iopub.status.busy": "2024-10-15T12:54:25.319460Z",
     "iopub.status.idle": "2024-10-15T12:54:25.326558Z",
     "shell.execute_reply": "2024-10-15T12:54:25.325569Z",
     "shell.execute_reply.started": "2024-10-15T12:54:25.319692Z"
    }
   },
   "outputs": [
    {
     "data": {
      "text/plain": [
       "((4, 1), [(4, 1)], (100, 1), (100, 1))"
      ]
     },
     "execution_count": 15,
     "metadata": {},
     "output_type": "execute_result"
    }
   ],
   "source": [
    "train_data.ytrain.shape, [X.shape for X in train_data.Xtrain], test_data.Xs.shape, test_data.us.shape"
   ]
  },
  {
   "cell_type": "markdown",
   "id": "d0ae6c47-c30a-4f5d-9b77-c2e525216e13",
   "metadata": {},
   "source": [
    "#### Initialise PIGP model"
   ]
  },
  {
   "cell_type": "code",
   "execution_count": 16,
   "id": "6506737d-3eec-4592-acf5-9e5485da9c94",
   "metadata": {
    "execution": {
     "iopub.execute_input": "2024-10-15T12:54:25.327235Z",
     "iopub.status.busy": "2024-10-15T12:54:25.327059Z",
     "iopub.status.idle": "2024-10-15T12:54:25.343723Z",
     "shell.execute_reply": "2024-10-15T12:54:25.342349Z",
     "shell.execute_reply.started": "2024-10-15T12:54:25.327216Z"
    }
   },
   "outputs": [],
   "source": [
    "poisson_kernel_fns = jax_pigp.interdomain_moments.InterdomainKernelFns(kernel_fn, linear_operators)\n",
    "poisson_mean_fns   = jax_pigp.interdomain_moments.InterdomainMeanFns(mean_fn,     linear_operators)\n",
    "\n",
    "gp_model = jax_pigp.models.GPR(poisson_kernel_fns, poisson_mean_fns, nugget=0.)"
   ]
  },
  {
   "cell_type": "markdown",
   "id": "d2d89230-1c23-4827-8d9b-093bdfa57715",
   "metadata": {},
   "source": [
    "#### Initialise learner for model training"
   ]
  },
  {
   "cell_type": "code",
   "execution_count": 17,
   "id": "76bf0448-abbe-44f4-b77b-c1cc7505ae92",
   "metadata": {
    "execution": {
     "iopub.execute_input": "2024-10-15T12:54:25.345312Z",
     "iopub.status.busy": "2024-10-15T12:54:25.344960Z",
     "iopub.status.idle": "2024-10-15T12:54:26.169731Z",
     "shell.execute_reply": "2024-10-15T12:54:26.168492Z",
     "shell.execute_reply.started": "2024-10-15T12:54:25.345279Z"
    }
   },
   "outputs": [],
   "source": [
    "obj_fn_train = lambda params: -gp_model.log_marginal_likelihood(params, train_data)    \n",
    "\n",
    "gp_learner = jax_pigp.optimisers.AdamLearner(obj_fn_train, opt_options, generate_params_fn, random.PRNGKey(BASE_SEED_VAL))"
   ]
  },
  {
   "cell_type": "markdown",
   "id": "911dfdc1-192e-416e-83c0-41c363eaf40e",
   "metadata": {},
   "source": [
    "Initial parameter values  "
   ]
  },
  {
   "cell_type": "code",
   "execution_count": 18,
   "id": "fdfa69d9-ca03-4ac7-ba4d-dedfe2d13ab0",
   "metadata": {
    "execution": {
     "iopub.execute_input": "2024-10-15T12:54:26.170792Z",
     "iopub.status.busy": "2024-10-15T12:54:26.170663Z",
     "iopub.status.idle": "2024-10-15T12:54:26.267124Z",
     "shell.execute_reply": "2024-10-15T12:54:26.265770Z",
     "shell.execute_reply.started": "2024-10-15T12:54:26.170779Z"
    }
   },
   "outputs": [
    {
     "name": "stdout",
     "output_type": "stream",
     "text": [
      "kernel_params_1\n",
      "amp: [22.28726652]\n",
      "ls: [2.21816768]\n",
      "alpha: [16.21577173]\n",
      "\n",
      "kernel_params_2\n",
      "amp: [23.59398771]\n",
      "ls: [3.00901438]\n",
      "alpha: [11.87336545]\n",
      "\n",
      "noise_std: [0.1]\n"
     ]
    }
   ],
   "source": [
    "print_param_values(gp_learner.params, opt_options)"
   ]
  },
  {
   "cell_type": "markdown",
   "id": "afd94393-fbe4-4875-9684-2052d0a8db52",
   "metadata": {},
   "source": [
    "Objective function value for initial parameters"
   ]
  },
  {
   "cell_type": "code",
   "execution_count": 19,
   "id": "e6d2c7ce-19b8-401b-b8ac-fc4a9ada7805",
   "metadata": {
    "execution": {
     "iopub.execute_input": "2024-10-15T12:54:26.270093Z",
     "iopub.status.busy": "2024-10-15T12:54:26.269863Z",
     "iopub.status.idle": "2024-10-15T12:54:40.470950Z",
     "shell.execute_reply": "2024-10-15T12:54:40.470324Z",
     "shell.execute_reply.started": "2024-10-15T12:54:26.270073Z"
    }
   },
   "outputs": [
    {
     "data": {
      "text/plain": [
       "Array(-10.59110366, dtype=float64)"
      ]
     },
     "execution_count": 19,
     "metadata": {},
     "output_type": "execute_result"
    }
   ],
   "source": [
    "gp_model.log_marginal_likelihood(gp_learner.params, train_data)"
   ]
  },
  {
   "cell_type": "markdown",
   "id": "b5783ebc-9d80-4b78-86ec-2a3281057cac",
   "metadata": {},
   "source": [
    "Gradient of the objective function with respect to the initial parameters"
   ]
  },
  {
   "cell_type": "code",
   "execution_count": 20,
   "id": "fa0404f8-c22e-4bdf-b552-74adafb415ee",
   "metadata": {
    "execution": {
     "iopub.execute_input": "2024-10-15T12:54:40.471750Z",
     "iopub.status.busy": "2024-10-15T12:54:40.471636Z",
     "iopub.status.idle": "2024-10-15T12:54:54.432184Z",
     "shell.execute_reply": "2024-10-15T12:54:54.431239Z",
     "shell.execute_reply.started": "2024-10-15T12:54:40.471739Z"
    }
   },
   "outputs": [
    {
     "data": {
      "text/plain": [
       "(Array(10.59110366, dtype=float64),\n",
       " {'kernel_params_1': {'alpha': Array([0.], dtype=float64),\n",
       "   'amp': Array([0.05457813], dtype=float64),\n",
       "   'ls': Array([-1.47888088], dtype=float64)},\n",
       "  'kernel_params_2': {'alpha': Array([0.], dtype=float64),\n",
       "   'amp': Array([0.0244033], dtype=float64),\n",
       "   'ls': Array([-0.1338386], dtype=float64)},\n",
       "  'noise_std': Array([0.0096984], dtype=float64)})"
      ]
     },
     "execution_count": 20,
     "metadata": {},
     "output_type": "execute_result"
    }
   ],
   "source": [
    "gp_learner.grad_obj_fn(gp_learner.params)"
   ]
  },
  {
   "cell_type": "markdown",
   "id": "ca299206-102d-4dd5-b733-da792873b679",
   "metadata": {
    "execution": {
     "iopub.execute_input": "2024-04-02T14:06:38.248276Z",
     "iopub.status.busy": "2024-04-02T14:06:38.248051Z",
     "iopub.status.idle": "2024-04-02T14:06:38.251720Z",
     "shell.execute_reply": "2024-04-02T14:06:38.251009Z",
     "shell.execute_reply.started": "2024-04-02T14:06:38.248261Z"
    }
   },
   "source": [
    "### Plot samples from prior Gaussian process"
   ]
  },
  {
   "cell_type": "code",
   "execution_count": 21,
   "id": "896e8511-a6b1-4596-af74-f04b0343850c",
   "metadata": {
    "execution": {
     "iopub.execute_input": "2024-10-15T12:54:54.432865Z",
     "iopub.status.busy": "2024-10-15T12:54:54.432730Z",
     "iopub.status.idle": "2024-10-15T12:54:58.365389Z",
     "shell.execute_reply": "2024-10-15T12:54:58.364212Z",
     "shell.execute_reply.started": "2024-10-15T12:54:54.432852Z"
    }
   },
   "outputs": [
    {
     "data": {
      "image/png": "[encoded data removed]",
      "text/plain": [
       "<Figure size 400x300 with 1 Axes>"
      ]
     },
     "metadata": {},
     "output_type": "display_data"
    }
   ],
   "source": [
    "# prior mean and covariance over the test data\n",
    "ms  = poisson_mean_fns.get_ms(gp_learner.params, test_data.Xs)[:,0]\n",
    "nugget = 0.000001\n",
    "Kss = poisson_kernel_fns.get_Kss(gp_learner.params, test_data.Xs) + jnp.eye(test_data.Xs.shape[0])*nugget\n",
    "\n",
    "# generate samples\n",
    "n_samp = 10\n",
    "samples = random.multivariate_normal(random.PRNGKey(101), ms, Kss, shape=(n_samp,))\n",
    "\n",
    "# plot samples\n",
    "fig, ax = plt.subplots(nrows=1, ncols=1, figsize=ONE_COLUMN_FIGSIZE)\n",
    "\n",
    "ax.plot(Xs, samples[:n_samp].T);\n",
    "\n",
    "ax.yaxis.grid(True)\n",
    "\n",
    "ax.set_ylabel(r'$u$')\n",
    "ax.set_xlabel(r'$x$')\n",
    "\n",
    "ax.set_title('Samples from prior GP')\n",
    "\n",
    "plt.show()"
   ]
  },
  {
   "cell_type": "markdown",
   "id": "fe399d56-db76-4bba-b4a6-099a0250e24a",
   "metadata": {},
   "source": [
    "## Training "
   ]
  },
  {
   "cell_type": "markdown",
   "id": "2cb2fc27-9bed-4938-8e85-8e7815abd954",
   "metadata": {},
   "source": [
    "[JIT compile](https://jax.readthedocs.io/en/latest/jit-compilation.html) the ``update_one_step`` method by evaluating it once, then train model for specified number of steps/restarts."
   ]
  },
  {
   "cell_type": "code",
   "execution_count": 22,
   "id": "84d24991-4922-47de-8616-0d823ed16a5d",
   "metadata": {
    "execution": {
     "iopub.execute_input": "2024-10-15T12:54:58.366006Z",
     "iopub.status.busy": "2024-10-15T12:54:58.365883Z",
     "iopub.status.idle": "2024-10-15T12:55:16.609359Z",
     "shell.execute_reply": "2024-10-15T12:55:16.607260Z",
     "shell.execute_reply.started": "2024-10-15T12:54:58.365994Z"
    }
   },
   "outputs": [],
   "source": [
    "_ = gp_learner.update_one_step(gp_learner.params, gp_learner.opt_state)"
   ]
  },
  {
   "cell_type": "code",
   "execution_count": 23,
   "id": "f91eb401-e484-4d50-9f6e-3c0d3fb2172b",
   "metadata": {
    "execution": {
     "iopub.execute_input": "2024-10-15T12:55:16.611101Z",
     "iopub.status.busy": "2024-10-15T12:55:16.610900Z",
     "iopub.status.idle": "2024-10-15T12:55:34.974843Z",
     "shell.execute_reply": "2024-10-15T12:55:34.974023Z",
     "shell.execute_reply.started": "2024-10-15T12:55:16.611084Z"
    },
    "scrolled": true
   },
   "outputs": [
    {
     "name": "stdout",
     "output_type": "stream",
     "text": [
      "gp_type=bcgp, Nf=4, n_steps=30000, n_restarts=1\n",
      "\n",
      "Restart 0: beginning training for 30000 steps\n",
      "(0): 10.5546, noise_std_vals = [9.76e-02]\n",
      "(1200): 1.0847, noise_std_vals = [4.35e-05]\n",
      "(2400): -0.6188, noise_std_vals = [7.54e-06]\n",
      "(3600): -1.7813, noise_std_vals = [2.23e-06]\n",
      "(4800): -2.7202, noise_std_vals = [8.11e-07]\n",
      "(6000): -3.5261, noise_std_vals = [3.31e-07]\n",
      "(7200): -4.2321, noise_std_vals = [1.45e-07]\n",
      "(8400): -4.8533, noise_std_vals = [6.78e-08]\n",
      "(9600): -5.4003, noise_std_vals = [3.33e-08]\n",
      "(10800): -5.8833, noise_std_vals = [1.72e-08]\n",
      "(12000): -6.3118, noise_std_vals = [9.19e-09]\n",
      "(13200): -6.6948, noise_std_vals = [5.10e-09]\n",
      "(14400): -7.0394, noise_std_vals = [2.92e-09]\n",
      "(15600): -7.3519, noise_std_vals = [1.71e-09]\n",
      "(16800): -7.6373, noise_std_vals = [1.03e-09]\n",
      "(18000): -7.8995, noise_std_vals = [6.30e-10]\n",
      "(19200): -8.1418, noise_std_vals = [3.94e-10]\n",
      "(20400): -8.3669, noise_std_vals = [2.52e-10]\n",
      "(21600): -8.5770, noise_std_vals = [1.66e-10]\n",
      "(22800): -8.7411, noise_std_vals = [1.20e-10]\n",
      "(24000): -8.7491, noise_std_vals = [1.17e-10]\n",
      "(25200): -8.7572, noise_std_vals = [1.14e-10]\n",
      "(26400): -8.7653, noise_std_vals = [1.11e-10]\n",
      "(27600): -8.7734, noise_std_vals = [1.08e-10]\n",
      "(28800): -8.7815, noise_std_vals = [1.04e-10]\n",
      "Final training results: \n",
      "(29999): -8.7895, noise_std_vals = [1.01e-10]\n",
      "\n",
      "\n"
     ]
    }
   ],
   "source": [
    "print(f'gp_type={GP_TYPE}, Nf={Nf}, n_steps={opt_options['n_steps']}, n_restarts={opt_options['n_restarts']}\\n')\n",
    "gp_learner.train_with_restarts(opt_options['n_steps'], \n",
    "                               opt_options['n_restarts'], \n",
    "                               print_progress = opt_options['verbose'])"
   ]
  },
  {
   "cell_type": "markdown",
   "id": "75c8f817-722a-4c31-b556-d37c90892b5b",
   "metadata": {},
   "source": [
    "Uncomment below to continue training from existing parameter values:"
   ]
  },
  {
   "cell_type": "code",
   "execution_count": 30,
   "id": "b629bdf2-e273-4f77-80db-2230af817e9a",
   "metadata": {
    "execution": {
     "iopub.execute_input": "2024-10-15T12:56:33.674138Z",
     "iopub.status.busy": "2024-10-15T12:56:33.673529Z",
     "iopub.status.idle": "2024-10-15T12:56:33.681817Z",
     "shell.execute_reply": "2024-10-15T12:56:33.679801Z",
     "shell.execute_reply.started": "2024-10-15T12:56:33.674089Z"
    }
   },
   "outputs": [],
   "source": [
    "# gp_learner.train(opt_options[\"n_steps\"])\n",
    "# gp_learner.params_best = gp_learner.params.copy()"
   ]
  },
  {
   "cell_type": "markdown",
   "id": "b1f16ab0-0d14-4fe3-91fc-d1e7fc81b050",
   "metadata": {},
   "source": [
    "### Plot training results"
   ]
  },
  {
   "cell_type": "code",
   "execution_count": 25,
   "id": "061db8ab-98a1-4ad9-b5a6-a4215affbcc9",
   "metadata": {
    "execution": {
     "iopub.execute_input": "2024-10-15T12:55:34.980733Z",
     "iopub.status.busy": "2024-10-15T12:55:34.980617Z",
     "iopub.status.idle": "2024-10-15T12:55:35.539373Z",
     "shell.execute_reply": "2024-10-15T12:55:35.538796Z",
     "shell.execute_reply.started": "2024-10-15T12:55:34.980722Z"
    }
   },
   "outputs": [
    {
     "data": {
      "image/png": "[encoded data removed]",
      "text/plain": [
       "<Figure size 400x300 with 1 Axes>"
      ]
     },
     "metadata": {},
     "output_type": "display_data"
    }
   ],
   "source": [
    "theta_arr = jnp.array(gp_learner.theta_list)\n",
    "\n",
    "fig, ax = plt.subplots(nrows=1, ncols=1, figsize=ONE_COLUMN_FIGSIZE)\n",
    "\n",
    "begin_at = int(len(gp_learner.obj_list)*0.05)\n",
    "\n",
    "plot_lc(ax, gp_learner.obj_list[begin_at:], 'Objective Function')\n",
    "\n",
    "fig.tight_layout()\n",
    "\n",
    "plt.savefig(os.path.join(results_save_dir, 'learningCurves.pdf'))"
   ]
  },
  {
   "cell_type": "markdown",
   "id": "e1c726ce-f6da-4571-8166-4f100ab16b60",
   "metadata": {},
   "source": [
    "### Final trained parameter values"
   ]
  },
  {
   "cell_type": "code",
   "execution_count": 26,
   "id": "7d7749e8-0789-4dd2-b088-96a713ea8db0",
   "metadata": {
    "execution": {
     "iopub.execute_input": "2024-10-15T12:55:35.539878Z",
     "iopub.status.busy": "2024-10-15T12:55:35.539780Z",
     "iopub.status.idle": "2024-10-15T12:55:35.549472Z",
     "shell.execute_reply": "2024-10-15T12:55:35.548838Z",
     "shell.execute_reply.started": "2024-10-15T12:55:35.539868Z"
    }
   },
   "outputs": [
    {
     "name": "stdout",
     "output_type": "stream",
     "text": [
      "kernel_params_1\n",
      "alpha: [5.50236516]\n",
      "amp: [1.86243193]\n",
      "ls: [424.86120672]\n",
      "\n",
      "kernel_params_2\n",
      "alpha: [19.1375392]\n",
      "amp: [2.24681416]\n",
      "ls: [516.25128519]\n",
      "\n",
      "noise_std: [1.00653486e-10]\n"
     ]
    }
   ],
   "source": [
    "# extract final trained parameter values\n",
    "trained_params = gp_learner.params_best.copy()\n",
    "\n",
    "# print the values of the trained parameters\n",
    "print_param_values(trained_params, opt_options)\n",
    "\n",
    "# save trained parameters\n",
    "with open(os.path.join(results_save_dir, 'trained_params.pkl'), 'wb') as fp:\n",
    "    pickle.dump(trained_params, fp)"
   ]
  },
  {
   "cell_type": "markdown",
   "id": "fcb49cb0-c77f-4221-8acb-a4c522490f93",
   "metadata": {},
   "source": [
    "Can load pre-trained parameters by uncommenting the below"
   ]
  },
  {
   "cell_type": "code",
   "execution_count": 27,
   "id": "044e6b92-c41f-46f7-9fa6-c99bb2fdf9f7",
   "metadata": {
    "execution": {
     "iopub.execute_input": "2024-10-15T12:55:35.550207Z",
     "iopub.status.busy": "2024-10-15T12:55:35.550080Z",
     "iopub.status.idle": "2024-10-15T12:55:35.552886Z",
     "shell.execute_reply": "2024-10-15T12:55:35.552345Z",
     "shell.execute_reply.started": "2024-10-15T12:55:35.550194Z"
    }
   },
   "outputs": [],
   "source": [
    "# with open(os.path.join(results_save_dir, 'trained_params.pkl'), 'rb') as f:\n",
    "    # trained_params = pickle.load(f)"
   ]
  },
  {
   "cell_type": "markdown",
   "id": "e33bc444-5fff-4f0b-8507-4985eea193e0",
   "metadata": {},
   "source": [
    "## Test set results\n",
    "\n",
    "Evaluate posterior distribution at test points, using hyper-parameter values ``trained_params`` obtained during training phase."
   ]
  },
  {
   "cell_type": "code",
   "execution_count": 28,
   "id": "f874b8dc-a850-4644-b1a7-bbc7da8e7dda",
   "metadata": {
    "execution": {
     "iopub.execute_input": "2024-10-15T12:55:35.553426Z",
     "iopub.status.busy": "2024-10-15T12:55:35.553324Z",
     "iopub.status.idle": "2024-10-15T12:55:40.604384Z",
     "shell.execute_reply": "2024-10-15T12:55:40.603693Z",
     "shell.execute_reply.started": "2024-10-15T12:55:35.553416Z"
    }
   },
   "outputs": [
    {
     "name": "stdout",
     "output_type": "stream",
     "text": [
      "Posterior results for bcgp, Nf=4, Ns=100\n",
      "mean/max loss: 3.999445e-11/9.699e-11\n"
     ]
    }
   ],
   "source": [
    "# posterior mean and covariance over test points\n",
    "print(f'Posterior results for {GP_TYPE}, Nf={train_data.Xtrain[0].shape[0]}, Ns={test_data.Xs.shape[0]}')\n",
    "mu, Sigma = gp_model.posterior_predict(trained_params, train_data, test_data.Xs)\n",
    "\n",
    "# save predictions\n",
    "if SAVE_ALL_PREDICTIONS:\n",
    "    jnp.save(os.path.join(results_save_dir, 'u_pred.npy'), mu)\n",
    "    jnp.save(os.path.join(results_save_dir, 'Xs.npy'), test_data.Xs)\n",
    "    jnp.save(os.path.join(results_save_dir, 'us.npy'), test_data.us)\n",
    "\n",
    "# test set prediction error\n",
    "abs_losses = jnp.abs(mu - test_data.us)\n",
    "print(f'mean/max loss: {abs_losses.mean():3e}/{abs_losses.max():.3e}')\n",
    "savetxt(os.path.join(results_save_dir, 'mean_loss.txt'), abs_losses.mean().reshape(-1,1))"
   ]
  },
  {
   "cell_type": "markdown",
   "id": "a6f288da-d6ea-4be6-9801-eef294e42009",
   "metadata": {},
   "source": [
    "### Plots of posterior prediction"
   ]
  },
  {
   "cell_type": "code",
   "execution_count": 29,
   "id": "cbe3493a-edfa-44c8-8f3d-ef829d32e236",
   "metadata": {
    "execution": {
     "iopub.execute_input": "2024-10-15T12:55:40.605210Z",
     "iopub.status.busy": "2024-10-15T12:55:40.605075Z",
     "iopub.status.idle": "2024-10-15T12:55:40.730474Z",
     "shell.execute_reply": "2024-10-15T12:55:40.729915Z",
     "shell.execute_reply.started": "2024-10-15T12:55:40.605196Z"
    }
   },
   "outputs": [
    {
     "data": {
      "image/png": "[encoded data removed]",
      "text/plain": [
       "<Figure size 400x300 with 1 Axes>"
      ]
     },
     "metadata": {},
     "output_type": "display_data"
    }
   ],
   "source": [
    "# plot samples\n",
    "fig, ax = plt.subplots(nrows=1, ncols=1, figsize=ONE_COLUMN_FIGSIZE)\n",
    "\n",
    "ax.plot(test_data.Xs, test_data.us, label=\"True\", lw=3);\n",
    "ax.plot(test_data.Xs, mu, '--', label=\"Pred\", lw=3);\n",
    "\n",
    "ax.yaxis.grid(True)\n",
    "\n",
    "ax.set_ylabel(r'$u$')\n",
    "ax.set_xlabel(r'$x$')\n",
    "\n",
    "ax.set_title(f'Posterior Results: MAE={abs_losses.mean():.2e}')\n",
    "ax.legend()\n",
    "\n",
    "fig.tight_layout()\n",
    "\n",
    "plt.savefig(os.path.join(results_save_dir, 'posteriorPrediction.pdf'))"
   ]
  }
 ],
 "metadata": {
  "kernelspec": {
   "display_name": "Python 3 (ipykernel)",
   "language": "python",
   "name": "python3"
  },
  "language_info": {
   "codemirror_mode": {
    "name": "ipython",
    "version": 3
   },
   "file_extension": ".py",
   "mimetype": "text/x-python",
   "name": "python",
   "nbconvert_exporter": "python",
   "pygments_lexer": "ipython3",
   "version": "3.12.4"
  }
 },
 "nbformat": 4,
 "nbformat_minor": 5
}
