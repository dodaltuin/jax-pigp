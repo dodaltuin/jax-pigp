{
 "cells": [
  {
   "cell_type": "markdown",
   "id": "354a2522-d4de-469a-b9ee-0779b7d464ec",
   "metadata": {},
   "source": [
    "# Wave-IBVP-1\n",
    "\n",
    "This notebook implements the BCGP and UCGP experiments for Wave-IBVP-1 from Section 5.4.1 of the manuscript"
   ]
  },
  {
   "cell_type": "markdown",
   "id": "029e3fae-6e54-4151-ac93-a06f0af3edc7",
   "metadata": {},
   "source": [
    "## Preliminaries "
   ]
  },
  {
   "cell_type": "markdown",
   "id": "d3fb2ee6-155a-42a5-94d4-5a25c8a6f825",
   "metadata": {},
   "source": [
    "Whether to run computations on GPU or CPU"
   ]
  },
  {
   "cell_type": "code",
   "execution_count": 1,
   "id": "fc022abd-2bd7-4ac1-9429-9ce0ddcfce47",
   "metadata": {
    "execution": {
     "iopub.execute_input": "2024-10-15T14:24:44.003930Z",
     "iopub.status.busy": "2024-10-15T14:24:44.003217Z",
     "iopub.status.idle": "2024-10-15T14:24:44.008349Z",
     "shell.execute_reply": "2024-10-15T14:24:44.007680Z",
     "shell.execute_reply.started": "2024-10-15T14:24:44.003882Z"
    }
   },
   "outputs": [],
   "source": [
    "import os\n",
    "\n",
    "USE_GPU: bool = True\n",
    "\n",
    "if not USE_GPU:\n",
    "    os.environ['JAX_PLATFORM_NAME'] = 'cpu'\n",
    "else:\n",
    "    os.environ[\"CUDA_VISIBLE_DEVICES\"] = str(0)"
   ]
  },
  {
   "cell_type": "markdown",
   "id": "57ebbd34-791d-431d-91e7-a4884a7e8c01",
   "metadata": {},
   "source": [
    "Package imports"
   ]
  },
  {
   "cell_type": "code",
   "execution_count": null,
   "id": "f5dd8eeb-7d4c-452e-8659-f499484a10ee",
   "metadata": {
    "execution": {
     "iopub.execute_input": "2024-10-15T14:26:42.240362Z",
     "iopub.status.busy": "2024-10-15T14:26:42.239909Z"
    }
   },
   "outputs": [],
   "source": [
    "import jax.numpy as jnp\n",
    "from jax import config, random, vmap, devices\n",
    "\n",
    "import os\n",
    "import pickle\n",
    "from numpy import savetxt\n",
    "\n",
    "# ensure that we can access jax_pigp\n",
    "import sys\n",
    "sys.path.append('../../')\n",
    "\n",
    "import jax_pigp\n",
    "from jax_pigp.utility_fns import softplus, generate_params\n",
    "from utility_fns import PARAM_OPTIONS_DICT as param_gen_options\n",
    "from jax_pigp.base import Callable, Array\n",
    "\n",
    "from utility_fns import *\n",
    "\n",
    "# double precision prevents nans\n",
    "config.update(\"jax_enable_x64\", True) \n",
    "config.update(\"jax_debug_nans\", False)"
   ]
  },
  {
   "cell_type": "markdown",
   "id": "9b381bf4-e984-456b-a085-50efd3e94d0d",
   "metadata": {},
   "source": [
    "Check what devices are available"
   ]
  },
  {
   "cell_type": "code",
   "execution_count": null,
   "id": "dddbb5fa-9058-48c7-b2bc-381cfc078919",
   "metadata": {},
   "outputs": [],
   "source": [
    "devices()"
   ]
  },
  {
   "cell_type": "markdown",
   "id": "5acf1c36-9bf2-4681-9954-556b9b93b468",
   "metadata": {},
   "source": [
    "### Specify settings of the experiments"
   ]
  },
  {
   "cell_type": "code",
   "execution_count": 4,
   "id": "ccb7f3e9-6e7a-4b41-844a-d6645233e824",
   "metadata": {
    "execution": {
     "iopub.execute_input": "2024-10-15T14:24:49.039366Z",
     "iopub.status.busy": "2024-10-15T14:24:49.038500Z",
     "iopub.status.idle": "2024-10-15T14:24:49.062031Z",
     "shell.execute_reply": "2024-10-15T14:24:49.061487Z",
     "shell.execute_reply.started": "2024-10-15T14:24:49.039319Z"
    }
   },
   "outputs": [],
   "source": [
    "# base random seed for parameter initialisation\n",
    "BASE_SEED_VAL: int = 1572\n",
    "\n",
    "# true value of the wave parameter theta \n",
    "THETA_TRUE: Array  = jnp.array([1.])\n",
    "\n",
    "# bounds from which to randomly sample initial value of theta\n",
    "THETA_MIN: Array = jnp.array([5.])\n",
    "THETA_MAX: Array = jnp.array([10.])\n",
    "THETA_BOUNDS = [THETA_MIN, THETA_MAX]\n",
    "\n",
    "# Set to True to consider inverse problem of identifying theta\n",
    "RUN_INVERSE: bool = True\n",
    "\n",
    "# specify how GP handles boundary conditions \n",
    "GP_TYPE = 'bcgp'\n",
    "assert GP_TYPE in ['bcgp','ucgp'] \n",
    "\n",
    "# number of u/f space observations to use for inference\n",
    "N_DATA: int = 25\n",
    "Nu: int = N_DATA\n",
    "Nf: int = N_DATA\n",
    "\n",
    "# path to subdirectory in ./data where fisher-like equation data is saved\n",
    "data_save_dir: str = f'waveIBVP1'\n",
    "data_save_dir_full = os.path.join('data', data_save_dir)\n",
    "assert os.path.isdir(data_save_dir_full)\n",
    "\n",
    "# dimensionality of the spatio-temporal domain (including time)\n",
    "INPUT_DIM: int = 2\n",
    "\n",
    "# initial value for std of noise levels for u/f points\n",
    "NOISE_INIT = jnp.array([0.1, 0.1])\n",
    "\n",
    "# softplus transformation ensures noise and theta values are positive\n",
    "NOISE_TRANSFORM: Callable = softplus\n",
    "THETA_TRANSFORM: Callable = softplus\n",
    "\n",
    "# whether to save all test set prediction results or just summary statistics\n",
    "SAVE_ALL_PREDICTIONS: bool = True\n",
    "\n",
    "# options for model training\n",
    "N_TRAIN_STEPS: int = 10000\n",
    "N_RESTARTS: int    = 3\n",
    "LR_INIT: float     = 2.5e-3\n",
    "VERBOSE: bool      = False"
   ]
  },
  {
   "cell_type": "markdown",
   "id": "a2133164-7795-4124-98c4-bc16bcecfc29",
   "metadata": {},
   "source": [
    "### Specify boundary-constrained mean and kernel functions\n",
    "\n",
    "The BCGP mean and kernel functions are discussed in Appendix B.2.5 of the manuscript, and they are designed to ensure that the BCGP exactly satisfies the Cauchy initial condition at $t=0$ and Neumann boundary conditions condition for $x \\in \\partial \\Omega = \\{0, \\pi \\}$. These functions take the below form (note there is a slight typo in the manuscript)\n",
    "\n",
    " \\begin{align*} \n",
    " \\tilde{m}(x,t) = & \\; \\cos(x) + t \\cos^2(x),  \\\\\n",
    " \\tilde{k}([x,t], [x',t']) = &\\; t^2(t')^2 \\left[\\mathcal{B}^{r_1}_{x} \\mathcal{B}^{r_1}_{x'} k_1([x,t],[x',t']) + \\mathcal{B}^{r_2}_{x} \\mathcal{B}^{r_2}_{x'} k_2([x,t],[x',t']) \\right],\n",
    " \\end{align*}\n",
    "\n",
    "\n",
    "where the linear operators are given by\n",
    "\n",
    "\\begin{align*}  \n",
    "    \\mathcal{B}^{r_1}_{x}[\\cdot](x,t) &= [\\cdot](x,t) - \\phi(x) \\nabla \\phi(x) \\cdot \\nabla [\\cdot](x,t), \\notag \\\\ %.\n",
    "    \\mathcal{B}^{r_2}_{x}[\\cdot](x,t) &= \\phi(x)^2 [\\cdot](x,t).\n",
    "\\end{align*}\n",
    "\n",
    "The ADF $\\phi$ has the form\n",
    "\n",
    "\\begin{equation*}\n",
    "\\phi(x)  =  x(\\pi - x).\n",
    "\\end{equation*}\n",
    "\n",
    "The above equations are implemented as follows: "
   ]
  },
  {
   "cell_type": "code",
   "execution_count": 5,
   "id": "59c682da-b188-475b-b29a-bd57e2036add",
   "metadata": {
    "execution": {
     "iopub.execute_input": "2024-10-15T14:24:49.062889Z",
     "iopub.status.busy": "2024-10-15T14:24:49.062772Z",
     "iopub.status.idle": "2024-10-15T14:24:49.066500Z",
     "shell.execute_reply": "2024-10-15T14:24:49.065970Z",
     "shell.execute_reply.started": "2024-10-15T14:24:49.062879Z"
    }
   },
   "outputs": [],
   "source": [
    "# define the ADF phi and its gradient\n",
    "def phi(loc: Array):\n",
    "    x, _ = loc\n",
    "    return x*(jnp.pi-x)\n",
    "\n",
    "def grad_phi(loc: Array):\n",
    "    x, _ = loc\n",
    "    return jnp.pi - 2.*x\n",
    "\n",
    "def apply_B1(fn: Callable, argnum: int = 1):\n",
    "\n",
    "    # the Jacobian function\n",
    "    Jfn, _ = jac_hess(fn, argnum)\n",
    "\n",
    "    def B1(params: dict, loc1: Array, *loc2: Array):\n",
    "        \n",
    "        loc = loc1 if argnum == 1 else loc2[0]\n",
    "\n",
    "        fn_val = fn(params, loc1, *loc2)\n",
    "        gradfn_val = Jfn(params, loc1, *loc2)[0]\n",
    "    \n",
    "        phi_val = phi(loc)\n",
    "        gradphi_val = grad_phi(loc)\n",
    "\n",
    "        return fn_val - phi_val*gradphi_val*gradfn_val\n",
    "        \n",
    "    return B1\n",
    "\n",
    "def B2(loc: Array):\n",
    "    return phi(loc)**2"
   ]
  },
  {
   "cell_type": "markdown",
   "id": "ef0e744f-cedc-488c-9f9e-62e15e1921d0",
   "metadata": {},
   "source": [
    "$\\tilde{k}$ can now be defined"
   ]
  },
  {
   "cell_type": "code",
   "execution_count": 6,
   "id": "f0b9ab86-2cd4-430f-8eb9-1fef040bca38",
   "metadata": {
    "execution": {
     "iopub.execute_input": "2024-10-15T14:24:52.503118Z",
     "iopub.status.busy": "2024-10-15T14:24:52.501859Z",
     "iopub.status.idle": "2024-10-15T14:24:52.509323Z",
     "shell.execute_reply": "2024-10-15T14:24:52.508651Z",
     "shell.execute_reply.started": "2024-10-15T14:24:52.503069Z"
    }
   },
   "outputs": [],
   "source": [
    "def get_kernel_fn(base_kernel):\n",
    "\n",
    "    Bm1_k1 = apply_B1(apply_B1(base_kernel, 1), 2) \n",
    "    k2 = base_kernel\n",
    "\n",
    "    def bcgp_kernel(params: dict, loc1: Array, loc2: Array):\n",
    "        \n",
    "        t1 = loc1[1]\n",
    "        t2 = loc2[1]\n",
    "\n",
    "        k1_params = params['kernel_params_1']\n",
    "        k2_params = params['kernel_params_2']\n",
    "\n",
    "        Bm1_k1_val = Bm1_k1(k1_params, loc1, loc2)\n",
    "        Bm2_k2_val = B2(loc1)*B2(loc2)*k2(k2_params, loc1, loc2)\n",
    "        \n",
    "        return (t1**2)*(t2**2)*(Bm1_k1_val + Bm2_k2_val)\n",
    "\n",
    "    return bcgp_kernel"
   ]
  },
  {
   "cell_type": "markdown",
   "id": "0c25fbde-1783-4439-af2c-e68087ad95a6",
   "metadata": {},
   "source": [
    "Choose whether to use boundary constrained mean/kernel or zero-mean / normal kernel based on value of ``GP_TYPE``"
   ]
  },
  {
   "cell_type": "code",
   "execution_count": 7,
   "id": "7694ecde-dd53-4c4c-b71b-8d7f1a85a3c8",
   "metadata": {
    "execution": {
     "iopub.execute_input": "2024-10-15T14:24:53.098349Z",
     "iopub.status.busy": "2024-10-15T14:24:53.097206Z",
     "iopub.status.idle": "2024-10-15T14:24:53.105420Z",
     "shell.execute_reply": "2024-10-15T14:24:53.104699Z",
     "shell.execute_reply.started": "2024-10-15T14:24:53.098300Z"
    }
   },
   "outputs": [
    {
     "name": "stdout",
     "output_type": "stream",
     "text": [
      "using boundary constrained mean and kernel\n"
     ]
    }
   ],
   "source": [
    "BASE_KERNEL = jax_pigp.kernels.squared_exponential\n",
    "\n",
    "if GP_TYPE == \"bcgp\":\n",
    "    print(f'using boundary constrained mean and kernel')\n",
    "    \n",
    "    def mean_fn(params, loc):\n",
    "        x, t = loc\n",
    "        return jnp.cos(x) + t*(jnp.cos(x)**2)\n",
    "\n",
    "    kernel_fn = get_kernel_fn(BASE_KERNEL)\n",
    "\n",
    "else:\n",
    "    def mean_fn(params, loc):\n",
    "        return 0.\n",
    "    \n",
    "    def kernel_fn(params: dict, loc1: Array, loc2: Array):\n",
    "    \n",
    "        k_params = params['kernel_params_1']\n",
    "    \n",
    "        cov_val = BASE_KERNEL(k_params, loc1, loc2)\n",
    "    \n",
    "        return cov_val\n"
   ]
  },
  {
   "cell_type": "markdown",
   "id": "b80966b9-4e25-481d-ba00-141f63666c4d",
   "metadata": {},
   "source": [
    "### Specify wave differential operator\n",
    "\n",
    "Recall that the wave PDE over one spatial dimension takes the form\n",
    "\n",
    "$$\\mathcal{L}_{x,t}[u] =   \\frac{\\partial^2 u}{\\partial t^2} - \\theta \\frac{\\partial^2 u}{\\partial x^2} = f = 0.$$\n",
    "\n",
    "##### Implementation: \n",
    "\n",
    "* We define a dummy linear operator for $u$-space data which is just the identity transformation\n",
    "* $f$ is returned by calling the ``apply_PDE`` function defined below\n"
   ]
  },
  {
   "cell_type": "code",
   "execution_count": 8,
   "id": "c1a5845f-e787-4521-bfd1-8da78c8296b6",
   "metadata": {
    "execution": {
     "iopub.execute_input": "2024-10-15T14:24:55.460135Z",
     "iopub.status.busy": "2024-10-15T14:24:55.458941Z",
     "iopub.status.idle": "2024-10-15T14:24:55.467132Z",
     "shell.execute_reply": "2024-10-15T14:24:55.466431Z",
     "shell.execute_reply.started": "2024-10-15T14:24:55.460087Z"
    }
   },
   "outputs": [],
   "source": [
    "def apply_identity(fn: callable,argnum: int = 1):\n",
    "    return fn\n",
    "\n",
    "def apply_PDE(fn: Callable, argnum: int = 1):\n",
    "    r\"\"\"\n",
    "    Applies the wave PDE to input fn at specified argnum\n",
    "    \"\"\"\n",
    "\n",
    "    # the Hessian function\n",
    "    _, Hfn = jac_hess(fn, argnum)\n",
    "\n",
    "    def PDE(params: dict, loc1: Array, *loc2: Array):\n",
    "        ## Note: we assume spatial value comes before temporal value in loc1 and loc2\n",
    "        \n",
    "        theta = THETA_TRANSFORM(params['theta'])[0] if RUN_INVERSE else THETA_TRUE[0]\n",
    "\n",
    "        # second derivatives are diagonal elements of Hessian matrix\n",
    "        uxx_val, utt_val = jnp.diag(Hfn(params, loc1, *loc2))\n",
    "\n",
    "        return utt_val - theta*uxx_val\n",
    "\n",
    "    return PDE\n",
    "\n",
    "\n",
    "linear_operators = [apply_identity, apply_PDE]"
   ]
  },
  {
   "cell_type": "markdown",
   "id": "19c9e9e7-c916-4163-848c-d4fb2764c1a7",
   "metadata": {},
   "source": [
    "### Store settings "
   ]
  },
  {
   "cell_type": "markdown",
   "id": "0b3d2432-b479-459e-bf1c-4c47142eeaef",
   "metadata": {},
   "source": [
    "Store optimisation options in a dictionary"
   ]
  },
  {
   "cell_type": "code",
   "execution_count": 9,
   "id": "a6771a0f-35f9-4651-b1f0-0006c7e5f8a3",
   "metadata": {
    "execution": {
     "iopub.execute_input": "2024-10-15T14:24:56.442009Z",
     "iopub.status.busy": "2024-10-15T14:24:56.440872Z",
     "iopub.status.idle": "2024-10-15T14:24:56.447081Z",
     "shell.execute_reply": "2024-10-15T14:24:56.446309Z",
     "shell.execute_reply.started": "2024-10-15T14:24:56.441965Z"
    }
   },
   "outputs": [],
   "source": [
    "opt_options = {}\n",
    "opt_options['n_steps']         = N_TRAIN_STEPS \n",
    "opt_options['n_restarts']      = N_RESTARTS\n",
    "opt_options['lr']              = LR_INIT\n",
    "opt_options['verbose']         = VERBOSE\n",
    "opt_options['noise_transform'] = NOISE_TRANSFORM\n",
    "opt_options['theta_transform'] = THETA_TRANSFORM"
   ]
  },
  {
   "cell_type": "markdown",
   "id": "1d6f7b02-d092-459e-a185-ea7128c3fbc1",
   "metadata": {},
   "source": [
    "Specify parameter initialisation function"
   ]
  },
  {
   "cell_type": "code",
   "execution_count": 10,
   "id": "392f2167-db6e-4823-9e6a-2f4ac7a9e5f6",
   "metadata": {
    "execution": {
     "iopub.execute_input": "2024-10-15T14:24:56.735064Z",
     "iopub.status.busy": "2024-10-15T14:24:56.733613Z",
     "iopub.status.idle": "2024-10-15T14:24:56.740553Z",
     "shell.execute_reply": "2024-10-15T14:24:56.739842Z",
     "shell.execute_reply.started": "2024-10-15T14:24:56.735015Z"
    }
   },
   "outputs": [],
   "source": [
    "param_gen_options['n_sub_kernels'] = 2 if GP_TYPE == 'bcgp' else 1\n",
    "param_gen_options['input_dim']       = [INPUT_DIM]*param_gen_options['n_sub_kernels']\n",
    "param_gen_options['theta_bounds']    = THETA_BOUNDS\n",
    "param_gen_options['theta_transform'] = THETA_TRANSFORM\n",
    "param_gen_options['noise_std_init']  = NOISE_INIT\n",
    "param_gen_options['noise_transform'] = NOISE_TRANSFORM\n",
    "\n",
    "# randomly samples kernel parameter values given an input seed\n",
    "generate_params_fn = lambda seed: generate_params(seed, param_gen_options)"
   ]
  },
  {
   "cell_type": "markdown",
   "id": "c362669a-6d5c-44b9-89f6-c66156d09a01",
   "metadata": {},
   "source": [
    "Create a directory to save the results "
   ]
  },
  {
   "cell_type": "code",
   "execution_count": 11,
   "id": "b93cc163-8ab5-4133-a986-20e730be2986",
   "metadata": {
    "execution": {
     "iopub.execute_input": "2024-10-15T14:24:57.284440Z",
     "iopub.status.busy": "2024-10-15T14:24:57.283069Z",
     "iopub.status.idle": "2024-10-15T14:24:57.289167Z",
     "shell.execute_reply": "2024-10-15T14:24:57.288474Z",
     "shell.execute_reply.started": "2024-10-15T14:24:57.284392Z"
    }
   },
   "outputs": [],
   "source": [
    "results_save_dir = os.path.join('results', data_save_dir, f'{GP_TYPE}_Nu_{Nu}_Nf_{Nf}')\n",
    "if not os.path.isdir(results_save_dir): os.makedirs(results_save_dir)"
   ]
  },
  {
   "cell_type": "markdown",
   "id": "9b71e326-858b-4f8c-bc7e-bc77fbb04fff",
   "metadata": {},
   "source": [
    "## Data and model initialisation"
   ]
  },
  {
   "cell_type": "markdown",
   "id": "6d381c43-b7a7-4eee-b22d-6dcaddd09e04",
   "metadata": {},
   "source": [
    "### Load train and test data"
   ]
  },
  {
   "cell_type": "code",
   "execution_count": 12,
   "id": "849e90d5-438d-4840-aa6c-6ca1e3b60c76",
   "metadata": {
    "execution": {
     "iopub.execute_input": "2024-10-15T14:24:58.089463Z",
     "iopub.status.busy": "2024-10-15T14:24:58.088779Z",
     "iopub.status.idle": "2024-10-15T14:24:58.192220Z",
     "shell.execute_reply": "2024-10-15T14:24:58.191623Z",
     "shell.execute_reply.started": "2024-10-15T14:24:58.089415Z"
    }
   },
   "outputs": [],
   "source": [
    "train_data, test_data = load_data(data_save_dir_full, Nu, Nf)"
   ]
  },
  {
   "cell_type": "markdown",
   "id": "5c11a97f-e881-4be7-bc20-60864d20b14b",
   "metadata": {},
   "source": [
    "Check shapes of train and test data"
   ]
  },
  {
   "cell_type": "code",
   "execution_count": 13,
   "id": "af173916-ea9e-45f5-9112-b1683c08b2b6",
   "metadata": {
    "execution": {
     "iopub.execute_input": "2024-10-15T14:24:58.562828Z",
     "iopub.status.busy": "2024-10-15T14:24:58.562137Z",
     "iopub.status.idle": "2024-10-15T14:24:58.570168Z",
     "shell.execute_reply": "2024-10-15T14:24:58.569427Z",
     "shell.execute_reply.started": "2024-10-15T14:24:58.562781Z"
    }
   },
   "outputs": [
    {
     "data": {
      "text/plain": [
       "((50, 1), [(25, 2), (25, 2)], (14400, 2), (14400, 1))"
      ]
     },
     "execution_count": 13,
     "metadata": {},
     "output_type": "execute_result"
    }
   ],
   "source": [
    "train_data.ytrain.shape, [X.shape for X in train_data.Xtrain], test_data.Xs.shape, test_data.us.shape"
   ]
  },
  {
   "cell_type": "markdown",
   "id": "d0ae6c47-c30a-4f5d-9b77-c2e525216e13",
   "metadata": {},
   "source": [
    "### Initialise PIGP model"
   ]
  },
  {
   "cell_type": "code",
   "execution_count": 14,
   "id": "6506737d-3eec-4592-acf5-9e5485da9c94",
   "metadata": {
    "execution": {
     "iopub.execute_input": "2024-10-15T14:24:59.341171Z",
     "iopub.status.busy": "2024-10-15T14:24:59.339871Z",
     "iopub.status.idle": "2024-10-15T14:24:59.346538Z",
     "shell.execute_reply": "2024-10-15T14:24:59.345793Z",
     "shell.execute_reply.started": "2024-10-15T14:24:59.341122Z"
    }
   },
   "outputs": [],
   "source": [
    "wave_kernel_fns = jax_pigp.interdomain_moments.InterdomainKernelFns(kernel_fn, linear_operators)\n",
    "wave_mean_fns   = jax_pigp.interdomain_moments.InterdomainMeanFns(mean_fn,     linear_operators)\n",
    "\n",
    "gp_model = jax_pigp.models.GPR(wave_kernel_fns, wave_mean_fns)"
   ]
  },
  {
   "cell_type": "markdown",
   "id": "d2d89230-1c23-4827-8d9b-093bdfa57715",
   "metadata": {},
   "source": [
    "### Initialise learner for model training"
   ]
  },
  {
   "cell_type": "code",
   "execution_count": 15,
   "id": "76bf0448-abbe-44f4-b77b-c1cc7505ae92",
   "metadata": {
    "execution": {
     "iopub.execute_input": "2024-10-15T14:18:32.101291Z",
     "iopub.status.busy": "2024-10-15T14:18:32.100973Z",
     "iopub.status.idle": "2024-10-15T14:18:33.314675Z",
     "shell.execute_reply": "2024-10-15T14:18:33.313421Z",
     "shell.execute_reply.started": "2024-10-15T14:18:32.101263Z"
    }
   },
   "outputs": [],
   "source": [
    "obj_fn_train = lambda params: -gp_model.log_marginal_likelihood(params, train_data)    \n",
    "\n",
    "gp_learner = jax_pigp.optimisers.AdamLearner(obj_fn_train, opt_options, generate_params_fn, random.PRNGKey(BASE_SEED_VAL))"
   ]
  },
  {
   "cell_type": "markdown",
   "id": "911dfdc1-192e-416e-83c0-41c363eaf40e",
   "metadata": {},
   "source": [
    "Initial parameter values  "
   ]
  },
  {
   "cell_type": "code",
   "execution_count": 16,
   "id": "fdfa69d9-ca03-4ac7-ba4d-dedfe2d13ab0",
   "metadata": {
    "execution": {
     "iopub.execute_input": "2024-10-15T14:18:33.315344Z",
     "iopub.status.busy": "2024-10-15T14:18:33.315219Z",
     "iopub.status.idle": "2024-10-15T14:18:33.450340Z",
     "shell.execute_reply": "2024-10-15T14:18:33.449072Z",
     "shell.execute_reply.started": "2024-10-15T14:18:33.315332Z"
    }
   },
   "outputs": [
    {
     "name": "stdout",
     "output_type": "stream",
     "text": [
      "kernel_params_1\n",
      "amp: [13.22625438]\n",
      "ls: [4.25870878 3.8917167 ]\n",
      "alpha: [14.17676047]\n",
      "\n",
      "kernel_params_2\n",
      "amp: [20.76168518]\n",
      "ls: [2.13855857 2.47213226]\n",
      "alpha: [23.56247812]\n",
      "\n",
      "noise_std: [0.1 0.1]\n",
      "theta: [5.17500815]\n"
     ]
    }
   ],
   "source": [
    "print_param_values(gp_learner.params, opt_options)"
   ]
  },
  {
   "cell_type": "markdown",
   "id": "afd94393-fbe4-4875-9684-2052d0a8db52",
   "metadata": {},
   "source": [
    "Objective function value for initial parameters"
   ]
  },
  {
   "cell_type": "code",
   "execution_count": 17,
   "id": "70744017-b976-4301-b5fd-4ff9622d29f9",
   "metadata": {
    "execution": {
     "iopub.execute_input": "2024-10-15T14:18:33.451062Z",
     "iopub.status.busy": "2024-10-15T14:18:33.450914Z",
     "iopub.status.idle": "2024-10-15T14:18:58.312514Z",
     "shell.execute_reply": "2024-10-15T14:18:58.311408Z",
     "shell.execute_reply.started": "2024-10-15T14:18:33.451047Z"
    },
    "scrolled": true
   },
   "outputs": [
    {
     "data": {
      "text/plain": [
       "Array(-119.328102, dtype=float64)"
      ]
     },
     "execution_count": 17,
     "metadata": {},
     "output_type": "execute_result"
    }
   ],
   "source": [
    "gp_model.log_marginal_likelihood(gp_learner.params, train_data)"
   ]
  },
  {
   "cell_type": "markdown",
   "id": "b5783ebc-9d80-4b78-86ec-2a3281057cac",
   "metadata": {},
   "source": [
    "Gradient of the objective function with respect to the initial parameters"
   ]
  },
  {
   "cell_type": "code",
   "execution_count": 18,
   "id": "fc8f5ffc-e49b-4e86-8caa-199a9e033c01",
   "metadata": {
    "execution": {
     "iopub.execute_input": "2024-10-15T14:18:58.313512Z",
     "iopub.status.busy": "2024-10-15T14:18:58.313371Z",
     "iopub.status.idle": "2024-10-15T14:19:27.603759Z",
     "shell.execute_reply": "2024-10-15T14:19:27.603160Z",
     "shell.execute_reply.started": "2024-10-15T14:18:58.313500Z"
    }
   },
   "outputs": [
    {
     "data": {
      "text/plain": [
       "(Array(119.328102, dtype=float64),\n",
       " {'kernel_params_1': {'alpha': Array([0.], dtype=float64),\n",
       "   'amp': Array([-1.00597208], dtype=float64),\n",
       "   'ls': Array([12.32959233,  7.34483328], dtype=float64)},\n",
       "  'kernel_params_2': {'alpha': Array([0.], dtype=float64),\n",
       "   'amp': Array([-0.53287386], dtype=float64),\n",
       "   'ls': Array([20.89897797, 22.52430806], dtype=float64)},\n",
       "  'noise_std': Array([-49.85344161, -59.01084875], dtype=float64),\n",
       "  'theta': Array([51.90904809], dtype=float64)})"
      ]
     },
     "execution_count": 18,
     "metadata": {},
     "output_type": "execute_result"
    }
   ],
   "source": [
    "gp_learner.grad_obj_fn(gp_learner.params)"
   ]
  },
  {
   "cell_type": "markdown",
   "id": "fe399d56-db76-4bba-b4a6-099a0250e24a",
   "metadata": {},
   "source": [
    "## Training "
   ]
  },
  {
   "cell_type": "markdown",
   "id": "f3dba395-2a90-4ef2-ab2e-80b46bfe508d",
   "metadata": {},
   "source": [
    "[JIT compile](https://jax.readthedocs.io/en/latest/jit-compilation.html) the ``update_one_step`` method by evaluating it once, then train model for specified number of steps/restarts."
   ]
  },
  {
   "cell_type": "code",
   "execution_count": 19,
   "id": "84d24991-4922-47de-8616-0d823ed16a5d",
   "metadata": {
    "execution": {
     "iopub.execute_input": "2024-10-15T14:19:27.604508Z",
     "iopub.status.busy": "2024-10-15T14:19:27.604394Z",
     "iopub.status.idle": "2024-10-15T14:20:05.040767Z",
     "shell.execute_reply": "2024-10-15T14:20:05.040025Z",
     "shell.execute_reply.started": "2024-10-15T14:19:27.604498Z"
    }
   },
   "outputs": [],
   "source": [
    "_ = gp_learner.update_one_step(gp_learner.params, gp_learner.opt_state)"
   ]
  },
  {
   "cell_type": "code",
   "execution_count": 20,
   "id": "b97d7f4e-7959-4030-8462-beaae6780177",
   "metadata": {
    "execution": {
     "iopub.execute_input": "2024-10-15T14:20:05.041676Z",
     "iopub.status.busy": "2024-10-15T14:20:05.041550Z",
     "iopub.status.idle": "2024-10-15T14:24:02.124434Z",
     "shell.execute_reply": "2024-10-15T14:24:02.122267Z",
     "shell.execute_reply.started": "2024-10-15T14:20:05.041666Z"
    },
    "scrolled": true
   },
   "outputs": [
    {
     "name": "stdout",
     "output_type": "stream",
     "text": [
      "gp_type=bcgp, Nu=25, Nf=25, n_steps=10000, n_restarts=3\n",
      "\n",
      "Restart 0: beginning training for 10000 steps\n",
      "Final training results: \n",
      "(9999): -87.9214, noise_std_vals = [1.50e-02,4.30e-04], theta = [0.97220319]\n",
      "\n",
      "\n",
      "Restart 1: beginning training for 10000 steps\n",
      "Final training results: \n",
      "(9999): -89.6289, noise_std_vals = [1.50e-02,2.34e-04], theta = [0.97700197]\n",
      "\n",
      "\n",
      "Restart 2: beginning training for 10000 steps\n",
      "Final training results: \n",
      "(9999): -87.4652, noise_std_vals = [1.50e-02,8.38e-04], theta = [0.97210599]\n",
      "\n",
      "\n"
     ]
    }
   ],
   "source": [
    "print(f'gp_type={GP_TYPE}, Nu={Nu}, Nf={Nf}, n_steps={opt_options['n_steps']}, n_restarts={opt_options['n_restarts']}\\n')\n",
    "gp_learner.train_with_restarts(opt_options['n_steps'], \n",
    "                               opt_options['n_restarts'], \n",
    "                               print_progress = opt_options['verbose'])"
   ]
  },
  {
   "cell_type": "markdown",
   "id": "422b4de6-e5b2-45c0-8974-01e6c902ba15",
   "metadata": {},
   "source": [
    "Uncomment below to continue training from existing parameter values:"
   ]
  },
  {
   "cell_type": "code",
   "execution_count": 21,
   "id": "e7196afb-80eb-46bb-a09c-e54e8063664f",
   "metadata": {
    "execution": {
     "iopub.execute_input": "2024-10-15T14:24:02.126078Z",
     "iopub.status.busy": "2024-10-15T14:24:02.125878Z",
     "iopub.status.idle": "2024-10-15T14:24:02.132206Z",
     "shell.execute_reply": "2024-10-15T14:24:02.131100Z",
     "shell.execute_reply.started": "2024-10-15T14:24:02.126057Z"
    }
   },
   "outputs": [],
   "source": [
    "# gp_learner.train(opt_options[\"n_steps\"])\n",
    "# gp_learner.params_best = gp_learner.params.copy()"
   ]
  },
  {
   "cell_type": "markdown",
   "id": "b1f16ab0-0d14-4fe3-91fc-d1e7fc81b050",
   "metadata": {},
   "source": [
    "### Plot training results"
   ]
  },
  {
   "cell_type": "code",
   "execution_count": 22,
   "id": "061db8ab-98a1-4ad9-b5a6-a4215affbcc9",
   "metadata": {
    "execution": {
     "iopub.execute_input": "2024-10-15T14:24:02.132918Z",
     "iopub.status.busy": "2024-10-15T14:24:02.132766Z",
     "iopub.status.idle": "2024-10-15T14:24:02.952442Z",
     "shell.execute_reply": "2024-10-15T14:24:02.951357Z",
     "shell.execute_reply.started": "2024-10-15T14:24:02.132904Z"
    }
   },
   "outputs": [
    {
     "data": {
      "image/png": "[encoded data removed]",
      "text/plain": [
       "<Figure size 700x300 with 2 Axes>"
      ]
     },
     "metadata": {},
     "output_type": "display_data"
    }
   ],
   "source": [
    "theta_arr = jnp.array(gp_learner.theta_list)\n",
    "\n",
    "fig, axs = plt.subplots(nrows=1, ncols=2, figsize=TWO_COLUMN_FIGSIZE)\n",
    "\n",
    "begin_at = int(len(gp_learner.obj_list)*0.15)\n",
    "\n",
    "plot_lc(axs[0], gp_learner.obj_list[begin_at:], 'Objective Function')\n",
    "plot_lc(axs[1], theta_arr[begin_at:,0], 'Theta')\n",
    "\n",
    "fig.tight_layout()\n",
    "\n",
    "plt.savefig(os.path.join(results_save_dir, 'learningCurves.pdf'))"
   ]
  },
  {
   "cell_type": "markdown",
   "id": "e1c726ce-f6da-4571-8166-4f100ab16b60",
   "metadata": {},
   "source": [
    "### Final trained parameter values"
   ]
  },
  {
   "cell_type": "code",
   "execution_count": 23,
   "id": "7d7749e8-0789-4dd2-b088-96a713ea8db0",
   "metadata": {
    "execution": {
     "iopub.execute_input": "2024-10-15T14:24:02.953435Z",
     "iopub.status.busy": "2024-10-15T14:24:02.953298Z",
     "iopub.status.idle": "2024-10-15T14:24:02.970994Z",
     "shell.execute_reply": "2024-10-15T14:24:02.969766Z",
     "shell.execute_reply.started": "2024-10-15T14:24:02.953423Z"
    }
   },
   "outputs": [
    {
     "name": "stdout",
     "output_type": "stream",
     "text": [
      "kernel_params_1\n",
      "alpha: [23.35562953]\n",
      "amp: [0.8095193]\n",
      "ls: [2.63067116 3.55908302]\n",
      "\n",
      "kernel_params_2\n",
      "alpha: [16.89883419]\n",
      "amp: [0.13818588]\n",
      "ls: [2.53930172 3.59234083]\n",
      "\n",
      "noise_std: [0.01499333 0.00023401]\n",
      "theta: [0.97700197]\n"
     ]
    }
   ],
   "source": [
    "# extract final trained parameter values\n",
    "trained_params = gp_learner.params_best.copy()\n",
    "\n",
    "# print the values of the trained parameters\n",
    "print_param_values(trained_params, opt_options)\n",
    "\n",
    "# save trained parameters\n",
    "with open(os.path.join(results_save_dir, 'trained_params.pkl'), 'wb') as fp:\n",
    "    pickle.dump(trained_params, fp)"
   ]
  },
  {
   "cell_type": "markdown",
   "id": "fcb49cb0-c77f-4221-8acb-a4c522490f93",
   "metadata": {},
   "source": [
    "Can load pre-trained parameters by uncommenting the below"
   ]
  },
  {
   "cell_type": "code",
   "execution_count": 16,
   "id": "044e6b92-c41f-46f7-9fa6-c99bb2fdf9f7",
   "metadata": {
    "execution": {
     "iopub.execute_input": "2024-10-15T14:25:08.028599Z",
     "iopub.status.busy": "2024-10-15T14:25:08.028037Z",
     "iopub.status.idle": "2024-10-15T14:25:08.035349Z",
     "shell.execute_reply": "2024-10-15T14:25:08.033669Z",
     "shell.execute_reply.started": "2024-10-15T14:25:08.028552Z"
    }
   },
   "outputs": [],
   "source": [
    "# with open(os.path.join(results_save_dir, 'trained_params.pkl'), 'rb') as f:\n",
    "    # trained_params = pickle.load(f)"
   ]
  },
  {
   "cell_type": "markdown",
   "id": "e33bc444-5fff-4f0b-8507-4985eea193e0",
   "metadata": {},
   "source": [
    "## Test set results\n",
    "\n",
    "Evaluate posterior distribution at test points, using hyper-parameter values ``trained_params`` obtained during training phase."
   ]
  },
  {
   "cell_type": "code",
   "execution_count": 17,
   "id": "f874b8dc-a850-4644-b1a7-bbc7da8e7dda",
   "metadata": {
    "execution": {
     "iopub.execute_input": "2024-10-15T14:25:09.263695Z",
     "iopub.status.busy": "2024-10-15T14:25:09.263134Z",
     "iopub.status.idle": "2024-10-15T14:26:16.086634Z",
     "shell.execute_reply": "2024-10-15T14:26:16.085932Z",
     "shell.execute_reply.started": "2024-10-15T14:25:09.263647Z"
    }
   },
   "outputs": [
    {
     "name": "stdout",
     "output_type": "stream",
     "text": [
      "Posterior results for bcgp, Nu=25, Nf=25, Ns=14400\n",
      "mean/max loss: 5.666384e-03/1.573e-01\n",
      "theta_true : [1.]\n",
      "theta_pred : [0.97700197]\n",
      "theta_loss : 2.300e-02\n"
     ]
    }
   ],
   "source": [
    "# posterior mean and covariance over test points\n",
    "print(f'Posterior results for {GP_TYPE}, Nu={Nu}, Nf={Nf}, Ns={test_data.Xs.shape[0]}')\n",
    "mu, Sigma = gp_model.posterior_predict(trained_params, train_data, test_data.Xs)\n",
    "s = jnp.diag(Sigma)**.5\n",
    "\n",
    "# save predictions\n",
    "if SAVE_ALL_PREDICTIONS:\n",
    "    jnp.save(os.path.join(results_save_dir, 'u_pred.npy'), mu)\n",
    "    jnp.save(os.path.join(results_save_dir, 's_pred.npy'), s)\n",
    "\n",
    "# test set prediction error\n",
    "abs_losses = jnp.abs(mu - test_data.us)\n",
    "print(f'mean/max loss: {abs_losses.mean():3e}/{abs_losses.max():.3e}')\n",
    "savetxt(os.path.join(results_save_dir, 'mean_loss.txt'), abs_losses.mean().reshape(-1,1))\n",
    "\n",
    "if RUN_INVERSE:\n",
    "    theta_pred = opt_options['theta_transform'](trained_params['theta'])\n",
    "    theta_loss = jnp.linalg.norm(theta_pred - THETA_TRUE)\n",
    "    print(f'theta_true : {THETA_TRUE}')\n",
    "    print(f'theta_pred : {theta_pred}')\n",
    "    print(f'theta_loss : {theta_loss:.3e}')\n",
    "    savetxt(os.path.join(results_save_dir, 'theta_loss.txt'), jnp.array([theta_loss]))"
   ]
  },
  {
   "cell_type": "markdown",
   "id": "a6f288da-d6ea-4be6-9801-eef294e42009",
   "metadata": {},
   "source": [
    "### Plots of posterior prediction"
   ]
  },
  {
   "cell_type": "code",
   "execution_count": 18,
   "id": "300170da-c0f6-4f85-bb9c-d1b884a4d0bf",
   "metadata": {
    "execution": {
     "iopub.execute_input": "2024-10-15T14:26:16.087570Z",
     "iopub.status.busy": "2024-10-15T14:26:16.087455Z",
     "iopub.status.idle": "2024-10-15T14:26:17.159289Z",
     "shell.execute_reply": "2024-10-15T14:26:17.158737Z",
     "shell.execute_reply.started": "2024-10-15T14:26:16.087560Z"
    }
   },
   "outputs": [
    {
     "data": {
      "image/png": "[encoded data removed]",
      "text/plain": [
       "<Figure size 1000x600 with 8 Axes>"
      ]
     },
     "metadata": {},
     "output_type": "display_data"
    }
   ],
   "source": [
    "fig, axes = plt.subplots(nrows=2, ncols=2, figsize=TWO_BY_TWO_FIGSIZE)\n",
    "\n",
    "Nx = len(jnp.unique(test_data.Xs[:,0]))\n",
    "Nt = len(jnp.unique(test_data.Xs[:,1]))\n",
    "\n",
    "Xu, Xf = train_data.Xtrain\n",
    "\n",
    "make_heatmap_wave = lambda ax, output, title=None: make_heatmap(fig, ax, output.reshape(Nt,Nx).T, test_data, Xu, Xf, title)\n",
    "\n",
    "make_heatmap_wave(axes[0,0], test_data.us, title='u_true')\n",
    "make_heatmap_wave(axes[0,1], mu, title=f'u_pred, {GP_TYPE}')\n",
    "make_heatmap_wave(axes[1,0], abs_losses, title=f'err_u (mean = {abs_losses.mean():.3e})')\n",
    "make_heatmap_wave(axes[1,1], s, title=f'u_pred std')\n",
    "\n",
    "fig.tight_layout()\n",
    "\n",
    "plt.savefig(os.path.join(results_save_dir, 'posteriorPrediction.pdf'))"
   ]
  }
 ],
 "metadata": {
  "kernelspec": {
   "display_name": "Python 3 (ipykernel)",
   "language": "python",
   "name": "python3"
  },
  "language_info": {
   "codemirror_mode": {
    "name": "ipython",
    "version": 3
   },
   "file_extension": ".py",
   "mimetype": "text/x-python",
   "name": "python",
   "nbconvert_exporter": "python",
   "pygments_lexer": "ipython3",
   "version": "3.12.4"
  }
 },
 "nbformat": 4,
 "nbformat_minor": 5
}
