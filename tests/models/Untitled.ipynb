{
 "cells": [
  {
   "cell_type": "markdown",
   "id": "769134c6-b736-45ec-8a4b-8cad0d2c955a",
   "metadata": {},
   "source": [
    "# "
   ]
  },
  {
   "cell_type": "code",
   "execution_count": 1,
   "id": "ed0cb89e-3adf-4f56-a126-48516100927b",
   "metadata": {
    "execution": {
     "iopub.execute_input": "2024-05-11T11:11:35.667169Z",
     "iopub.status.busy": "2024-05-11T11:11:35.666978Z",
     "iopub.status.idle": "2024-05-11T11:11:35.830306Z",
     "shell.execute_reply": "2024-05-11T11:11:35.826958Z",
     "shell.execute_reply.started": "2024-05-11T11:11:35.667147Z"
    }
   },
   "outputs": [
    {
     "name": "stdout",
     "output_type": "stream",
     "text": [
      "* \u001b[32mblack-env\u001b[m\n",
      "  develop\u001b[m\n",
      "  develop-actual\u001b[m\n",
      "  develop-newest\u001b[m\n",
      "  main\u001b[m\n"
     ]
    }
   ],
   "source": [
    "! git branch"
   ]
  },
  {
   "cell_type": "code",
   "execution_count": 2,
   "id": "0b4c3354-d041-4e15-bebe-91dd88d7b99e",
   "metadata": {
    "execution": {
     "iopub.execute_input": "2024-05-11T11:11:38.801937Z",
     "iopub.status.busy": "2024-05-11T11:11:38.800281Z",
     "iopub.status.idle": "2024-05-11T11:11:57.540287Z",
     "shell.execute_reply": "2024-05-11T11:11:57.536406Z",
     "shell.execute_reply.started": "2024-05-11T11:11:38.801810Z"
    }
   },
   "outputs": [
    {
     "name": "stderr",
     "output_type": "stream",
     "text": [
      "2024-05-11 12:11:55.920360: W external/xla/xla/service/gpu/nvptx_compiler.cc:760] The NVIDIA driver's CUDA version is 12.0 which is older than the ptxas CUDA version (12.4.131). Because the driver is older than the ptxas version, XLA is disabling parallel compilation, which may slow down compilation. You should update your NVIDIA driver or use the NVIDIA-provided CUDA forward compatibility packages.\n"
     ]
    }
   ],
   "source": [
    "import sys\n",
    "sys.path.append('../../')\n",
    "\n",
    "from sklearn.gaussian_process import GaussianProcessRegressor\n",
    "from sklearn.gaussian_process.kernels import RBF\n",
    "\n",
    "from jax import config, random, scipy, vmap\n",
    "import jax.numpy as jnp\n",
    "from jax.scipy import linalg\n",
    "config.update(\"jax_enable_x64\", True)\n",
    "\n",
    "from tensorflow_probability.substrates import jax as tfp\n",
    "triangle_transform = tfp.bijectors.FillScaleTriL(diag_shift=None)\n",
    "\n",
    "import jax_pigp\n",
    "from jax_pigp.models import GPR\n",
    "from jax_pigp.utility_fns import softplus, add_noise"
   ]
  },
  {
   "cell_type": "code",
   "execution_count": 2,
   "id": "aa6b3c98-6545-4507-9e3f-e1d087fb79b3",
   "metadata": {
    "execution": {
     "iopub.execute_input": "2024-05-10T11:37:12.934738Z",
     "iopub.status.busy": "2024-05-10T11:37:12.933735Z",
     "iopub.status.idle": "2024-05-10T11:37:14.172129Z",
     "shell.execute_reply": "2024-05-10T11:37:14.170855Z",
     "shell.execute_reply.started": "2024-05-10T11:37:12.934692Z"
    }
   },
   "outputs": [],
   "source": [
    "import matplotlib.pyplot as plt"
   ]
  },
  {
   "cell_type": "code",
   "execution_count": 4,
   "id": "8d60424b-e9d0-46f3-9a0c-c263f353a79f",
   "metadata": {
    "execution": {
     "iopub.execute_input": "2024-05-09T19:56:30.727600Z",
     "iopub.status.busy": "2024-05-09T19:56:30.726479Z",
     "iopub.status.idle": "2024-05-09T19:56:30.740159Z",
     "shell.execute_reply": "2024-05-09T19:56:30.738865Z",
     "shell.execute_reply.started": "2024-05-09T19:56:30.727553Z"
    }
   },
   "outputs": [],
   "source": [
    "identity_trans = lambda f, a=1: f\n",
    "lin_ops = [identity_trans]\n",
    "mean_fn = lambda p,x: x[0]*0.\n",
    "kernel_fn = jax_pigp.kernels.squared_exponential\n",
    "\n",
    "heat_kernel_fns = jax_pigp.interdomain_moments.InterdomainKernelFns(kernel_fn, lin_ops)\n",
    "heat_mean_fns   = jax_pigp.interdomain_moments.InterdomainMeanFns(mean_fn,     lin_ops)\n",
    "\n",
    "gp_model = jax_pigp.models.GPR(heat_kernel_fns, heat_mean_fns)"
   ]
  },
  {
   "cell_type": "code",
   "execution_count": 5,
   "id": "36a5e4e7-0f62-4007-9195-e9b4580603ea",
   "metadata": {
    "execution": {
     "iopub.execute_input": "2024-05-09T19:56:30.742120Z",
     "iopub.status.busy": "2024-05-09T19:56:30.741724Z",
     "iopub.status.idle": "2024-05-09T19:56:32.804394Z",
     "shell.execute_reply": "2024-05-09T19:56:32.802052Z",
     "shell.execute_reply.started": "2024-05-09T19:56:30.742086Z"
    }
   },
   "outputs": [
    {
     "ename": "NameError",
     "evalue": "name 'Xu' is not defined",
     "output_type": "error",
     "traceback": [
      "\u001b[0;31m---------------------------------------------------------------------------\u001b[0m",
      "\u001b[0;31mNameError\u001b[0m                                 Traceback (most recent call last)",
      "Cell \u001b[0;32mIn[5], line 1\u001b[0m\n\u001b[0;32m----> 1\u001b[0m train_data \u001b[38;5;241m=\u001b[39m jax_pigp\u001b[38;5;241m.\u001b[39mdatasets\u001b[38;5;241m.\u001b[39mTrainDataLinearPDE([\u001b[43mXu\u001b[49m], [yu])\n",
      "\u001b[0;31mNameError\u001b[0m: name 'Xu' is not defined"
     ]
    }
   ],
   "source": [
    "train_data = jax_pigp.datasets.TrainDataLinearPDE([Xu], [yu])"
   ]
  },
  {
   "cell_type": "code",
   "execution_count": null,
   "id": "b17a62b1-030d-4b37-b249-b93c722337bf",
   "metadata": {
    "execution": {
     "iopub.status.busy": "2024-05-09T19:56:32.805898Z",
     "iopub.status.idle": "2024-05-09T19:56:32.806703Z",
     "shell.execute_reply": "2024-05-09T19:56:32.806488Z",
     "shell.execute_reply.started": "2024-05-09T19:56:32.806465Z"
    }
   },
   "outputs": [],
   "source": [
    "params = {}\n",
    "params['amp'] = softplus(a, inv=True)\n",
    "params['ls']  = softplus(b, inv=True)\n",
    "params['noise_std'] = softplus(jnp.array([float(std_noise)]), inv=True)\n",
    "params"
   ]
  },
  {
   "cell_type": "code",
   "execution_count": null,
   "id": "c22dbff8-68e2-4645-ad42-d61486add02e",
   "metadata": {
    "execution": {
     "iopub.status.busy": "2024-05-09T19:56:32.808030Z",
     "iopub.status.idle": "2024-05-09T19:56:32.808747Z",
     "shell.execute_reply": "2024-05-09T19:56:32.808550Z",
     "shell.execute_reply.started": "2024-05-09T19:56:32.808527Z"
    }
   },
   "outputs": [],
   "source": [
    "for aaa in params:\n",
    "    print(softplus(params[aaa]))"
   ]
  },
  {
   "cell_type": "code",
   "execution_count": null,
   "id": "ce0bf4e1-7571-4db2-adea-a2c3264aa833",
   "metadata": {
    "execution": {
     "iopub.status.busy": "2024-05-09T19:56:32.809938Z",
     "iopub.status.idle": "2024-05-09T19:56:32.811292Z",
     "shell.execute_reply": "2024-05-09T19:56:32.810396Z",
     "shell.execute_reply.started": "2024-05-09T19:56:32.810374Z"
    }
   },
   "outputs": [],
   "source": [
    "gp_model.log_marginal_likelihood(params, train_data)"
   ]
  },
  {
   "cell_type": "code",
   "execution_count": null,
   "id": "cff7e575-2675-4e44-952a-910a824a2d07",
   "metadata": {
    "execution": {
     "iopub.status.busy": "2024-05-09T19:56:32.812645Z",
     "iopub.status.idle": "2024-05-09T19:56:32.813312Z",
     "shell.execute_reply": "2024-05-09T19:56:32.813127Z",
     "shell.execute_reply.started": "2024-05-09T19:56:32.813106Z"
    }
   },
   "outputs": [],
   "source": [
    "p_mean, p_cov = gp_model.posterior_predict(params, train_data, Xs)\n",
    "p_cov = jnp.diag(p_cov)\n",
    "p_mean = p_mean[:,0]"
   ]
  },
  {
   "cell_type": "code",
   "execution_count": null,
   "id": "3a43fdb1-dbf1-45c4-9a05-c55929654b97",
   "metadata": {
    "execution": {
     "iopub.status.busy": "2024-05-09T19:56:32.814486Z",
     "iopub.status.idle": "2024-05-09T19:56:32.815232Z",
     "shell.execute_reply": "2024-05-09T19:56:32.815044Z",
     "shell.execute_reply.started": "2024-05-09T19:56:32.815023Z"
    }
   },
   "outputs": [],
   "source": [
    "jnp.abs(p_mean - mean_prediction).max(), jnp.abs(p_cov - std_prediction**2).max()"
   ]
  },
  {
   "cell_type": "code",
   "execution_count": null,
   "id": "9427da90-9946-4f75-b54e-621f8c14c635",
   "metadata": {},
   "outputs": [],
   "source": []
  },
  {
   "cell_type": "code",
   "execution_count": null,
   "id": "3d7be00a-81c5-4a44-8f6a-53e3b53995aa",
   "metadata": {
    "execution": {
     "iopub.status.busy": "2024-05-09T19:56:32.816439Z",
     "iopub.status.idle": "2024-05-09T19:56:32.817077Z",
     "shell.execute_reply": "2024-05-09T19:56:32.816891Z",
     "shell.execute_reply.started": "2024-05-09T19:56:32.816871Z"
    }
   },
   "outputs": [],
   "source": [
    "jnp.allclose(p_mean, mean_prediction, rtol=1e-4)\n",
    "\n",
    "jnp.abs(1 - p_mean/mean_prediction).max()"
   ]
  },
  {
   "cell_type": "code",
   "execution_count": 3,
   "id": "b30ff341-4993-4747-aa97-29c096eb9001",
   "metadata": {
    "execution": {
     "iopub.execute_input": "2024-05-11T11:11:57.546113Z",
     "iopub.status.busy": "2024-05-11T11:11:57.544910Z",
     "iopub.status.idle": "2024-05-11T11:11:57.594060Z",
     "shell.execute_reply": "2024-05-11T11:11:57.592209Z",
     "shell.execute_reply.started": "2024-05-11T11:11:57.546060Z"
    }
   },
   "outputs": [],
   "source": [
    "\n",
    "# slight numerical differences exist between the jax_pigp and sklearn results\n",
    "SK_TOL = 1e-3\n",
    "\n",
    "NUGGET = 1e-7\n",
    "PSGP_TOL = 1e-6\n",
    "\n",
    "def gen_data(data_opt):\n",
    "    \n",
    "    base_key = random.PRNGKey(data_opt['rng_seed'])\n",
    "    \n",
    "    s1, s2, s3 = random.split(base_key, 3)\n",
    "    \n",
    "    lb, ub = data_opt['domain']\n",
    "    \n",
    "    u_fn_vmap = vmap(data_opt['u_fn'])\n",
    "    \n",
    "    Xs = random.uniform(s1, minval=jnp.array(lb), maxval=jnp.array(ub), shape=(data_opt['Ntest'],len(ub)))\n",
    "\n",
    "    us = u_fn_vmap(Xs)\n",
    "    std_noise = jnp.std(us)*data_opt['noise_perc']\n",
    "    obs_noise = random.normal(s2, shape=(data_opt['Ntrain'],1))*std_noise\n",
    "    \n",
    "    Xu = random.uniform(s3, minval=jnp.array(lb), maxval=jnp.array(ub), shape=(data_opt['Ntrain'],len(ub)))\n",
    "    yu = u_fn_vmap(Xu).reshape(-1,1) + obs_noise\n",
    "\n",
    "    return Xu, yu, Xs, std_noise\n",
    "\n",
    "\n",
    "def sklearn_jax_comparison(data_opt):\n",
    "    \n",
    "    # generate simulation data\n",
    "    Xu, yu, Xs, std_noise = gen_data(data_opt)\n",
    "\n",
    "    ## sklearn code\n",
    "    \n",
    "    # initialise sklearn GP\n",
    "    sklearn_kernel = 1 * RBF(length_scale=1.0, length_scale_bounds=(1e-2, 1e2))\n",
    "    sklearn_gp     = GaussianProcessRegressor(kernel=sklearn_kernel, alpha=float(std_noise)**2, n_restarts_optimizer=9)\n",
    "    \n",
    "    # fit to training data\n",
    "    sklearn_gp.fit(Xu, yu)\n",
    "    \n",
    "    # save trained hyper-parameter values (converted from log scale)\n",
    "    sklearn_params = jnp.exp(sklearn_gp.kernel_.theta)\n",
    "    \n",
    "    # compute log ml value\n",
    "    sklearn_obj = sklearn_gp.log_marginal_likelihood_value_\n",
    "    \n",
    "    # predict on test data\n",
    "    sklearn_mean, sklearn_std = sklearn_gp.predict(Xs, return_std=True)\n",
    "    \n",
    "    ## jax_pigp code\n",
    "    \n",
    "    # initialise jax_pigp params\n",
    "    params = {}\n",
    "    params['amp'] = softplus(sklearn_params[0], inv=True)\n",
    "    params['ls']  = softplus(sklearn_params[1], inv=True)\n",
    "    params['noise_std'] = softplus(jnp.array([float(std_noise)]), inv=True)\n",
    "    \n",
    "    # intialise jax_pigp gp\n",
    "    identity_trans = lambda f, a=1: f\n",
    "    lin_ops = [identity_trans]\n",
    "    mean_fn = lambda p,x: 0.\n",
    "    kernel_fn = jax_pigp.kernels.squared_exponential\n",
    "    heat_kernel_fns = jax_pigp.interdomain_moments.InterdomainKernelFns(kernel_fn, lin_ops)\n",
    "    heat_mean_fns   = jax_pigp.interdomain_moments.InterdomainMeanFns(mean_fn,     lin_ops)\n",
    "    gp_model = jax_pigp.models.GPR(heat_kernel_fns, heat_mean_fns)\n",
    "    \n",
    "    # store simulation data in training dataset\n",
    "    train_data = jax_pigp.datasets.TrainDataLinearPDE([Xu], [yu])\n",
    "    \n",
    "    # compute log ml value\n",
    "    jax_obj = gp_model.log_marginal_likelihood(params, train_data)\n",
    "    \n",
    "    # predict on test set\n",
    "    jax_mean, jax_cov = gp_model.posterior_predict(params, train_data, Xs)\n",
    "    jax_cov = jnp.diag(jax_cov)\n",
    "    jax_mean = jax_mean[:,0]\n",
    "    \n",
    "    ## compare results\n",
    "    assert jnp.allclose(jax_obj, sklearn_obj, rtol=SK_TOL)\n",
    "    assert jnp.allclose(jax_mean, sklearn_mean, atol=SK_TOL)\n",
    "    assert jnp.allclose(jax_cov**.5, sklearn_std, atol=SK_TOL)\n",
    "\n",
    "\n",
    "def get_true_var_params(noise_var, Khh, Kyy, err):\n",
    "    \n",
    "    # prior covariance\n",
    "    Lhh = linalg.cholesky(Khh, lower=True)\n",
    "     \n",
    "    Lyy           = linalg.cholesky(Kyy, lower=True)\n",
    "    Lyyinv_Khh      = linalg.solve_triangular(Lyy, Khh, lower=True)\n",
    "    Kyyinv_Khh = linalg.solve_triangular(Lyy.T, Lyyinv_Khh, lower=False)\n",
    "    \n",
    "    posterior_mean = jnp.matmul(Kyyinv_Khh.T, err)\n",
    "    posterior_cov  = Khh - jnp.matmul(Khh, Kyyinv_Khh)\n",
    "    A_true = linalg.cholesky(posterior_cov, lower=True)\n",
    "    \n",
    "    a_whitened_true = linalg.solve_triangular(Lhh, posterior_mean, lower=True)\n",
    "    A_whitened_true = linalg.solve_triangular(Lhh, A_true, lower=True)\n",
    "\n",
    "    return a_whitened_true, A_whitened_true \n",
    "\n",
    "def psgp_test_fn(data_opt: dict) -> None:\n",
    "    \n",
    "    # generate simulation data\n",
    "    X, y, Xs, std_noise = gen_data(data_opt)\n",
    "    \n",
    "    Ntrain = X.shape[0]//3\n",
    "    Xu, yu = X[:Ntrain], y[:Ntrain]\n",
    "    Xf, yf = X[Ntrain:], y[Ntrain:]\n",
    "    \n",
    "    D = Xu.shape[1]\n",
    "    \n",
    "    # initialise jax_pigp params\n",
    "    params_init = {}\n",
    "    params_init['amp'] = softplus(1., inv=True)\n",
    "    params_init['ls']  = softplus(jnp.array([1.]*D), inv=True)\n",
    "    params_init['noise_std'] = softplus(jnp.array([float(std_noise)]*3)*5., inv=True)\n",
    "    \n",
    "    identity_trans = lambda f, a=1: f\n",
    "    lin_ops = [identity_trans]*2\n",
    "    mean_fn = lambda p,x: (x[0]/2.).squeeze()\n",
    "    kernel_fn = jax_pigp.kernels.squared_exponential\n",
    "    kernel_fns = jax_pigp.interdomain_moments.InterdomainKernelFns(kernel_fn, lin_ops)\n",
    "    mean_fns   = jax_pigp.interdomain_moments.InterdomainMeanFns(mean_fn,     lin_ops)\n",
    "    \n",
    "    # intialise jax_pigp gp\n",
    "    exact_gp = jax_pigp.models.GPR(kernel_fns, mean_fns, nugget=NUGGET)\n",
    "    \n",
    "    # store simulation data in training dataset\n",
    "    train_data = jax_pigp.datasets.TrainDataLinearPDE([Xu, Xf], [yu, yf])\n",
    "    \n",
    "    # compute log ml value\n",
    "    exact_obj = exact_gp.log_marginal_likelihood(params_init, train_data)\n",
    "    \n",
    "    # predict on test set\n",
    "    exact_mean, exact_cov = exact_gp.posterior_predict(params_init, train_data, Xs)\n",
    "    \n",
    "    # create psgp\n",
    "    N_Lf = 1\n",
    "    F = lambda p, d: d[0]\n",
    "    train_data_approx = jax_pigp.datasets.TrainDataNonLinearPDE([Xu,Xf, Xf[:0]], [yu,yf, None], [Xu.shape[0], Xf.shape[0],0])\n",
    "    approx_gp = jax_pigp.models.PSGP(kernel_fns, mean_fns, F, N_Lf, nugget=NUGGET)\n",
    "    \n",
    "    # compute true value of variational parameters given F is identity transformation\n",
    "    noise_var = softplus(params_init['noise_std'])**2\n",
    "    Khh = kernel_fns.get_Khh(params_init, train_data.Xtrain)\n",
    "    Khh += jnp.eye(Khh.shape[0])*NUGGET\n",
    "    Kyy = add_noise(Khh, noise_var, train_data.space_indicator)\n",
    "    err = train_data.ytrain - mean_fns.get_mh(None, train_data.Xtrain)\n",
    "    a_whitened_true, A_whitened_true = get_true_var_params(noise_var, Khh, Kyy, err)\n",
    "    \n",
    "    # write to parameter dict\n",
    "    params_init['a_whitened']    =  a_whitened_true\n",
    "    params_init['A_whitened_vec'] = triangle_transform.inverse(A_whitened_true)\n",
    "    \n",
    "    # predict on test set with psgp\n",
    "    approx_mean, approx_cov = approx_gp.posterior_predict(params_init, train_data_approx, Xs)\n",
    "\n",
    "    assert jnp.allclose(exact_mean, approx_mean, atol=PSGP_TOL) \n",
    "    assert jnp.allclose(exact_cov, approx_cov, atol=PSGP_TOL) \n",
    "\n",
    "\n"
   ]
  },
  {
   "cell_type": "code",
   "execution_count": 49,
   "id": "4c532035-bc1d-4814-b124-915cff8a4c5e",
   "metadata": {
    "execution": {
     "iopub.execute_input": "2024-05-10T13:09:47.752376Z",
     "iopub.status.busy": "2024-05-10T13:09:47.751981Z",
     "iopub.status.idle": "2024-05-10T13:10:16.705681Z",
     "shell.execute_reply": "2024-05-10T13:10:16.703460Z",
     "shell.execute_reply.started": "2024-05-10T13:09:47.752343Z"
    }
   },
   "outputs": [],
   "source": [
    "test_gpr3D()"
   ]
  },
  {
   "cell_type": "code",
   "execution_count": 50,
   "id": "128b094c-53b0-4d9b-910a-16c75af6cabf",
   "metadata": {
    "execution": {
     "iopub.execute_input": "2024-05-10T13:10:16.710589Z",
     "iopub.status.busy": "2024-05-10T13:10:16.708276Z",
     "iopub.status.idle": "2024-05-10T13:10:16.739290Z",
     "shell.execute_reply": "2024-05-10T13:10:16.738355Z",
     "shell.execute_reply.started": "2024-05-10T13:10:16.710545Z"
    }
   },
   "outputs": [],
   "source": [
    "R_TOL = 1e-3\n",
    "\n",
    "def test_gpr1D() -> None:\n",
    "    data_opt1D = {}\n",
    "    data_opt1D['rng_seed'] = 0\n",
    "    data_opt1D['Ntrain']   = 20\n",
    "    data_opt1D['Ntest']    = 100\n",
    "    data_opt1D['u_fn'] = lambda x: x*jnp.sin(x*jnp.pi)\n",
    "    data_opt1D['u_fn'] = lambda x: x**2#jnp.sin(x*jnp.pi)\n",
    "    data_opt1D['domain'] = [[0],[1]]\n",
    "    data_opt1D['noise_perc'] = 0.1\n",
    "\n",
    "    sklearn_jax_comparison(data_opt1D)\n",
    "\n",
    "def test_gpr3D() -> None:\n",
    "    data_opt3D = {}\n",
    "    data_opt3D['rng_seed'] = 0\n",
    "    data_opt3D['Ntrain']   = 200\n",
    "    data_opt3D['Ntest']    = 250\n",
    "    data_opt3D['u_fn'] = lambda x: x[0]**2 + x[1]*x[2] + x[1] \n",
    "    data_opt3D['domain'] = [[0., -1., 1.],[1., 1., 2.]]\n",
    "    data_opt3D['noise_perc'] = 0.55\n",
    "\n",
    "    sklearn_jax_comparison(data_opt3D)\n",
    "\n",
    "\n",
    "def test_psgp1D() -> None:\n",
    "    \n",
    "    data_opt1D = {}\n",
    "    data_opt1D['rng_seed'] = 0\n",
    "    data_opt1D['Ntrain']   = 101\n",
    "    data_opt1D['Ntest']    = 202\n",
    "    data_opt1D['u_fn'] = lambda x: x*jnp.sin(x*jnp.pi)\n",
    "    data_opt1D['u_fn'] = lambda x: x**2#jnp.sin(x*jnp.pi)\n",
    "    data_opt1D['domain'] = [[0],[1]]\n",
    "    data_opt1D['noise_perc'] = 0.1\n",
    "\n",
    "    psgp_test_fn(data_opt1D)\n",
    "    \n",
    "def test_psgp4D() -> None:\n",
    "\n",
    "    data_opt4D = {}\n",
    "    data_opt4D['rng_seed'] = 0\n",
    "    data_opt4D['Ntrain']   = 201\n",
    "    data_opt4D['Ntest']    = 250\n",
    "    data_opt4D['u_fn'] = lambda x: x[0]**2 + x[1]*x[2] + x[1]*x[3] + x[0]\n",
    "    data_opt4D['domain'] = [[0., -1., 1., 0.],[1., 1., 2., 2.]]\n",
    "    data_opt4D['noise_perc'] = 0.25\n",
    "    \n",
    "    psgp_test_fn(data_opt4D)\n",
    "\n",
    "\n",
    "# test_gpr1D()\n",
    "# test_gpr3D()\n"
   ]
  },
  {
   "cell_type": "code",
   "execution_count": 51,
   "id": "7b5089ab-a996-4fa7-9b13-93831748f5c1",
   "metadata": {
    "execution": {
     "iopub.execute_input": "2024-05-10T13:10:16.742200Z",
     "iopub.status.busy": "2024-05-10T13:10:16.740979Z",
     "iopub.status.idle": "2024-05-10T13:10:16.779293Z",
     "shell.execute_reply": "2024-05-10T13:10:16.778361Z",
     "shell.execute_reply.started": "2024-05-10T13:10:16.742168Z"
    }
   },
   "outputs": [
    {
     "data": {
      "text/plain": [
       "((0, 1), (2, 1), (0, 1), (2, 1))"
      ]
     },
     "execution_count": 51,
     "metadata": {},
     "output_type": "execute_result"
    }
   ],
   "source": [
    "Xu.shape, Xf.shape, yu.shape, yf.shape"
   ]
  },
  {
   "cell_type": "code",
   "execution_count": 52,
   "id": "ccc58a51-09e8-49b8-854e-219b7811e906",
   "metadata": {
    "execution": {
     "iopub.execute_input": "2024-05-10T13:10:16.781784Z",
     "iopub.status.busy": "2024-05-10T13:10:16.781140Z",
     "iopub.status.idle": "2024-05-10T13:10:16.791451Z",
     "shell.execute_reply": "2024-05-10T13:10:16.790475Z",
     "shell.execute_reply.started": "2024-05-10T13:10:16.781744Z"
    }
   },
   "outputs": [
    {
     "data": {
      "text/plain": [
       "((2, 1), (2, 1))"
      ]
     },
     "execution_count": 52,
     "metadata": {},
     "output_type": "execute_result"
    }
   ],
   "source": [
    "mean_fns.get_mh(params_init, train_data.Xtrain).shape, train_data.ytrain.shape"
   ]
  },
  {
   "cell_type": "code",
   "execution_count": null,
   "id": "8bd217d0-26cb-4ab4-81b8-122ea902c4ef",
   "metadata": {},
   "outputs": [],
   "source": [
    "\n",
    "\n",
    "\n"
   ]
  },
  {
   "cell_type": "code",
   "execution_count": 53,
   "id": "6e3e9720-36b2-4943-9b8d-f3cd4748eaff",
   "metadata": {
    "execution": {
     "iopub.execute_input": "2024-05-10T13:10:16.793422Z",
     "iopub.status.busy": "2024-05-10T13:10:16.792867Z",
     "iopub.status.idle": "2024-05-10T13:10:32.435723Z",
     "shell.execute_reply": "2024-05-10T13:10:32.434445Z",
     "shell.execute_reply.started": "2024-05-10T13:10:16.793387Z"
    },
    "scrolled": true
   },
   "outputs": [],
   "source": [
    "test_psgp1D()\n",
    "test_psgp4D()"
   ]
  },
  {
   "cell_type": "code",
   "execution_count": 17,
   "id": "06f2dc5e-2fc2-4537-9afb-156be7a1fe6d",
   "metadata": {
    "execution": {
     "iopub.execute_input": "2024-05-10T12:57:02.503001Z",
     "iopub.status.busy": "2024-05-10T12:57:02.502618Z",
     "iopub.status.idle": "2024-05-10T12:57:03.095395Z",
     "shell.execute_reply": "2024-05-10T12:57:03.094368Z",
     "shell.execute_reply.started": "2024-05-10T12:57:02.502972Z"
    }
   },
   "outputs": [
    {
     "name": "stdout",
     "output_type": "stream",
     "text": [
      "[[0.83217632]\n",
      " [0.56171031]]\n",
      "[[0.41181088]\n",
      " [0.27898764]]\n",
      "[[0.41181088]\n",
      " [0.27898764]]\n"
     ]
    }
   ],
   "source": [
    "data_opt = {}\n",
    "data_opt['rng_seed'] = 0\n",
    "data_opt['Ntrain']   = 2\n",
    "data_opt['Ntest']    = 2\n",
    "data_opt['u_fn'] = lambda x: x*jnp.sin(x*jnp.pi)\n",
    "data_opt['u_fn'] = lambda x: x**2#jnp.sin(x*jnp.pi)\n",
    "data_opt['domain'] = [[0],[1]]\n",
    "data_opt['noise_perc'] = 0.1\n",
    "\n",
    "# generate simulation data\n",
    "X, y, Xs, std_noise = gen_data(data_opt)\n",
    "\n",
    "Ntrain = X.shape[0]//3\n",
    "Xu, yu = X[:Ntrain], y[:Ntrain]\n",
    "Xf, yf = X[Ntrain:], y[Ntrain:]\n",
    "\n",
    "D = Xu.shape[1]\n",
    "\n",
    "# initialise jax_pigp params\n",
    "params_init = {}\n",
    "params_init['amp'] = softplus(1., inv=True)\n",
    "params_init['ls']  = softplus(jnp.array([1.]*D), inv=True)\n",
    "params_init['noise_std'] = softplus(jnp.array([float(std_noise)]*3)*5., inv=True)\n",
    "\n",
    "identity_trans = lambda f, a=1: f\n",
    "lin_ops = [identity_trans]*2\n",
    "mean_fn = lambda p,x: 0.#(x[0]/200.).squeeze()\n",
    "kernel_fn = jax_pigp.kernels.squared_exponential\n",
    "kernel_fns = jax_pigp.interdomain_moments.InterdomainKernelFns(kernel_fn, lin_ops)\n",
    "mean_fns   = jax_pigp.interdomain_moments.InterdomainMeanFns(mean_fn,     lin_ops)\n",
    "\n",
    "# intialise jax_pigp gp\n",
    "exact_gp = jax_pigp.models.GPR(kernel_fns, mean_fns, nugget=NUGGET)\n",
    "\n",
    "# store simulation data in training dataset\n",
    "train_data = jax_pigp.datasets.TrainDataLinearPDE([Xu, Xf], [yu, yf])\n",
    "\n",
    "# compute log ml value\n",
    "exact_obj = exact_gp.log_marginal_likelihood(params_init, train_data)\n",
    "\n",
    "# predict on test set\n",
    "exact_mean, exact_cov = exact_gp.posterior_predict(params_init, train_data, Xs)\n",
    "\n",
    "# create psgp\n",
    "N_Lf = 1\n",
    "F = lambda p, d: d[0]\n",
    "train_data_approx = jax_pigp.datasets.TrainDataNonLinearPDE([Xu,Xf, Xf[:0]], [yu,yf, None], [Xu.shape[0], Xf.shape[0],0])\n",
    "approx_gp = jax_pigp.models.PSGP(kernel_fns, mean_fns, F, N_Lf, nugget=NUGGET)\n",
    "\n",
    "# compute true value of variational parameters given F is identity transformation\n",
    "noise_var = softplus(params_init['noise_std'])**2\n",
    "Khh = kernel_fns.get_Khh(params_init, train_data.Xtrain)\n",
    "Khh += jnp.eye(Khh.shape[0])*NUGGET\n",
    "Kyy = add_noise(Khh, noise_var, train_data.space_indicator)\n",
    "mh = mean_fns.get_mh(None, train_data.Xtrain)\n",
    "err = train_data.ytrain - mh\n",
    "a_whitened_true, A_whitened_true = get_true_var_params(noise_var, Khh, Kyy, mh, err)\n",
    "\n",
    "# write to parameter dict\n",
    "params_init['a_whitened']    =  a_whitened_true\n",
    "params_init['A_whitened_vec'] = triangle_transform.inverse(A_whitened_true)\n",
    "\n",
    "# predict on test set with psgp\n",
    "approx_mean, approx_cov = approx_gp.posterior_predict(params_init, train_data_approx, Xs)\n",
    "\n",
    "print(Xs)\n",
    "print(exact_mean)\n",
    "print(approx_mean)\n",
    "\n",
    "assert jnp.allclose(exact_mean, approx_mean, atol=PSGP_TOL) \n",
    "assert jnp.allclose(exact_cov, approx_cov, atol=PSGP_TOL) "
   ]
  },
  {
   "cell_type": "code",
   "execution_count": 13,
   "id": "3a1e3c06-d513-4b1e-848f-14f2dbfa7753",
   "metadata": {
    "execution": {
     "iopub.execute_input": "2024-05-10T12:45:10.759898Z",
     "iopub.status.busy": "2024-05-10T12:45:10.759522Z",
     "iopub.status.idle": "2024-05-10T12:45:10.766042Z",
     "shell.execute_reply": "2024-05-10T12:45:10.765251Z",
     "shell.execute_reply.started": "2024-05-10T12:45:10.759868Z"
    }
   },
   "outputs": [
    {
     "data": {
      "text/plain": [
       "(Array([[0.41250468],\n",
       "        [0.27914897]], dtype=float64),\n",
       " Array([[0.41633993],\n",
       "        [0.28195026]], dtype=float64))"
      ]
     },
     "execution_count": 13,
     "metadata": {},
     "output_type": "execute_result"
    }
   ],
   "source": [
    "exact_mean, approx_mean"
   ]
  },
  {
   "cell_type": "code",
   "execution_count": 14,
   "id": "96b6968f-4293-4bce-a2c5-751d38cdcaf6",
   "metadata": {
    "execution": {
     "iopub.execute_input": "2024-05-10T12:45:12.094372Z",
     "iopub.status.busy": "2024-05-10T12:45:12.093989Z",
     "iopub.status.idle": "2024-05-10T12:45:12.408380Z",
     "shell.execute_reply": "2024-05-10T12:45:12.407377Z",
     "shell.execute_reply.started": "2024-05-10T12:45:12.094340Z"
    }
   },
   "outputs": [
    {
     "data": {
      "text/plain": [
       "(Array(0.00416088, dtype=float64), Array([0.83217632], dtype=float64))"
      ]
     },
     "execution_count": 14,
     "metadata": {},
     "output_type": "execute_result"
    }
   ],
   "source": [
    "mean_fn(None, Xs[0]), Xs[0]"
   ]
  },
  {
   "cell_type": "code",
   "execution_count": 15,
   "id": "53486df2-7c66-4d6a-85e9-74b1549aa958",
   "metadata": {
    "execution": {
     "iopub.execute_input": "2024-05-10T12:45:13.240892Z",
     "iopub.status.busy": "2024-05-10T12:45:13.240431Z",
     "iopub.status.idle": "2024-05-10T12:45:13.250750Z",
     "shell.execute_reply": "2024-05-10T12:45:13.249953Z",
     "shell.execute_reply.started": "2024-05-10T12:45:13.240858Z"
    }
   },
   "outputs": [
    {
     "data": {
      "text/plain": [
       "(Array([[0.04382416, 0.01575015],\n",
       "        [0.01575015, 0.0089601 ]], dtype=float64),\n",
       " Array([[0.04382416, 0.01575015],\n",
       "        [0.01575015, 0.0089601 ]], dtype=float64))"
      ]
     },
     "execution_count": 15,
     "metadata": {},
     "output_type": "execute_result"
    }
   ],
   "source": [
    "exact_cov, approx_cov"
   ]
  },
  {
   "cell_type": "code",
   "execution_count": 37,
   "id": "7be6923c-1c77-4d3f-a1f5-c361d78ed1c5",
   "metadata": {
    "execution": {
     "iopub.execute_input": "2024-05-10T12:08:19.532949Z",
     "iopub.status.busy": "2024-05-10T12:08:19.532493Z",
     "iopub.status.idle": "2024-05-10T12:08:19.539469Z",
     "shell.execute_reply": "2024-05-10T12:08:19.538628Z",
     "shell.execute_reply.started": "2024-05-10T12:08:19.532916Z"
    }
   },
   "outputs": [],
   "source": []
  },
  {
   "cell_type": "code",
   "execution_count": 7,
   "id": "92db29e2-075c-4cbc-b97e-5f5c2b509346",
   "metadata": {
    "execution": {
     "iopub.execute_input": "2024-05-10T11:39:10.116935Z",
     "iopub.status.busy": "2024-05-10T11:39:10.116533Z",
     "iopub.status.idle": "2024-05-10T11:39:11.771787Z",
     "shell.execute_reply": "2024-05-10T11:39:11.770898Z",
     "shell.execute_reply.started": "2024-05-10T11:39:10.116904Z"
    }
   },
   "outputs": [],
   "source": [
    "mean = 0.\n",
    "err = train_data.ytrain\n",
    "\n",
    "# prior covariance\n",
    "Khh = kernel_fns.get_Khh(params_init, train_data.Xtrain)\n",
    "Khh += jnp.eye(Khh.shape[0])*NUGGET\n",
    "Lhh = linalg.cholesky(Khh, lower=True)\n",
    "\n",
    "noise_var = softplus(params_init['noise_std'])**2 #+ NUGGET\n",
    "Kyy = add_noise(Khh, noise_var, train_data.space_indicator)\n",
    " \n",
    "Lyy           = linalg.cholesky(Kyy, lower=True)\n",
    "Lyyinv_Khh      = linalg.solve_triangular(Lyy, Khh, lower=True)\n",
    "Kyyinv_Khh = linalg.solve_triangular(Lyy.T, Lyyinv_Khh, lower=False)\n",
    "\n",
    "posterior_mean = mean + jnp.matmul(Kyyinv_Khh.T, err)\n",
    "posterior_cov  = Khh - jnp.matmul(Khh, Kyyinv_Khh)\n",
    "\n",
    "a_whitened_true = linalg.solve_triangular(Lhh, posterior_mean, lower=True)\n",
    "A_whitened_true = linalg.solve_triangular(Lhh, posterior_cov, lower=True)\n",
    "\n",
    "a_whitened_true.shape, A_whitened_true.shape\n",
    "\n",
    "\n",
    "params_init['a_whitened']    =  a_whitened_true\n",
    "params_init['A_whitened_vec'] = triangle_transform.inverse(A_whitened_true)"
   ]
  },
  {
   "cell_type": "code",
   "execution_count": 4,
   "id": "38b577f8-5d7b-48db-8d54-297d8ee28425",
   "metadata": {
    "execution": {
     "iopub.execute_input": "2024-05-11T11:11:57.598348Z",
     "iopub.status.busy": "2024-05-11T11:11:57.597025Z",
     "iopub.status.idle": "2024-05-11T11:12:02.627792Z",
     "shell.execute_reply": "2024-05-11T11:12:02.623384Z",
     "shell.execute_reply.started": "2024-05-11T11:11:57.598272Z"
    }
   },
   "outputs": [],
   "source": [
    "data_opt = {}\n",
    "data_opt['rng_seed'] = 0\n",
    "data_opt['Ntrain']   = 10\n",
    "data_opt['Ntest']    = 2\n",
    "data_opt['u_fn'] = lambda x: x*jnp.sin(x*jnp.pi)\n",
    "data_opt['u_fn'] = lambda x: x**2#jnp.sin(x*jnp.pi)\n",
    "data_opt['domain'] = [[0],[1]]\n",
    "data_opt['noise_perc'] = 0.1\n",
    "\n",
    "# generate simulation data\n",
    "X, y, Xs, std_noise = gen_data(data_opt)\n",
    "\n",
    "Ntrain = X.shape[0]//3\n",
    "Xu, yu = X[:Ntrain], y[:Ntrain]\n",
    "Xf, yf = X[Ntrain:], y[Ntrain:]\n",
    "\n",
    "D = Xu.shape[1]\n",
    "\n",
    "# initialise jax_pigp params\n",
    "params_init = {}\n",
    "params_init['amp'] = softplus(1., inv=True)\n",
    "params_init['ls']  = softplus(jnp.array([1.]*D), inv=True)\n",
    "params_init['noise_std'] = softplus(jnp.array([float(std_noise)]*3)*5., inv=True)\n",
    "\n",
    "identity_trans = lambda f, a=1: f\n",
    "lin_ops = [identity_trans]*2\n",
    "mean_fn = lambda p,x: 0.#(x[0]/200.).squeeze()\n",
    "kernel_fn = jax_pigp.kernels.squared_exponential\n",
    "kernel_fns = jax_pigp.interdomain_moments.InterdomainKernelFns(kernel_fn, lin_ops)\n",
    "mean_fns   = jax_pigp.interdomain_moments.InterdomainMeanFns(mean_fn,     lin_ops)\n",
    "\n",
    "# intialise jax_pigp gp\n",
    "exact_gp = jax_pigp.models.GPR(kernel_fns, mean_fns, nugget=NUGGET)\n",
    "\n",
    "# store simulation data in training dataset\n",
    "train_data = jax_pigp.datasets.TrainDataLinearPDE([Xu, Xf, Xf], [yu, yf, Xf])\n"
   ]
  },
  {
   "cell_type": "code",
   "execution_count": 5,
   "id": "6c6f5173-8d8d-477c-85a6-8d091b87d339",
   "metadata": {
    "execution": {
     "iopub.execute_input": "2024-05-11T11:12:02.635177Z",
     "iopub.status.busy": "2024-05-11T11:12:02.634187Z",
     "iopub.status.idle": "2024-05-11T11:12:02.654994Z",
     "shell.execute_reply": "2024-05-11T11:12:02.652923Z",
     "shell.execute_reply.started": "2024-05-11T11:12:02.635082Z"
    }
   },
   "outputs": [
    {
     "data": {
      "text/plain": [
       "Array([0, 0, 0, 1, 1, 1, 1, 1, 1, 1, 2, 2, 2, 2, 2, 2, 2], dtype=int32)"
      ]
     },
     "execution_count": 5,
     "metadata": {},
     "output_type": "execute_result"
    }
   ],
   "source": [
    "train_data.space_indicator"
   ]
  },
  {
   "cell_type": "code",
   "execution_count": 11,
   "id": "102fba17-d323-4f4b-978e-5c12f4ad888e",
   "metadata": {
    "execution": {
     "iopub.execute_input": "2024-05-11T11:02:53.878080Z",
     "iopub.status.busy": "2024-05-11T11:02:53.876603Z",
     "iopub.status.idle": "2024-05-11T11:02:53.894096Z",
     "shell.execute_reply": "2024-05-11T11:02:53.892566Z",
     "shell.execute_reply.started": "2024-05-11T11:02:53.877919Z"
    }
   },
   "outputs": [
    {
     "data": {
      "text/plain": [
       "Array([0, 0, 0, 1, 1, 1, 1, 1, 1, 1, 2, 2, 2, 2, 2, 2, 2], dtype=int32)"
      ]
     },
     "execution_count": 11,
     "metadata": {},
     "output_type": "execute_result"
    }
   ],
   "source": [
    "train_data.space_indicator"
   ]
  },
  {
   "cell_type": "code",
   "execution_count": 13,
   "id": "37a3aed0-8f1f-4536-8299-01e782e0e8f3",
   "metadata": {
    "execution": {
     "iopub.execute_input": "2024-05-11T11:03:36.224975Z",
     "iopub.status.busy": "2024-05-11T11:03:36.224232Z",
     "iopub.status.idle": "2024-05-11T11:03:36.263878Z",
     "shell.execute_reply": "2024-05-11T11:03:36.261915Z",
     "shell.execute_reply.started": "2024-05-11T11:03:36.224940Z"
    }
   },
   "outputs": [],
   "source": [
    "space_indicator_list = [jnp.zeros(X.shape[0])+i for i, X in enumerate([Xu, Xf, Xf])]"
   ]
  },
  {
   "cell_type": "code",
   "execution_count": 16,
   "id": "c2f24533-2eff-4d03-8221-34189e91876d",
   "metadata": {
    "execution": {
     "iopub.execute_input": "2024-05-11T11:04:28.331245Z",
     "iopub.status.busy": "2024-05-11T11:04:28.329152Z",
     "iopub.status.idle": "2024-05-11T11:04:28.343600Z",
     "shell.execute_reply": "2024-05-11T11:04:28.340505Z",
     "shell.execute_reply.started": "2024-05-11T11:04:28.331070Z"
    }
   },
   "outputs": [],
   "source": [
    "new_res = jnp.concatenate(space_indicator_list).astype(jnp.int32)"
   ]
  },
  {
   "cell_type": "code",
   "execution_count": 17,
   "id": "a66b2599-a6fb-4998-bc44-dd5354bec97e",
   "metadata": {
    "execution": {
     "iopub.execute_input": "2024-05-11T11:04:38.215601Z",
     "iopub.status.busy": "2024-05-11T11:04:38.213006Z",
     "iopub.status.idle": "2024-05-11T11:04:38.371153Z",
     "shell.execute_reply": "2024-05-11T11:04:38.367366Z",
     "shell.execute_reply.started": "2024-05-11T11:04:38.215406Z"
    }
   },
   "outputs": [
    {
     "data": {
      "text/plain": [
       "Array([0, 0, 0, 0, 0, 0, 0, 0, 0, 0, 0, 0, 0, 0, 0, 0, 0], dtype=int32)"
      ]
     },
     "execution_count": 17,
     "metadata": {},
     "output_type": "execute_result"
    }
   ],
   "source": [
    "new_res-train_data.space_indicator"
   ]
  }
 ],
 "metadata": {
  "kernelspec": {
   "display_name": "Python 3 (ipykernel)",
   "language": "python",
   "name": "python3"
  },
  "language_info": {
   "codemirror_mode": {
    "name": "ipython",
    "version": 3
   },
   "file_extension": ".py",
   "mimetype": "text/x-python",
   "name": "python",
   "nbconvert_exporter": "python",
   "pygments_lexer": "ipython3",
   "version": "3.12.3"
  }
 },
 "nbformat": 4,
 "nbformat_minor": 5
}
